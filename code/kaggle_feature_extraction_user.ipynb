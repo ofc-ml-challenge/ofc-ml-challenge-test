{
 "cells": [
  {
   "cell_type": "markdown",
   "id": "f15d10fb",
   "metadata": {},
   "source": [
    "## JSON to CSV"
   ]
  },
  {
   "cell_type": "markdown",
   "id": "fed8d3d7",
   "metadata": {},
   "source": [
    "shb, reading all the data and generating one CSV for training and one for testing \n"
   ]
  },
  {
   "cell_type": "code",
   "execution_count": 18,
   "id": "b8a534eb",
   "metadata": {},
   "outputs": [
    {
     "name": "stdout",
     "output_type": "stream",
     "text": [
      "EDFA name to index mapping (hardcoded):\n",
      "  rdm1-co1: 0\n",
      "  rdm2-co1: 1\n",
      "  rdm3-co1: 2\n",
      "  rdm4-co1: 3\n",
      "  rdm5-co1: 4\n",
      "  rdm6-co1: 5\n",
      "  rdm1-lg1: 6\n",
      "  rdm2-lg1: 7\n",
      "Processed preamp_rdm1-co1_random_train.json, edfa_name: rdm1-co1, edfa_index: 0, rows: 10\n",
      "Processed preamp_rdm1-lg1_random_train.json, edfa_name: rdm1-lg1, edfa_index: 6, rows: 10\n",
      "Processed preamp_rdm2-co1_random_train.json, edfa_name: rdm2-co1, edfa_index: 1, rows: 10\n"
     ]
    },
    {
     "name": "stderr",
     "output_type": "stream",
     "text": [
      "C:\\Users\\mh756\\AppData\\Local\\Temp\\ipykernel_22460\\2560404785.py:54: PerformanceWarning: DataFrame is highly fragmented.  This is usually the result of calling `frame.insert` many times, which has poor performance.  Consider joining all columns at once using pd.concat(axis=1) instead. To get a de-fragmented frame, use `newframe = frame.copy()`\n",
      "  features['edfa_index'] = edfa_name_to_index.get(edfa_name, -1)  # -1 if not found\n",
      "C:\\Users\\mh756\\AppData\\Local\\Temp\\ipykernel_22460\\2560404785.py:55: PerformanceWarning: DataFrame is highly fragmented.  This is usually the result of calling `frame.insert` many times, which has poor performance.  Consider joining all columns at once using pd.concat(axis=1) instead. To get a de-fragmented frame, use `newframe = frame.copy()`\n",
      "  features['EDFA_type'] = extractionType\n",
      "C:\\Users\\mh756\\AppData\\Local\\Temp\\ipykernel_22460\\2560404785.py:54: PerformanceWarning: DataFrame is highly fragmented.  This is usually the result of calling `frame.insert` many times, which has poor performance.  Consider joining all columns at once using pd.concat(axis=1) instead. To get a de-fragmented frame, use `newframe = frame.copy()`\n",
      "  features['edfa_index'] = edfa_name_to_index.get(edfa_name, -1)  # -1 if not found\n",
      "C:\\Users\\mh756\\AppData\\Local\\Temp\\ipykernel_22460\\2560404785.py:55: PerformanceWarning: DataFrame is highly fragmented.  This is usually the result of calling `frame.insert` many times, which has poor performance.  Consider joining all columns at once using pd.concat(axis=1) instead. To get a de-fragmented frame, use `newframe = frame.copy()`\n",
      "  features['EDFA_type'] = extractionType\n",
      "C:\\Users\\mh756\\AppData\\Local\\Temp\\ipykernel_22460\\2560404785.py:54: PerformanceWarning: DataFrame is highly fragmented.  This is usually the result of calling `frame.insert` many times, which has poor performance.  Consider joining all columns at once using pd.concat(axis=1) instead. To get a de-fragmented frame, use `newframe = frame.copy()`\n",
      "  features['edfa_index'] = edfa_name_to_index.get(edfa_name, -1)  # -1 if not found\n",
      "C:\\Users\\mh756\\AppData\\Local\\Temp\\ipykernel_22460\\2560404785.py:55: PerformanceWarning: DataFrame is highly fragmented.  This is usually the result of calling `frame.insert` many times, which has poor performance.  Consider joining all columns at once using pd.concat(axis=1) instead. To get a de-fragmented frame, use `newframe = frame.copy()`\n",
      "  features['EDFA_type'] = extractionType\n",
      "C:\\Users\\mh756\\AppData\\Local\\Temp\\ipykernel_22460\\2560404785.py:54: PerformanceWarning: DataFrame is highly fragmented.  This is usually the result of calling `frame.insert` many times, which has poor performance.  Consider joining all columns at once using pd.concat(axis=1) instead. To get a de-fragmented frame, use `newframe = frame.copy()`\n",
      "  features['edfa_index'] = edfa_name_to_index.get(edfa_name, -1)  # -1 if not found\n",
      "C:\\Users\\mh756\\AppData\\Local\\Temp\\ipykernel_22460\\2560404785.py:55: PerformanceWarning: DataFrame is highly fragmented.  This is usually the result of calling `frame.insert` many times, which has poor performance.  Consider joining all columns at once using pd.concat(axis=1) instead. To get a de-fragmented frame, use `newframe = frame.copy()`\n",
      "  features['EDFA_type'] = extractionType\n",
      "C:\\Users\\mh756\\AppData\\Local\\Temp\\ipykernel_22460\\2560404785.py:54: PerformanceWarning: DataFrame is highly fragmented.  This is usually the result of calling `frame.insert` many times, which has poor performance.  Consider joining all columns at once using pd.concat(axis=1) instead. To get a de-fragmented frame, use `newframe = frame.copy()`\n",
      "  features['edfa_index'] = edfa_name_to_index.get(edfa_name, -1)  # -1 if not found\n",
      "C:\\Users\\mh756\\AppData\\Local\\Temp\\ipykernel_22460\\2560404785.py:55: PerformanceWarning: DataFrame is highly fragmented.  This is usually the result of calling `frame.insert` many times, which has poor performance.  Consider joining all columns at once using pd.concat(axis=1) instead. To get a de-fragmented frame, use `newframe = frame.copy()`\n",
      "  features['EDFA_type'] = extractionType\n",
      "C:\\Users\\mh756\\AppData\\Local\\Temp\\ipykernel_22460\\2560404785.py:54: PerformanceWarning: DataFrame is highly fragmented.  This is usually the result of calling `frame.insert` many times, which has poor performance.  Consider joining all columns at once using pd.concat(axis=1) instead. To get a de-fragmented frame, use `newframe = frame.copy()`\n",
      "  features['edfa_index'] = edfa_name_to_index.get(edfa_name, -1)  # -1 if not found\n",
      "C:\\Users\\mh756\\AppData\\Local\\Temp\\ipykernel_22460\\2560404785.py:55: PerformanceWarning: DataFrame is highly fragmented.  This is usually the result of calling `frame.insert` many times, which has poor performance.  Consider joining all columns at once using pd.concat(axis=1) instead. To get a de-fragmented frame, use `newframe = frame.copy()`\n",
      "  features['EDFA_type'] = extractionType\n",
      "C:\\Users\\mh756\\AppData\\Local\\Temp\\ipykernel_22460\\2560404785.py:54: PerformanceWarning: DataFrame is highly fragmented.  This is usually the result of calling `frame.insert` many times, which has poor performance.  Consider joining all columns at once using pd.concat(axis=1) instead. To get a de-fragmented frame, use `newframe = frame.copy()`\n",
      "  features['edfa_index'] = edfa_name_to_index.get(edfa_name, -1)  # -1 if not found\n",
      "C:\\Users\\mh756\\AppData\\Local\\Temp\\ipykernel_22460\\2560404785.py:55: PerformanceWarning: DataFrame is highly fragmented.  This is usually the result of calling `frame.insert` many times, which has poor performance.  Consider joining all columns at once using pd.concat(axis=1) instead. To get a de-fragmented frame, use `newframe = frame.copy()`\n",
      "  features['EDFA_type'] = extractionType\n",
      "C:\\Users\\mh756\\AppData\\Local\\Temp\\ipykernel_22460\\2560404785.py:54: PerformanceWarning: DataFrame is highly fragmented.  This is usually the result of calling `frame.insert` many times, which has poor performance.  Consider joining all columns at once using pd.concat(axis=1) instead. To get a de-fragmented frame, use `newframe = frame.copy()`\n",
      "  features['edfa_index'] = edfa_name_to_index.get(edfa_name, -1)  # -1 if not found\n",
      "C:\\Users\\mh756\\AppData\\Local\\Temp\\ipykernel_22460\\2560404785.py:55: PerformanceWarning: DataFrame is highly fragmented.  This is usually the result of calling `frame.insert` many times, which has poor performance.  Consider joining all columns at once using pd.concat(axis=1) instead. To get a de-fragmented frame, use `newframe = frame.copy()`\n",
      "  features['EDFA_type'] = extractionType\n"
     ]
    },
    {
     "name": "stdout",
     "output_type": "stream",
     "text": [
      "Processed preamp_rdm2-lg1_random_train.json, edfa_name: rdm2-lg1, edfa_index: 7, rows: 10\n",
      "Processed preamp_rdm3-co1_random_train.json, edfa_name: rdm3-co1, edfa_index: 2, rows: 10\n",
      "Processed preamp_rdm4-co1_random_train.json, edfa_name: rdm4-co1, edfa_index: 3, rows: 10\n",
      "Processed preamp_rdm5-co1_random_train.json, edfa_name: rdm5-co1, edfa_index: 4, rows: 10\n",
      "Processed preamp_rdm6-co1_random_train.json, edfa_name: rdm6-co1, edfa_index: 5, rows: 10\n"
     ]
    },
    {
     "name": "stderr",
     "output_type": "stream",
     "text": [
      "C:\\Users\\mh756\\AppData\\Local\\Temp\\ipykernel_22460\\2560404785.py:54: PerformanceWarning: DataFrame is highly fragmented.  This is usually the result of calling `frame.insert` many times, which has poor performance.  Consider joining all columns at once using pd.concat(axis=1) instead. To get a de-fragmented frame, use `newframe = frame.copy()`\n",
      "  features['edfa_index'] = edfa_name_to_index.get(edfa_name, -1)  # -1 if not found\n",
      "C:\\Users\\mh756\\AppData\\Local\\Temp\\ipykernel_22460\\2560404785.py:55: PerformanceWarning: DataFrame is highly fragmented.  This is usually the result of calling `frame.insert` many times, which has poor performance.  Consider joining all columns at once using pd.concat(axis=1) instead. To get a de-fragmented frame, use `newframe = frame.copy()`\n",
      "  features['EDFA_type'] = extractionType\n"
     ]
    },
    {
     "name": "stdout",
     "output_type": "stream",
     "text": [
      "Processed preamp_rdm1-co1_random_test.json, edfa_name: rdm1-co1, edfa_index: 0, rows: 50\n"
     ]
    },
    {
     "name": "stderr",
     "output_type": "stream",
     "text": [
      "C:\\Users\\mh756\\AppData\\Local\\Temp\\ipykernel_22460\\2560404785.py:54: PerformanceWarning: DataFrame is highly fragmented.  This is usually the result of calling `frame.insert` many times, which has poor performance.  Consider joining all columns at once using pd.concat(axis=1) instead. To get a de-fragmented frame, use `newframe = frame.copy()`\n",
      "  features['edfa_index'] = edfa_name_to_index.get(edfa_name, -1)  # -1 if not found\n",
      "C:\\Users\\mh756\\AppData\\Local\\Temp\\ipykernel_22460\\2560404785.py:55: PerformanceWarning: DataFrame is highly fragmented.  This is usually the result of calling `frame.insert` many times, which has poor performance.  Consider joining all columns at once using pd.concat(axis=1) instead. To get a de-fragmented frame, use `newframe = frame.copy()`\n",
      "  features['EDFA_type'] = extractionType\n",
      "C:\\Users\\mh756\\AppData\\Local\\Temp\\ipykernel_22460\\2560404785.py:54: PerformanceWarning: DataFrame is highly fragmented.  This is usually the result of calling `frame.insert` many times, which has poor performance.  Consider joining all columns at once using pd.concat(axis=1) instead. To get a de-fragmented frame, use `newframe = frame.copy()`\n",
      "  features['edfa_index'] = edfa_name_to_index.get(edfa_name, -1)  # -1 if not found\n",
      "C:\\Users\\mh756\\AppData\\Local\\Temp\\ipykernel_22460\\2560404785.py:55: PerformanceWarning: DataFrame is highly fragmented.  This is usually the result of calling `frame.insert` many times, which has poor performance.  Consider joining all columns at once using pd.concat(axis=1) instead. To get a de-fragmented frame, use `newframe = frame.copy()`\n",
      "  features['EDFA_type'] = extractionType\n"
     ]
    },
    {
     "name": "stdout",
     "output_type": "stream",
     "text": [
      "Processed preamp_rdm1-lg1_random_test.json, edfa_name: rdm1-lg1, edfa_index: 6, rows: 50\n",
      "Processed preamp_rdm2-co1_random_test.json, edfa_name: rdm2-co1, edfa_index: 1, rows: 50\n"
     ]
    },
    {
     "name": "stderr",
     "output_type": "stream",
     "text": [
      "C:\\Users\\mh756\\AppData\\Local\\Temp\\ipykernel_22460\\2560404785.py:54: PerformanceWarning: DataFrame is highly fragmented.  This is usually the result of calling `frame.insert` many times, which has poor performance.  Consider joining all columns at once using pd.concat(axis=1) instead. To get a de-fragmented frame, use `newframe = frame.copy()`\n",
      "  features['edfa_index'] = edfa_name_to_index.get(edfa_name, -1)  # -1 if not found\n",
      "C:\\Users\\mh756\\AppData\\Local\\Temp\\ipykernel_22460\\2560404785.py:55: PerformanceWarning: DataFrame is highly fragmented.  This is usually the result of calling `frame.insert` many times, which has poor performance.  Consider joining all columns at once using pd.concat(axis=1) instead. To get a de-fragmented frame, use `newframe = frame.copy()`\n",
      "  features['EDFA_type'] = extractionType\n"
     ]
    },
    {
     "name": "stdout",
     "output_type": "stream",
     "text": [
      "Processed preamp_rdm2-lg1_random_test.json, edfa_name: rdm2-lg1, edfa_index: 7, rows: 50\n"
     ]
    },
    {
     "name": "stderr",
     "output_type": "stream",
     "text": [
      "C:\\Users\\mh756\\AppData\\Local\\Temp\\ipykernel_22460\\2560404785.py:54: PerformanceWarning: DataFrame is highly fragmented.  This is usually the result of calling `frame.insert` many times, which has poor performance.  Consider joining all columns at once using pd.concat(axis=1) instead. To get a de-fragmented frame, use `newframe = frame.copy()`\n",
      "  features['edfa_index'] = edfa_name_to_index.get(edfa_name, -1)  # -1 if not found\n",
      "C:\\Users\\mh756\\AppData\\Local\\Temp\\ipykernel_22460\\2560404785.py:55: PerformanceWarning: DataFrame is highly fragmented.  This is usually the result of calling `frame.insert` many times, which has poor performance.  Consider joining all columns at once using pd.concat(axis=1) instead. To get a de-fragmented frame, use `newframe = frame.copy()`\n",
      "  features['EDFA_type'] = extractionType\n"
     ]
    },
    {
     "name": "stdout",
     "output_type": "stream",
     "text": [
      "Processed preamp_rdm3-co1_random_test.json, edfa_name: rdm3-co1, edfa_index: 2, rows: 50\n"
     ]
    },
    {
     "name": "stderr",
     "output_type": "stream",
     "text": [
      "C:\\Users\\mh756\\AppData\\Local\\Temp\\ipykernel_22460\\2560404785.py:54: PerformanceWarning: DataFrame is highly fragmented.  This is usually the result of calling `frame.insert` many times, which has poor performance.  Consider joining all columns at once using pd.concat(axis=1) instead. To get a de-fragmented frame, use `newframe = frame.copy()`\n",
      "  features['edfa_index'] = edfa_name_to_index.get(edfa_name, -1)  # -1 if not found\n",
      "C:\\Users\\mh756\\AppData\\Local\\Temp\\ipykernel_22460\\2560404785.py:55: PerformanceWarning: DataFrame is highly fragmented.  This is usually the result of calling `frame.insert` many times, which has poor performance.  Consider joining all columns at once using pd.concat(axis=1) instead. To get a de-fragmented frame, use `newframe = frame.copy()`\n",
      "  features['EDFA_type'] = extractionType\n",
      "C:\\Users\\mh756\\AppData\\Local\\Temp\\ipykernel_22460\\2560404785.py:54: PerformanceWarning: DataFrame is highly fragmented.  This is usually the result of calling `frame.insert` many times, which has poor performance.  Consider joining all columns at once using pd.concat(axis=1) instead. To get a de-fragmented frame, use `newframe = frame.copy()`\n",
      "  features['edfa_index'] = edfa_name_to_index.get(edfa_name, -1)  # -1 if not found\n",
      "C:\\Users\\mh756\\AppData\\Local\\Temp\\ipykernel_22460\\2560404785.py:55: PerformanceWarning: DataFrame is highly fragmented.  This is usually the result of calling `frame.insert` many times, which has poor performance.  Consider joining all columns at once using pd.concat(axis=1) instead. To get a de-fragmented frame, use `newframe = frame.copy()`\n",
      "  features['EDFA_type'] = extractionType\n"
     ]
    },
    {
     "name": "stdout",
     "output_type": "stream",
     "text": [
      "Processed preamp_rdm4-co1_random_test.json, edfa_name: rdm4-co1, edfa_index: 3, rows: 50\n",
      "Processed preamp_rdm5-co1_random_test.json, edfa_name: rdm5-co1, edfa_index: 4, rows: 50\n",
      "Processed preamp_rdm6-co1_random_test.json, edfa_name: rdm6-co1, edfa_index: 5, rows: 50\n"
     ]
    },
    {
     "name": "stderr",
     "output_type": "stream",
     "text": [
      "C:\\Users\\mh756\\AppData\\Local\\Temp\\ipykernel_22460\\2560404785.py:54: PerformanceWarning: DataFrame is highly fragmented.  This is usually the result of calling `frame.insert` many times, which has poor performance.  Consider joining all columns at once using pd.concat(axis=1) instead. To get a de-fragmented frame, use `newframe = frame.copy()`\n",
      "  features['edfa_index'] = edfa_name_to_index.get(edfa_name, -1)  # -1 if not found\n",
      "C:\\Users\\mh756\\AppData\\Local\\Temp\\ipykernel_22460\\2560404785.py:55: PerformanceWarning: DataFrame is highly fragmented.  This is usually the result of calling `frame.insert` many times, which has poor performance.  Consider joining all columns at once using pd.concat(axis=1) instead. To get a de-fragmented frame, use `newframe = frame.copy()`\n",
      "  features['EDFA_type'] = extractionType\n"
     ]
    }
   ],
   "source": [
    "import os, json\n",
    "import pandas as pd\n",
    "from libs.edfa_feature_extraction_libs import featureExtraction_ML\n",
    "\n",
    "shb_train_dir = '../dataset/ML_challenge_user/Train/shb'\n",
    "shb_test_dir = '../dataset/ML_challenge_user/Test/shb'\n",
    "\n",
    "shb_output_csv_train = '../Features/Train/shb/preamp_random_features_train.csv'\n",
    "shb_output_csv_test = '../Features/Test/shb/preamp_random_features_test.csv'\n",
    "\n",
    "# ---- HARDCODED MAPPING ----\n",
    "edfa_name_to_index = {\n",
    "    'rdm1-co1': 0,\n",
    "    'rdm2-co1': 1,\n",
    "    'rdm3-co1': 2,\n",
    "    'rdm4-co1': 3,\n",
    "    'rdm5-co1': 4,\n",
    "    'rdm6-co1': 5,\n",
    "    'rdm1-lg1': 6,\n",
    "    'rdm2-lg1': 7\n",
    "}\n",
    "print(\"EDFA name to index mapping (hardcoded):\")\n",
    "for name, idx in edfa_name_to_index.items():\n",
    "    print(f\"  {name}: {idx}\")\n",
    "\n",
    "def extract_features_from_dir(data_dir, extractionType, channelType, featureType):\n",
    "    all_features = pd.DataFrame()\n",
    "    # print(sorted(os.listdir(data_dir)))\n",
    "    for fname in sorted(os.listdir(data_dir)):\n",
    "        # print(\"-----------------------\" + featureType + \": \" + fname)\n",
    "        if not fname.endswith('.json'):\n",
    "            continue\n",
    "        file_path = os.path.join(data_dir, fname)\n",
    "        \n",
    "        with open(file_path, 'r') as f:\n",
    "            data = json.load(f)\n",
    "        if 'measurement_data' not in data or not data['measurement_data']:\n",
    "            print(f\"Skipping {fname}: no measurement_data\")\n",
    "            continue\n",
    "        \n",
    "        if 'preamp_' in fname:\n",
    "            edfa_name = fname.split('preamp_')[1].split('_')[0]\n",
    "        elif 'booster_' in fname:\n",
    "            edfa_name = fname.split('booster_')[1].split('_')[0]\n",
    "        else:\n",
    "            edfa_name = fname.split('_')[1] if len(fname.split('_')) > 1 else fname\n",
    "        features = featureExtraction_ML(\n",
    "            data['measurement_data'],\n",
    "            extractionType=extractionType,\n",
    "            channelType=channelType,\n",
    "            featureType=featureType,\n",
    "            channelNum=data['measurement_setup'].get('roadm_wss_num_channel', 95)\n",
    "        )\n",
    "        features['edfa_index'] = edfa_name_to_index.get(edfa_name, -1)  # -1 if not found\n",
    "        features['EDFA_type'] = extractionType\n",
    "        \n",
    "        # Move edfa_index to the first column\n",
    "        cols = features.columns.tolist()\n",
    "        cols.insert(0, cols.pop(cols.index('EDFA_type')))\n",
    "        cols.insert(0, cols.pop(cols.index('edfa_index')))\n",
    "        features = features[cols]\n",
    "        all_features = pd.concat([all_features, features], ignore_index=True)\n",
    "        print(f\"Processed {fname}, edfa_name: {edfa_name}, edfa_index: {edfa_name_to_index.get(edfa_name, -1)}, rows: {len(features)}\")\n",
    "        # except Exception as e:\n",
    "        #     print(f\"Error processing {fname}: {e}\")\n",
    "    return all_features\n",
    "\n",
    "# Extract features\n",
    "shb_train_features = extract_features_from_dir(\n",
    "    shb_train_dir, extractionType='preamp', channelType='random', featureType='train'\n",
    ")\n",
    "shb_test_features = extract_features_from_dir(\n",
    "    shb_test_dir, extractionType='preamp', channelType='random', featureType='test'\n",
    ")\n",
    "\n",
    "shb_train_features.to_csv(shb_output_csv_train, index=False)\n",
    "shb_test_features.to_csv(shb_output_csv_test, index=False)"
   ]
  },
  {
   "cell_type": "markdown",
   "id": "0c3d996a",
   "metadata": {},
   "source": [
    "Aging effect"
   ]
  },
  {
   "cell_type": "code",
   "execution_count": 19,
   "id": "9dadc7e4",
   "metadata": {},
   "outputs": [
    {
     "name": "stdout",
     "output_type": "stream",
     "text": [
      "EDFA name to index mapping (hardcoded):\n",
      "  rdm1-co1: 0\n",
      "  rdm2-co1: 1\n",
      "  rdm3-co1: 2\n",
      "  rdm4-co1: 3\n",
      "  rdm5-co1: 4\n",
      "  rdm6-co1: 5\n",
      "  rdm1-lg1: 6\n",
      "  rdm2-lg1: 7\n",
      "../dataset/ML_challenge_user/Train/aging\\booster_rdm1-co1_fix_train.json\n"
     ]
    },
    {
     "name": "stderr",
     "output_type": "stream",
     "text": [
      "C:\\Users\\mh756\\AppData\\Local\\Temp\\ipykernel_22460\\2031902943.py:76: PerformanceWarning: DataFrame is highly fragmented.  This is usually the result of calling `frame.insert` many times, which has poor performance.  Consider joining all columns at once using pd.concat(axis=1) instead. To get a de-fragmented frame, use `newframe = frame.copy()`\n",
      "  features['edfa_index'] = edfa_name_to_index.get(edfa_name, -1)\n",
      "C:\\Users\\mh756\\AppData\\Local\\Temp\\ipykernel_22460\\2031902943.py:77: PerformanceWarning: DataFrame is highly fragmented.  This is usually the result of calling `frame.insert` many times, which has poor performance.  Consider joining all columns at once using pd.concat(axis=1) instead. To get a de-fragmented frame, use `newframe = frame.copy()`\n",
      "  features['EDFA_type'] = extractionType_local\n",
      "C:\\Users\\mh756\\AppData\\Local\\Temp\\ipykernel_22460\\2031902943.py:76: PerformanceWarning: DataFrame is highly fragmented.  This is usually the result of calling `frame.insert` many times, which has poor performance.  Consider joining all columns at once using pd.concat(axis=1) instead. To get a de-fragmented frame, use `newframe = frame.copy()`\n",
      "  features['edfa_index'] = edfa_name_to_index.get(edfa_name, -1)\n",
      "C:\\Users\\mh756\\AppData\\Local\\Temp\\ipykernel_22460\\2031902943.py:77: PerformanceWarning: DataFrame is highly fragmented.  This is usually the result of calling `frame.insert` many times, which has poor performance.  Consider joining all columns at once using pd.concat(axis=1) instead. To get a de-fragmented frame, use `newframe = frame.copy()`\n",
      "  features['EDFA_type'] = extractionType_local\n"
     ]
    },
    {
     "name": "stdout",
     "output_type": "stream",
     "text": [
      "Processed booster_rdm1-co1_fix_train.json, extractionType: booster, channelType: fix, edfa_name: rdm1-co1, edfa_index: 0, rows: 41\n",
      "../dataset/ML_challenge_user/Train/aging\\booster_rdm2-co1_fix_train.json\n",
      "Processed booster_rdm2-co1_fix_train.json, extractionType: booster, channelType: fix, edfa_name: rdm2-co1, edfa_index: 1, rows: 41\n",
      "../dataset/ML_challenge_user/Train/aging\\preamp_rdm1-co1_fix_train.json\n"
     ]
    },
    {
     "name": "stderr",
     "output_type": "stream",
     "text": [
      "C:\\Users\\mh756\\AppData\\Local\\Temp\\ipykernel_22460\\2031902943.py:76: PerformanceWarning: DataFrame is highly fragmented.  This is usually the result of calling `frame.insert` many times, which has poor performance.  Consider joining all columns at once using pd.concat(axis=1) instead. To get a de-fragmented frame, use `newframe = frame.copy()`\n",
      "  features['edfa_index'] = edfa_name_to_index.get(edfa_name, -1)\n",
      "C:\\Users\\mh756\\AppData\\Local\\Temp\\ipykernel_22460\\2031902943.py:77: PerformanceWarning: DataFrame is highly fragmented.  This is usually the result of calling `frame.insert` many times, which has poor performance.  Consider joining all columns at once using pd.concat(axis=1) instead. To get a de-fragmented frame, use `newframe = frame.copy()`\n",
      "  features['EDFA_type'] = extractionType_local\n"
     ]
    },
    {
     "name": "stdout",
     "output_type": "stream",
     "text": [
      "Processed preamp_rdm1-co1_fix_train.json, extractionType: preamp, channelType: fix, edfa_name: rdm1-co1, edfa_index: 0, rows: 41\n",
      "../dataset/ML_challenge_user/Train/aging\\preamp_rdm2-co1_fix_train.json\n"
     ]
    },
    {
     "name": "stderr",
     "output_type": "stream",
     "text": [
      "C:\\Users\\mh756\\AppData\\Local\\Temp\\ipykernel_22460\\2031902943.py:76: PerformanceWarning: DataFrame is highly fragmented.  This is usually the result of calling `frame.insert` many times, which has poor performance.  Consider joining all columns at once using pd.concat(axis=1) instead. To get a de-fragmented frame, use `newframe = frame.copy()`\n",
      "  features['edfa_index'] = edfa_name_to_index.get(edfa_name, -1)\n",
      "C:\\Users\\mh756\\AppData\\Local\\Temp\\ipykernel_22460\\2031902943.py:77: PerformanceWarning: DataFrame is highly fragmented.  This is usually the result of calling `frame.insert` many times, which has poor performance.  Consider joining all columns at once using pd.concat(axis=1) instead. To get a de-fragmented frame, use `newframe = frame.copy()`\n",
      "  features['EDFA_type'] = extractionType_local\n"
     ]
    },
    {
     "name": "stdout",
     "output_type": "stream",
     "text": [
      "Processed preamp_rdm2-co1_fix_train.json, extractionType: preamp, channelType: fix, edfa_name: rdm2-co1, edfa_index: 1, rows: 41\n",
      "../dataset/ML_challenge_user/Test/aging\\booster_rdm1-co1_goalpost_test.json\n"
     ]
    },
    {
     "name": "stderr",
     "output_type": "stream",
     "text": [
      "C:\\Users\\mh756\\AppData\\Local\\Temp\\ipykernel_22460\\2031902943.py:76: PerformanceWarning: DataFrame is highly fragmented.  This is usually the result of calling `frame.insert` many times, which has poor performance.  Consider joining all columns at once using pd.concat(axis=1) instead. To get a de-fragmented frame, use `newframe = frame.copy()`\n",
      "  features['edfa_index'] = edfa_name_to_index.get(edfa_name, -1)\n",
      "C:\\Users\\mh756\\AppData\\Local\\Temp\\ipykernel_22460\\2031902943.py:77: PerformanceWarning: DataFrame is highly fragmented.  This is usually the result of calling `frame.insert` many times, which has poor performance.  Consider joining all columns at once using pd.concat(axis=1) instead. To get a de-fragmented frame, use `newframe = frame.copy()`\n",
      "  features['EDFA_type'] = extractionType_local\n"
     ]
    },
    {
     "name": "stdout",
     "output_type": "stream",
     "text": [
      "Processed booster_rdm1-co1_goalpost_test.json, extractionType: booster, channelType: fix, edfa_name: rdm1-co1, edfa_index: 0, rows: 216\n",
      "../dataset/ML_challenge_user/Test/aging\\booster_rdm1-co1_random_test.json\n"
     ]
    },
    {
     "name": "stderr",
     "output_type": "stream",
     "text": [
      "C:\\Users\\mh756\\AppData\\Local\\Temp\\ipykernel_22460\\2031902943.py:76: PerformanceWarning: DataFrame is highly fragmented.  This is usually the result of calling `frame.insert` many times, which has poor performance.  Consider joining all columns at once using pd.concat(axis=1) instead. To get a de-fragmented frame, use `newframe = frame.copy()`\n",
      "  features['edfa_index'] = edfa_name_to_index.get(edfa_name, -1)\n",
      "C:\\Users\\mh756\\AppData\\Local\\Temp\\ipykernel_22460\\2031902943.py:77: PerformanceWarning: DataFrame is highly fragmented.  This is usually the result of calling `frame.insert` many times, which has poor performance.  Consider joining all columns at once using pd.concat(axis=1) instead. To get a de-fragmented frame, use `newframe = frame.copy()`\n",
      "  features['EDFA_type'] = extractionType_local\n"
     ]
    },
    {
     "name": "stdout",
     "output_type": "stream",
     "text": [
      "Processed booster_rdm1-co1_random_test.json, extractionType: booster, channelType: random, edfa_name: rdm1-co1, edfa_index: 0, rows: 1100\n",
      "../dataset/ML_challenge_user/Test/aging\\booster_rdm2-co1_goalpost_test.json\n"
     ]
    },
    {
     "name": "stderr",
     "output_type": "stream",
     "text": [
      "C:\\Users\\mh756\\AppData\\Local\\Temp\\ipykernel_22460\\2031902943.py:76: PerformanceWarning: DataFrame is highly fragmented.  This is usually the result of calling `frame.insert` many times, which has poor performance.  Consider joining all columns at once using pd.concat(axis=1) instead. To get a de-fragmented frame, use `newframe = frame.copy()`\n",
      "  features['edfa_index'] = edfa_name_to_index.get(edfa_name, -1)\n",
      "C:\\Users\\mh756\\AppData\\Local\\Temp\\ipykernel_22460\\2031902943.py:77: PerformanceWarning: DataFrame is highly fragmented.  This is usually the result of calling `frame.insert` many times, which has poor performance.  Consider joining all columns at once using pd.concat(axis=1) instead. To get a de-fragmented frame, use `newframe = frame.copy()`\n",
      "  features['EDFA_type'] = extractionType_local\n"
     ]
    },
    {
     "name": "stdout",
     "output_type": "stream",
     "text": [
      "Processed booster_rdm2-co1_goalpost_test.json, extractionType: booster, channelType: fix, edfa_name: rdm2-co1, edfa_index: 1, rows: 216\n",
      "../dataset/ML_challenge_user/Test/aging\\booster_rdm2-co1_random_test.json\n"
     ]
    },
    {
     "name": "stderr",
     "output_type": "stream",
     "text": [
      "C:\\Users\\mh756\\AppData\\Local\\Temp\\ipykernel_22460\\2031902943.py:76: PerformanceWarning: DataFrame is highly fragmented.  This is usually the result of calling `frame.insert` many times, which has poor performance.  Consider joining all columns at once using pd.concat(axis=1) instead. To get a de-fragmented frame, use `newframe = frame.copy()`\n",
      "  features['edfa_index'] = edfa_name_to_index.get(edfa_name, -1)\n",
      "C:\\Users\\mh756\\AppData\\Local\\Temp\\ipykernel_22460\\2031902943.py:77: PerformanceWarning: DataFrame is highly fragmented.  This is usually the result of calling `frame.insert` many times, which has poor performance.  Consider joining all columns at once using pd.concat(axis=1) instead. To get a de-fragmented frame, use `newframe = frame.copy()`\n",
      "  features['EDFA_type'] = extractionType_local\n"
     ]
    },
    {
     "name": "stdout",
     "output_type": "stream",
     "text": [
      "Processed booster_rdm2-co1_random_test.json, extractionType: booster, channelType: random, edfa_name: rdm2-co1, edfa_index: 1, rows: 1100\n",
      "../dataset/ML_challenge_user/Test/aging\\preamp_rdm1-co1_goalpost_test.json\n"
     ]
    },
    {
     "name": "stderr",
     "output_type": "stream",
     "text": [
      "C:\\Users\\mh756\\AppData\\Local\\Temp\\ipykernel_22460\\2031902943.py:76: PerformanceWarning: DataFrame is highly fragmented.  This is usually the result of calling `frame.insert` many times, which has poor performance.  Consider joining all columns at once using pd.concat(axis=1) instead. To get a de-fragmented frame, use `newframe = frame.copy()`\n",
      "  features['edfa_index'] = edfa_name_to_index.get(edfa_name, -1)\n",
      "C:\\Users\\mh756\\AppData\\Local\\Temp\\ipykernel_22460\\2031902943.py:77: PerformanceWarning: DataFrame is highly fragmented.  This is usually the result of calling `frame.insert` many times, which has poor performance.  Consider joining all columns at once using pd.concat(axis=1) instead. To get a de-fragmented frame, use `newframe = frame.copy()`\n",
      "  features['EDFA_type'] = extractionType_local\n"
     ]
    },
    {
     "name": "stdout",
     "output_type": "stream",
     "text": [
      "Processed preamp_rdm1-co1_goalpost_test.json, extractionType: preamp, channelType: fix, edfa_name: rdm1-co1, edfa_index: 0, rows: 216\n",
      "../dataset/ML_challenge_user/Test/aging\\preamp_rdm1-co1_random_test.json\n"
     ]
    },
    {
     "name": "stderr",
     "output_type": "stream",
     "text": [
      "C:\\Users\\mh756\\AppData\\Local\\Temp\\ipykernel_22460\\2031902943.py:76: PerformanceWarning: DataFrame is highly fragmented.  This is usually the result of calling `frame.insert` many times, which has poor performance.  Consider joining all columns at once using pd.concat(axis=1) instead. To get a de-fragmented frame, use `newframe = frame.copy()`\n",
      "  features['edfa_index'] = edfa_name_to_index.get(edfa_name, -1)\n",
      "C:\\Users\\mh756\\AppData\\Local\\Temp\\ipykernel_22460\\2031902943.py:77: PerformanceWarning: DataFrame is highly fragmented.  This is usually the result of calling `frame.insert` many times, which has poor performance.  Consider joining all columns at once using pd.concat(axis=1) instead. To get a de-fragmented frame, use `newframe = frame.copy()`\n",
      "  features['EDFA_type'] = extractionType_local\n"
     ]
    },
    {
     "name": "stdout",
     "output_type": "stream",
     "text": [
      "Processed preamp_rdm1-co1_random_test.json, extractionType: preamp, channelType: random, edfa_name: rdm1-co1, edfa_index: 0, rows: 1100\n",
      "../dataset/ML_challenge_user/Test/aging\\preamp_rdm2-co1_goalpost_test.json\n"
     ]
    },
    {
     "name": "stderr",
     "output_type": "stream",
     "text": [
      "C:\\Users\\mh756\\AppData\\Local\\Temp\\ipykernel_22460\\2031902943.py:76: PerformanceWarning: DataFrame is highly fragmented.  This is usually the result of calling `frame.insert` many times, which has poor performance.  Consider joining all columns at once using pd.concat(axis=1) instead. To get a de-fragmented frame, use `newframe = frame.copy()`\n",
      "  features['edfa_index'] = edfa_name_to_index.get(edfa_name, -1)\n",
      "C:\\Users\\mh756\\AppData\\Local\\Temp\\ipykernel_22460\\2031902943.py:77: PerformanceWarning: DataFrame is highly fragmented.  This is usually the result of calling `frame.insert` many times, which has poor performance.  Consider joining all columns at once using pd.concat(axis=1) instead. To get a de-fragmented frame, use `newframe = frame.copy()`\n",
      "  features['EDFA_type'] = extractionType_local\n"
     ]
    },
    {
     "name": "stdout",
     "output_type": "stream",
     "text": [
      "Processed preamp_rdm2-co1_goalpost_test.json, extractionType: preamp, channelType: fix, edfa_name: rdm2-co1, edfa_index: 1, rows: 216\n",
      "../dataset/ML_challenge_user/Test/aging\\preamp_rdm2-co1_random_test.json\n"
     ]
    },
    {
     "name": "stderr",
     "output_type": "stream",
     "text": [
      "C:\\Users\\mh756\\AppData\\Local\\Temp\\ipykernel_22460\\2031902943.py:76: PerformanceWarning: DataFrame is highly fragmented.  This is usually the result of calling `frame.insert` many times, which has poor performance.  Consider joining all columns at once using pd.concat(axis=1) instead. To get a de-fragmented frame, use `newframe = frame.copy()`\n",
      "  features['edfa_index'] = edfa_name_to_index.get(edfa_name, -1)\n",
      "C:\\Users\\mh756\\AppData\\Local\\Temp\\ipykernel_22460\\2031902943.py:77: PerformanceWarning: DataFrame is highly fragmented.  This is usually the result of calling `frame.insert` many times, which has poor performance.  Consider joining all columns at once using pd.concat(axis=1) instead. To get a de-fragmented frame, use `newframe = frame.copy()`\n",
      "  features['EDFA_type'] = extractionType_local\n"
     ]
    },
    {
     "name": "stdout",
     "output_type": "stream",
     "text": [
      "Processed preamp_rdm2-co1_random_test.json, extractionType: preamp, channelType: random, edfa_name: rdm2-co1, edfa_index: 1, rows: 1100\n"
     ]
    }
   ],
   "source": [
    "import os, json\n",
    "import pandas as pd\n",
    "from libs.edfa_feature_extraction_libs import featureExtraction_ML\n",
    "\n",
    "aging_train_dir = '../dataset/ML_challenge_user/Train/aging'\n",
    "aging_test_dir = '../dataset/ML_challenge_user/Test/aging'\n",
    "\n",
    "aging_output_csv_train = '../Features/Train/aging/preamp_random_features_train.csv'\n",
    "aging_output_csv_test = '../Features/Test/aging/preamp_random_features_test.csv'\n",
    "\n",
    "# ---- HARDCODED MAPPING ----\n",
    "edfa_name_to_index = {\n",
    "    'rdm1-co1': 0,\n",
    "    'rdm2-co1': 1,\n",
    "    'rdm3-co1': 2,\n",
    "    'rdm4-co1': 3,\n",
    "    'rdm5-co1': 4,\n",
    "    'rdm6-co1': 5,\n",
    "    'rdm1-lg1': 6,\n",
    "    'rdm2-lg1': 7\n",
    "}\n",
    "print(\"EDFA name to index mapping (hardcoded):\")\n",
    "for name, idx in edfa_name_to_index.items():\n",
    "    print(f\"  {name}: {idx}\")\n",
    "\n",
    "def extract_features_from_dir(data_dir, featureType):\n",
    "    all_features = pd.DataFrame()\n",
    "    for fname in sorted(os.listdir(data_dir)):\n",
    "        if not fname.endswith('.json'):\n",
    "            continue\n",
    "        file_path = os.path.join(data_dir, fname)\n",
    "        print(file_path)\n",
    "        with open(file_path, 'r') as f:\n",
    "            data = json.load(f)\n",
    "        if 'measurement_data' not in data or not data['measurement_data']:\n",
    "            print(f\"Skipping {fname}: no measurement_data\")\n",
    "            continue\n",
    "\n",
    "        # Infer extractionType\n",
    "        if 'preamp' in fname:\n",
    "            extractionType_local = 'preamp'\n",
    "        elif 'booster' in fname:\n",
    "            extractionType_local = 'booster'\n",
    "        else:\n",
    "            print(f\"Skipping {fname}: cannot determine extractionType\")\n",
    "            continue\n",
    "\n",
    "        # Improved channelType detection\n",
    "        if '_fix_' in fname or '_goalpost_' in fname:\n",
    "            channelType_local = 'fix'\n",
    "        elif '_random_' in fname:\n",
    "            channelType_local = 'random'\n",
    "        elif '_extraRandom_' in fname:\n",
    "            channelType_local = 'extraRandom'\n",
    "        elif '_extraLow_' in fname:\n",
    "            channelType_local = 'extraLow'\n",
    "        else:\n",
    "            print(f\"Skipping {fname}: cannot determine channelType\")\n",
    "            continue\n",
    "\n",
    "        # Infer edfa_name\n",
    "        if 'preamp_' in fname:\n",
    "            edfa_name = fname.split('preamp_')[1].split('_')[0]\n",
    "        elif 'booster_' in fname:\n",
    "            edfa_name = fname.split('booster_')[1].split('_')[0]\n",
    "        else:\n",
    "            edfa_name = fname.split('_')[1] if len(fname.split('_')) > 1 else fname\n",
    "\n",
    "        features = featureExtraction_ML(\n",
    "            data['measurement_data'],\n",
    "            extractionType=extractionType_local,\n",
    "            channelType=channelType_local,\n",
    "            featureType=featureType,\n",
    "            # channelNum=data['measurement_setup'].get('roadm_wss_num_channel', 95)\n",
    "        )\n",
    "        features['edfa_index'] = edfa_name_to_index.get(edfa_name, -1)\n",
    "        features['EDFA_type'] = extractionType_local\n",
    "        # Move edfa_index to the first column\n",
    "        cols = features.columns.tolist()\n",
    "        cols.insert(0, cols.pop(cols.index('EDFA_type')))\n",
    "        cols.insert(0, cols.pop(cols.index('edfa_index')))\n",
    "        features = features[cols]\n",
    "        all_features = pd.concat([all_features, features], ignore_index=True)\n",
    "        print(f\"Processed {fname}, extractionType: {extractionType_local}, channelType: {channelType_local}, edfa_name: {edfa_name}, edfa_index: {edfa_name_to_index.get(edfa_name, -1)}, rows: {len(features)}\")\n",
    "    return all_features\n",
    "\n",
    "# For aging train and test\n",
    "aging_train_features = extract_features_from_dir(\n",
    "    aging_train_dir, featureType='train'\n",
    ")\n",
    "aging_test_features = extract_features_from_dir(\n",
    "    aging_test_dir, featureType='test'\n",
    ")\n",
    "aging_train_features.to_csv(aging_output_csv_train, index=False)\n",
    "aging_test_features.to_csv(aging_output_csv_test, index=False)"
   ]
  },
  {
   "cell_type": "markdown",
   "id": "fc685cd9",
   "metadata": {},
   "source": [
    "unseen gain and tilt feature extraction"
   ]
  },
  {
   "cell_type": "code",
   "execution_count": 20,
   "id": "394294f6",
   "metadata": {},
   "outputs": [
    {
     "name": "stdout",
     "output_type": "stream",
     "text": [
      "EDFA name to index mapping (hardcoded):\n",
      "  rdm1-co1: 0\n",
      "  rdm2-co1: 1\n",
      "  rdm3-co1: 2\n",
      "  rdm4-co1: 3\n",
      "  rdm5-co1: 4\n",
      "  rdm6-co1: 5\n",
      "  rdm1-lg1: 6\n",
      "  rdm2-lg1: 7\n"
     ]
    },
    {
     "name": "stderr",
     "output_type": "stream",
     "text": [
      "C:\\Users\\mh756\\AppData\\Local\\Temp\\ipykernel_22460\\1019424112.py:75: PerformanceWarning: DataFrame is highly fragmented.  This is usually the result of calling `frame.insert` many times, which has poor performance.  Consider joining all columns at once using pd.concat(axis=1) instead. To get a de-fragmented frame, use `newframe = frame.copy()`\n",
      "  features['edfa_index'] = edfa_name_to_index.get(edfa_name, -1)\n",
      "C:\\Users\\mh756\\AppData\\Local\\Temp\\ipykernel_22460\\1019424112.py:76: PerformanceWarning: DataFrame is highly fragmented.  This is usually the result of calling `frame.insert` many times, which has poor performance.  Consider joining all columns at once using pd.concat(axis=1) instead. To get a de-fragmented frame, use `newframe = frame.copy()`\n",
      "  features['EDFA_type'] = extractionType_local\n",
      "C:\\Users\\mh756\\AppData\\Local\\Temp\\ipykernel_22460\\1019424112.py:75: PerformanceWarning: DataFrame is highly fragmented.  This is usually the result of calling `frame.insert` many times, which has poor performance.  Consider joining all columns at once using pd.concat(axis=1) instead. To get a de-fragmented frame, use `newframe = frame.copy()`\n",
      "  features['edfa_index'] = edfa_name_to_index.get(edfa_name, -1)\n",
      "C:\\Users\\mh756\\AppData\\Local\\Temp\\ipykernel_22460\\1019424112.py:76: PerformanceWarning: DataFrame is highly fragmented.  This is usually the result of calling `frame.insert` many times, which has poor performance.  Consider joining all columns at once using pd.concat(axis=1) instead. To get a de-fragmented frame, use `newframe = frame.copy()`\n",
      "  features['EDFA_type'] = extractionType_local\n"
     ]
    },
    {
     "name": "stdout",
     "output_type": "stream",
     "text": [
      "Processed gain_booster_rdm1-co1_fix_train.json, extractionType: booster, channelType: fix, edfa_name: rdm1-co1, edfa_index: 0, rows: 41\n",
      "Processed gain_booster_rdm1-lg1_fix_train.json, extractionType: booster, channelType: fix, edfa_name: rdm1-lg1, edfa_index: 6, rows: 41\n"
     ]
    },
    {
     "name": "stderr",
     "output_type": "stream",
     "text": [
      "C:\\Users\\mh756\\AppData\\Local\\Temp\\ipykernel_22460\\1019424112.py:75: PerformanceWarning: DataFrame is highly fragmented.  This is usually the result of calling `frame.insert` many times, which has poor performance.  Consider joining all columns at once using pd.concat(axis=1) instead. To get a de-fragmented frame, use `newframe = frame.copy()`\n",
      "  features['edfa_index'] = edfa_name_to_index.get(edfa_name, -1)\n",
      "C:\\Users\\mh756\\AppData\\Local\\Temp\\ipykernel_22460\\1019424112.py:76: PerformanceWarning: DataFrame is highly fragmented.  This is usually the result of calling `frame.insert` many times, which has poor performance.  Consider joining all columns at once using pd.concat(axis=1) instead. To get a de-fragmented frame, use `newframe = frame.copy()`\n",
      "  features['EDFA_type'] = extractionType_local\n"
     ]
    },
    {
     "name": "stdout",
     "output_type": "stream",
     "text": [
      "Processed gain_booster_rdm2-co1_fix_train.json, extractionType: booster, channelType: fix, edfa_name: rdm2-co1, edfa_index: 1, rows: 41\n"
     ]
    },
    {
     "name": "stderr",
     "output_type": "stream",
     "text": [
      "C:\\Users\\mh756\\AppData\\Local\\Temp\\ipykernel_22460\\1019424112.py:75: PerformanceWarning: DataFrame is highly fragmented.  This is usually the result of calling `frame.insert` many times, which has poor performance.  Consider joining all columns at once using pd.concat(axis=1) instead. To get a de-fragmented frame, use `newframe = frame.copy()`\n",
      "  features['edfa_index'] = edfa_name_to_index.get(edfa_name, -1)\n",
      "C:\\Users\\mh756\\AppData\\Local\\Temp\\ipykernel_22460\\1019424112.py:76: PerformanceWarning: DataFrame is highly fragmented.  This is usually the result of calling `frame.insert` many times, which has poor performance.  Consider joining all columns at once using pd.concat(axis=1) instead. To get a de-fragmented frame, use `newframe = frame.copy()`\n",
      "  features['EDFA_type'] = extractionType_local\n",
      "C:\\Users\\mh756\\AppData\\Local\\Temp\\ipykernel_22460\\1019424112.py:75: PerformanceWarning: DataFrame is highly fragmented.  This is usually the result of calling `frame.insert` many times, which has poor performance.  Consider joining all columns at once using pd.concat(axis=1) instead. To get a de-fragmented frame, use `newframe = frame.copy()`\n",
      "  features['edfa_index'] = edfa_name_to_index.get(edfa_name, -1)\n",
      "C:\\Users\\mh756\\AppData\\Local\\Temp\\ipykernel_22460\\1019424112.py:76: PerformanceWarning: DataFrame is highly fragmented.  This is usually the result of calling `frame.insert` many times, which has poor performance.  Consider joining all columns at once using pd.concat(axis=1) instead. To get a de-fragmented frame, use `newframe = frame.copy()`\n",
      "  features['EDFA_type'] = extractionType_local\n"
     ]
    },
    {
     "name": "stdout",
     "output_type": "stream",
     "text": [
      "Processed gain_booster_rdm2-lg1_fix_train.json, extractionType: booster, channelType: fix, edfa_name: rdm2-lg1, edfa_index: 7, rows: 41\n",
      "Processed gain_booster_rdm3-co1_fix_train.json, extractionType: booster, channelType: fix, edfa_name: rdm3-co1, edfa_index: 2, rows: 41\n"
     ]
    },
    {
     "name": "stderr",
     "output_type": "stream",
     "text": [
      "C:\\Users\\mh756\\AppData\\Local\\Temp\\ipykernel_22460\\1019424112.py:75: PerformanceWarning: DataFrame is highly fragmented.  This is usually the result of calling `frame.insert` many times, which has poor performance.  Consider joining all columns at once using pd.concat(axis=1) instead. To get a de-fragmented frame, use `newframe = frame.copy()`\n",
      "  features['edfa_index'] = edfa_name_to_index.get(edfa_name, -1)\n",
      "C:\\Users\\mh756\\AppData\\Local\\Temp\\ipykernel_22460\\1019424112.py:76: PerformanceWarning: DataFrame is highly fragmented.  This is usually the result of calling `frame.insert` many times, which has poor performance.  Consider joining all columns at once using pd.concat(axis=1) instead. To get a de-fragmented frame, use `newframe = frame.copy()`\n",
      "  features['EDFA_type'] = extractionType_local\n",
      "C:\\Users\\mh756\\AppData\\Local\\Temp\\ipykernel_22460\\1019424112.py:75: PerformanceWarning: DataFrame is highly fragmented.  This is usually the result of calling `frame.insert` many times, which has poor performance.  Consider joining all columns at once using pd.concat(axis=1) instead. To get a de-fragmented frame, use `newframe = frame.copy()`\n",
      "  features['edfa_index'] = edfa_name_to_index.get(edfa_name, -1)\n",
      "C:\\Users\\mh756\\AppData\\Local\\Temp\\ipykernel_22460\\1019424112.py:76: PerformanceWarning: DataFrame is highly fragmented.  This is usually the result of calling `frame.insert` many times, which has poor performance.  Consider joining all columns at once using pd.concat(axis=1) instead. To get a de-fragmented frame, use `newframe = frame.copy()`\n",
      "  features['EDFA_type'] = extractionType_local\n"
     ]
    },
    {
     "name": "stdout",
     "output_type": "stream",
     "text": [
      "Processed gain_booster_rdm4-co1_fix_train.json, extractionType: booster, channelType: fix, edfa_name: rdm4-co1, edfa_index: 3, rows: 41\n",
      "Processed gain_booster_rdm5-co1_fix_train.json, extractionType: booster, channelType: fix, edfa_name: rdm5-co1, edfa_index: 4, rows: 41\n"
     ]
    },
    {
     "name": "stderr",
     "output_type": "stream",
     "text": [
      "C:\\Users\\mh756\\AppData\\Local\\Temp\\ipykernel_22460\\1019424112.py:75: PerformanceWarning: DataFrame is highly fragmented.  This is usually the result of calling `frame.insert` many times, which has poor performance.  Consider joining all columns at once using pd.concat(axis=1) instead. To get a de-fragmented frame, use `newframe = frame.copy()`\n",
      "  features['edfa_index'] = edfa_name_to_index.get(edfa_name, -1)\n",
      "C:\\Users\\mh756\\AppData\\Local\\Temp\\ipykernel_22460\\1019424112.py:76: PerformanceWarning: DataFrame is highly fragmented.  This is usually the result of calling `frame.insert` many times, which has poor performance.  Consider joining all columns at once using pd.concat(axis=1) instead. To get a de-fragmented frame, use `newframe = frame.copy()`\n",
      "  features['EDFA_type'] = extractionType_local\n"
     ]
    },
    {
     "name": "stdout",
     "output_type": "stream",
     "text": [
      "Processed gain_booster_rdm6-co1_fix_train.json, extractionType: booster, channelType: fix, edfa_name: rdm6-co1, edfa_index: 5, rows: 41\n"
     ]
    },
    {
     "name": "stderr",
     "output_type": "stream",
     "text": [
      "C:\\Users\\mh756\\AppData\\Local\\Temp\\ipykernel_22460\\1019424112.py:75: PerformanceWarning: DataFrame is highly fragmented.  This is usually the result of calling `frame.insert` many times, which has poor performance.  Consider joining all columns at once using pd.concat(axis=1) instead. To get a de-fragmented frame, use `newframe = frame.copy()`\n",
      "  features['edfa_index'] = edfa_name_to_index.get(edfa_name, -1)\n",
      "C:\\Users\\mh756\\AppData\\Local\\Temp\\ipykernel_22460\\1019424112.py:76: PerformanceWarning: DataFrame is highly fragmented.  This is usually the result of calling `frame.insert` many times, which has poor performance.  Consider joining all columns at once using pd.concat(axis=1) instead. To get a de-fragmented frame, use `newframe = frame.copy()`\n",
      "  features['EDFA_type'] = extractionType_local\n",
      "C:\\Users\\mh756\\AppData\\Local\\Temp\\ipykernel_22460\\1019424112.py:75: PerformanceWarning: DataFrame is highly fragmented.  This is usually the result of calling `frame.insert` many times, which has poor performance.  Consider joining all columns at once using pd.concat(axis=1) instead. To get a de-fragmented frame, use `newframe = frame.copy()`\n",
      "  features['edfa_index'] = edfa_name_to_index.get(edfa_name, -1)\n",
      "C:\\Users\\mh756\\AppData\\Local\\Temp\\ipykernel_22460\\1019424112.py:76: PerformanceWarning: DataFrame is highly fragmented.  This is usually the result of calling `frame.insert` many times, which has poor performance.  Consider joining all columns at once using pd.concat(axis=1) instead. To get a de-fragmented frame, use `newframe = frame.copy()`\n",
      "  features['EDFA_type'] = extractionType_local\n"
     ]
    },
    {
     "name": "stdout",
     "output_type": "stream",
     "text": [
      "Processed tilt_booster_rdm1-co1_fix_train.json, extractionType: booster, channelType: fix, edfa_name: rdm1-co1, edfa_index: 0, rows: 41\n",
      "Processed tilt_booster_rdm1-lg1_fix_train.json, extractionType: booster, channelType: fix, edfa_name: rdm1-lg1, edfa_index: 6, rows: 41\n"
     ]
    },
    {
     "name": "stderr",
     "output_type": "stream",
     "text": [
      "C:\\Users\\mh756\\AppData\\Local\\Temp\\ipykernel_22460\\1019424112.py:75: PerformanceWarning: DataFrame is highly fragmented.  This is usually the result of calling `frame.insert` many times, which has poor performance.  Consider joining all columns at once using pd.concat(axis=1) instead. To get a de-fragmented frame, use `newframe = frame.copy()`\n",
      "  features['edfa_index'] = edfa_name_to_index.get(edfa_name, -1)\n",
      "C:\\Users\\mh756\\AppData\\Local\\Temp\\ipykernel_22460\\1019424112.py:76: PerformanceWarning: DataFrame is highly fragmented.  This is usually the result of calling `frame.insert` many times, which has poor performance.  Consider joining all columns at once using pd.concat(axis=1) instead. To get a de-fragmented frame, use `newframe = frame.copy()`\n",
      "  features['EDFA_type'] = extractionType_local\n",
      "C:\\Users\\mh756\\AppData\\Local\\Temp\\ipykernel_22460\\1019424112.py:75: PerformanceWarning: DataFrame is highly fragmented.  This is usually the result of calling `frame.insert` many times, which has poor performance.  Consider joining all columns at once using pd.concat(axis=1) instead. To get a de-fragmented frame, use `newframe = frame.copy()`\n",
      "  features['edfa_index'] = edfa_name_to_index.get(edfa_name, -1)\n",
      "C:\\Users\\mh756\\AppData\\Local\\Temp\\ipykernel_22460\\1019424112.py:76: PerformanceWarning: DataFrame is highly fragmented.  This is usually the result of calling `frame.insert` many times, which has poor performance.  Consider joining all columns at once using pd.concat(axis=1) instead. To get a de-fragmented frame, use `newframe = frame.copy()`\n",
      "  features['EDFA_type'] = extractionType_local\n"
     ]
    },
    {
     "name": "stdout",
     "output_type": "stream",
     "text": [
      "Processed tilt_booster_rdm2-lg1_fix_train.json, extractionType: booster, channelType: fix, edfa_name: rdm2-lg1, edfa_index: 7, rows: 41\n",
      "Processed tilt_booster_rdm3-co1_fix_train.json, extractionType: booster, channelType: fix, edfa_name: rdm3-co1, edfa_index: 2, rows: 41\n"
     ]
    },
    {
     "name": "stderr",
     "output_type": "stream",
     "text": [
      "C:\\Users\\mh756\\AppData\\Local\\Temp\\ipykernel_22460\\1019424112.py:75: PerformanceWarning: DataFrame is highly fragmented.  This is usually the result of calling `frame.insert` many times, which has poor performance.  Consider joining all columns at once using pd.concat(axis=1) instead. To get a de-fragmented frame, use `newframe = frame.copy()`\n",
      "  features['edfa_index'] = edfa_name_to_index.get(edfa_name, -1)\n",
      "C:\\Users\\mh756\\AppData\\Local\\Temp\\ipykernel_22460\\1019424112.py:76: PerformanceWarning: DataFrame is highly fragmented.  This is usually the result of calling `frame.insert` many times, which has poor performance.  Consider joining all columns at once using pd.concat(axis=1) instead. To get a de-fragmented frame, use `newframe = frame.copy()`\n",
      "  features['EDFA_type'] = extractionType_local\n"
     ]
    },
    {
     "name": "stdout",
     "output_type": "stream",
     "text": [
      "Processed tilt_booster_rdm4-co1_fix_train.json, extractionType: booster, channelType: fix, edfa_name: rdm4-co1, edfa_index: 3, rows: 41\n"
     ]
    },
    {
     "name": "stderr",
     "output_type": "stream",
     "text": [
      "C:\\Users\\mh756\\AppData\\Local\\Temp\\ipykernel_22460\\1019424112.py:75: PerformanceWarning: DataFrame is highly fragmented.  This is usually the result of calling `frame.insert` many times, which has poor performance.  Consider joining all columns at once using pd.concat(axis=1) instead. To get a de-fragmented frame, use `newframe = frame.copy()`\n",
      "  features['edfa_index'] = edfa_name_to_index.get(edfa_name, -1)\n",
      "C:\\Users\\mh756\\AppData\\Local\\Temp\\ipykernel_22460\\1019424112.py:76: PerformanceWarning: DataFrame is highly fragmented.  This is usually the result of calling `frame.insert` many times, which has poor performance.  Consider joining all columns at once using pd.concat(axis=1) instead. To get a de-fragmented frame, use `newframe = frame.copy()`\n",
      "  features['EDFA_type'] = extractionType_local\n",
      "C:\\Users\\mh756\\AppData\\Local\\Temp\\ipykernel_22460\\1019424112.py:75: PerformanceWarning: DataFrame is highly fragmented.  This is usually the result of calling `frame.insert` many times, which has poor performance.  Consider joining all columns at once using pd.concat(axis=1) instead. To get a de-fragmented frame, use `newframe = frame.copy()`\n",
      "  features['edfa_index'] = edfa_name_to_index.get(edfa_name, -1)\n",
      "C:\\Users\\mh756\\AppData\\Local\\Temp\\ipykernel_22460\\1019424112.py:76: PerformanceWarning: DataFrame is highly fragmented.  This is usually the result of calling `frame.insert` many times, which has poor performance.  Consider joining all columns at once using pd.concat(axis=1) instead. To get a de-fragmented frame, use `newframe = frame.copy()`\n",
      "  features['EDFA_type'] = extractionType_local\n"
     ]
    },
    {
     "name": "stdout",
     "output_type": "stream",
     "text": [
      "Processed tilt_booster_rdm5-co1_fix_train.json, extractionType: booster, channelType: fix, edfa_name: rdm5-co1, edfa_index: 4, rows: 41\n",
      "Processed tilt_booster_rdm6-co1_fix_train.json, extractionType: booster, channelType: fix, edfa_name: rdm6-co1, edfa_index: 5, rows: 41\n"
     ]
    },
    {
     "name": "stderr",
     "output_type": "stream",
     "text": [
      "C:\\Users\\mh756\\AppData\\Local\\Temp\\ipykernel_22460\\1019424112.py:75: PerformanceWarning: DataFrame is highly fragmented.  This is usually the result of calling `frame.insert` many times, which has poor performance.  Consider joining all columns at once using pd.concat(axis=1) instead. To get a de-fragmented frame, use `newframe = frame.copy()`\n",
      "  features['edfa_index'] = edfa_name_to_index.get(edfa_name, -1)\n",
      "C:\\Users\\mh756\\AppData\\Local\\Temp\\ipykernel_22460\\1019424112.py:76: PerformanceWarning: DataFrame is highly fragmented.  This is usually the result of calling `frame.insert` many times, which has poor performance.  Consider joining all columns at once using pd.concat(axis=1) instead. To get a de-fragmented frame, use `newframe = frame.copy()`\n",
      "  features['EDFA_type'] = extractionType_local\n"
     ]
    },
    {
     "name": "stdout",
     "output_type": "stream",
     "text": [
      "Processed gain_booster_rdm1-lg1_goalpost_test.json, extractionType: booster, channelType: fix, edfa_name: rdm1-lg1, edfa_index: 6, rows: 216\n"
     ]
    },
    {
     "name": "stderr",
     "output_type": "stream",
     "text": [
      "C:\\Users\\mh756\\AppData\\Local\\Temp\\ipykernel_22460\\1019424112.py:75: PerformanceWarning: DataFrame is highly fragmented.  This is usually the result of calling `frame.insert` many times, which has poor performance.  Consider joining all columns at once using pd.concat(axis=1) instead. To get a de-fragmented frame, use `newframe = frame.copy()`\n",
      "  features['edfa_index'] = edfa_name_to_index.get(edfa_name, -1)\n",
      "C:\\Users\\mh756\\AppData\\Local\\Temp\\ipykernel_22460\\1019424112.py:76: PerformanceWarning: DataFrame is highly fragmented.  This is usually the result of calling `frame.insert` many times, which has poor performance.  Consider joining all columns at once using pd.concat(axis=1) instead. To get a de-fragmented frame, use `newframe = frame.copy()`\n",
      "  features['EDFA_type'] = extractionType_local\n"
     ]
    },
    {
     "name": "stdout",
     "output_type": "stream",
     "text": [
      "Processed gain_booster_rdm1-lg1_random_test.json, extractionType: booster, channelType: random, edfa_name: rdm1-lg1, edfa_index: 6, rows: 1100\n"
     ]
    },
    {
     "name": "stderr",
     "output_type": "stream",
     "text": [
      "C:\\Users\\mh756\\AppData\\Local\\Temp\\ipykernel_22460\\1019424112.py:75: PerformanceWarning: DataFrame is highly fragmented.  This is usually the result of calling `frame.insert` many times, which has poor performance.  Consider joining all columns at once using pd.concat(axis=1) instead. To get a de-fragmented frame, use `newframe = frame.copy()`\n",
      "  features['edfa_index'] = edfa_name_to_index.get(edfa_name, -1)\n",
      "C:\\Users\\mh756\\AppData\\Local\\Temp\\ipykernel_22460\\1019424112.py:76: PerformanceWarning: DataFrame is highly fragmented.  This is usually the result of calling `frame.insert` many times, which has poor performance.  Consider joining all columns at once using pd.concat(axis=1) instead. To get a de-fragmented frame, use `newframe = frame.copy()`\n",
      "  features['EDFA_type'] = extractionType_local\n"
     ]
    },
    {
     "name": "stdout",
     "output_type": "stream",
     "text": [
      "Processed gain_booster_rdm2-lg1_goalpost_test.json, extractionType: booster, channelType: fix, edfa_name: rdm2-lg1, edfa_index: 7, rows: 216\n"
     ]
    },
    {
     "name": "stderr",
     "output_type": "stream",
     "text": [
      "C:\\Users\\mh756\\AppData\\Local\\Temp\\ipykernel_22460\\1019424112.py:75: PerformanceWarning: DataFrame is highly fragmented.  This is usually the result of calling `frame.insert` many times, which has poor performance.  Consider joining all columns at once using pd.concat(axis=1) instead. To get a de-fragmented frame, use `newframe = frame.copy()`\n",
      "  features['edfa_index'] = edfa_name_to_index.get(edfa_name, -1)\n",
      "C:\\Users\\mh756\\AppData\\Local\\Temp\\ipykernel_22460\\1019424112.py:76: PerformanceWarning: DataFrame is highly fragmented.  This is usually the result of calling `frame.insert` many times, which has poor performance.  Consider joining all columns at once using pd.concat(axis=1) instead. To get a de-fragmented frame, use `newframe = frame.copy()`\n",
      "  features['EDFA_type'] = extractionType_local\n"
     ]
    },
    {
     "name": "stdout",
     "output_type": "stream",
     "text": [
      "Processed gain_booster_rdm2-lg1_random_test.json, extractionType: booster, channelType: random, edfa_name: rdm2-lg1, edfa_index: 7, rows: 1100\n"
     ]
    },
    {
     "name": "stderr",
     "output_type": "stream",
     "text": [
      "C:\\Users\\mh756\\AppData\\Local\\Temp\\ipykernel_22460\\1019424112.py:75: PerformanceWarning: DataFrame is highly fragmented.  This is usually the result of calling `frame.insert` many times, which has poor performance.  Consider joining all columns at once using pd.concat(axis=1) instead. To get a de-fragmented frame, use `newframe = frame.copy()`\n",
      "  features['edfa_index'] = edfa_name_to_index.get(edfa_name, -1)\n",
      "C:\\Users\\mh756\\AppData\\Local\\Temp\\ipykernel_22460\\1019424112.py:76: PerformanceWarning: DataFrame is highly fragmented.  This is usually the result of calling `frame.insert` many times, which has poor performance.  Consider joining all columns at once using pd.concat(axis=1) instead. To get a de-fragmented frame, use `newframe = frame.copy()`\n",
      "  features['EDFA_type'] = extractionType_local\n"
     ]
    },
    {
     "name": "stdout",
     "output_type": "stream",
     "text": [
      "Processed gain_booster_rdm3-co1_goalpost_test.json, extractionType: booster, channelType: fix, edfa_name: rdm3-co1, edfa_index: 2, rows: 216\n"
     ]
    },
    {
     "name": "stderr",
     "output_type": "stream",
     "text": [
      "C:\\Users\\mh756\\AppData\\Local\\Temp\\ipykernel_22460\\1019424112.py:75: PerformanceWarning: DataFrame is highly fragmented.  This is usually the result of calling `frame.insert` many times, which has poor performance.  Consider joining all columns at once using pd.concat(axis=1) instead. To get a de-fragmented frame, use `newframe = frame.copy()`\n",
      "  features['edfa_index'] = edfa_name_to_index.get(edfa_name, -1)\n",
      "C:\\Users\\mh756\\AppData\\Local\\Temp\\ipykernel_22460\\1019424112.py:76: PerformanceWarning: DataFrame is highly fragmented.  This is usually the result of calling `frame.insert` many times, which has poor performance.  Consider joining all columns at once using pd.concat(axis=1) instead. To get a de-fragmented frame, use `newframe = frame.copy()`\n",
      "  features['EDFA_type'] = extractionType_local\n"
     ]
    },
    {
     "name": "stdout",
     "output_type": "stream",
     "text": [
      "Processed gain_booster_rdm3-co1_random_test.json, extractionType: booster, channelType: random, edfa_name: rdm3-co1, edfa_index: 2, rows: 1100\n"
     ]
    },
    {
     "name": "stderr",
     "output_type": "stream",
     "text": [
      "C:\\Users\\mh756\\AppData\\Local\\Temp\\ipykernel_22460\\1019424112.py:75: PerformanceWarning: DataFrame is highly fragmented.  This is usually the result of calling `frame.insert` many times, which has poor performance.  Consider joining all columns at once using pd.concat(axis=1) instead. To get a de-fragmented frame, use `newframe = frame.copy()`\n",
      "  features['edfa_index'] = edfa_name_to_index.get(edfa_name, -1)\n",
      "C:\\Users\\mh756\\AppData\\Local\\Temp\\ipykernel_22460\\1019424112.py:76: PerformanceWarning: DataFrame is highly fragmented.  This is usually the result of calling `frame.insert` many times, which has poor performance.  Consider joining all columns at once using pd.concat(axis=1) instead. To get a de-fragmented frame, use `newframe = frame.copy()`\n",
      "  features['EDFA_type'] = extractionType_local\n"
     ]
    },
    {
     "name": "stdout",
     "output_type": "stream",
     "text": [
      "Processed gain_booster_rdm4-co1_goalpost_test.json, extractionType: booster, channelType: fix, edfa_name: rdm4-co1, edfa_index: 3, rows: 216\n"
     ]
    },
    {
     "name": "stderr",
     "output_type": "stream",
     "text": [
      "C:\\Users\\mh756\\AppData\\Local\\Temp\\ipykernel_22460\\1019424112.py:75: PerformanceWarning: DataFrame is highly fragmented.  This is usually the result of calling `frame.insert` many times, which has poor performance.  Consider joining all columns at once using pd.concat(axis=1) instead. To get a de-fragmented frame, use `newframe = frame.copy()`\n",
      "  features['edfa_index'] = edfa_name_to_index.get(edfa_name, -1)\n",
      "C:\\Users\\mh756\\AppData\\Local\\Temp\\ipykernel_22460\\1019424112.py:76: PerformanceWarning: DataFrame is highly fragmented.  This is usually the result of calling `frame.insert` many times, which has poor performance.  Consider joining all columns at once using pd.concat(axis=1) instead. To get a de-fragmented frame, use `newframe = frame.copy()`\n",
      "  features['EDFA_type'] = extractionType_local\n"
     ]
    },
    {
     "name": "stdout",
     "output_type": "stream",
     "text": [
      "Processed gain_booster_rdm4-co1_random_test.json, extractionType: booster, channelType: random, edfa_name: rdm4-co1, edfa_index: 3, rows: 1100\n"
     ]
    },
    {
     "name": "stderr",
     "output_type": "stream",
     "text": [
      "C:\\Users\\mh756\\AppData\\Local\\Temp\\ipykernel_22460\\1019424112.py:75: PerformanceWarning: DataFrame is highly fragmented.  This is usually the result of calling `frame.insert` many times, which has poor performance.  Consider joining all columns at once using pd.concat(axis=1) instead. To get a de-fragmented frame, use `newframe = frame.copy()`\n",
      "  features['edfa_index'] = edfa_name_to_index.get(edfa_name, -1)\n",
      "C:\\Users\\mh756\\AppData\\Local\\Temp\\ipykernel_22460\\1019424112.py:76: PerformanceWarning: DataFrame is highly fragmented.  This is usually the result of calling `frame.insert` many times, which has poor performance.  Consider joining all columns at once using pd.concat(axis=1) instead. To get a de-fragmented frame, use `newframe = frame.copy()`\n",
      "  features['EDFA_type'] = extractionType_local\n"
     ]
    },
    {
     "name": "stdout",
     "output_type": "stream",
     "text": [
      "Processed gain_booster_rdm5-co1_goalpost_test.json, extractionType: booster, channelType: fix, edfa_name: rdm5-co1, edfa_index: 4, rows: 216\n"
     ]
    },
    {
     "name": "stderr",
     "output_type": "stream",
     "text": [
      "C:\\Users\\mh756\\AppData\\Local\\Temp\\ipykernel_22460\\1019424112.py:75: PerformanceWarning: DataFrame is highly fragmented.  This is usually the result of calling `frame.insert` many times, which has poor performance.  Consider joining all columns at once using pd.concat(axis=1) instead. To get a de-fragmented frame, use `newframe = frame.copy()`\n",
      "  features['edfa_index'] = edfa_name_to_index.get(edfa_name, -1)\n",
      "C:\\Users\\mh756\\AppData\\Local\\Temp\\ipykernel_22460\\1019424112.py:76: PerformanceWarning: DataFrame is highly fragmented.  This is usually the result of calling `frame.insert` many times, which has poor performance.  Consider joining all columns at once using pd.concat(axis=1) instead. To get a de-fragmented frame, use `newframe = frame.copy()`\n",
      "  features['EDFA_type'] = extractionType_local\n"
     ]
    },
    {
     "name": "stdout",
     "output_type": "stream",
     "text": [
      "Processed gain_booster_rdm5-co1_random_test.json, extractionType: booster, channelType: random, edfa_name: rdm5-co1, edfa_index: 4, rows: 1100\n"
     ]
    },
    {
     "name": "stderr",
     "output_type": "stream",
     "text": [
      "C:\\Users\\mh756\\AppData\\Local\\Temp\\ipykernel_22460\\1019424112.py:75: PerformanceWarning: DataFrame is highly fragmented.  This is usually the result of calling `frame.insert` many times, which has poor performance.  Consider joining all columns at once using pd.concat(axis=1) instead. To get a de-fragmented frame, use `newframe = frame.copy()`\n",
      "  features['edfa_index'] = edfa_name_to_index.get(edfa_name, -1)\n",
      "C:\\Users\\mh756\\AppData\\Local\\Temp\\ipykernel_22460\\1019424112.py:76: PerformanceWarning: DataFrame is highly fragmented.  This is usually the result of calling `frame.insert` many times, which has poor performance.  Consider joining all columns at once using pd.concat(axis=1) instead. To get a de-fragmented frame, use `newframe = frame.copy()`\n",
      "  features['EDFA_type'] = extractionType_local\n"
     ]
    },
    {
     "name": "stdout",
     "output_type": "stream",
     "text": [
      "Processed gain_booster_rdm6-co1_goalpost_test.json, extractionType: booster, channelType: fix, edfa_name: rdm6-co1, edfa_index: 5, rows: 216\n"
     ]
    },
    {
     "name": "stderr",
     "output_type": "stream",
     "text": [
      "C:\\Users\\mh756\\AppData\\Local\\Temp\\ipykernel_22460\\1019424112.py:75: PerformanceWarning: DataFrame is highly fragmented.  This is usually the result of calling `frame.insert` many times, which has poor performance.  Consider joining all columns at once using pd.concat(axis=1) instead. To get a de-fragmented frame, use `newframe = frame.copy()`\n",
      "  features['edfa_index'] = edfa_name_to_index.get(edfa_name, -1)\n",
      "C:\\Users\\mh756\\AppData\\Local\\Temp\\ipykernel_22460\\1019424112.py:76: PerformanceWarning: DataFrame is highly fragmented.  This is usually the result of calling `frame.insert` many times, which has poor performance.  Consider joining all columns at once using pd.concat(axis=1) instead. To get a de-fragmented frame, use `newframe = frame.copy()`\n",
      "  features['EDFA_type'] = extractionType_local\n"
     ]
    },
    {
     "name": "stdout",
     "output_type": "stream",
     "text": [
      "Processed gain_booster_rdm6-co1_random_test.json, extractionType: booster, channelType: random, edfa_name: rdm6-co1, edfa_index: 5, rows: 1100\n"
     ]
    },
    {
     "name": "stderr",
     "output_type": "stream",
     "text": [
      "C:\\Users\\mh756\\AppData\\Local\\Temp\\ipykernel_22460\\1019424112.py:75: PerformanceWarning: DataFrame is highly fragmented.  This is usually the result of calling `frame.insert` many times, which has poor performance.  Consider joining all columns at once using pd.concat(axis=1) instead. To get a de-fragmented frame, use `newframe = frame.copy()`\n",
      "  features['edfa_index'] = edfa_name_to_index.get(edfa_name, -1)\n",
      "C:\\Users\\mh756\\AppData\\Local\\Temp\\ipykernel_22460\\1019424112.py:76: PerformanceWarning: DataFrame is highly fragmented.  This is usually the result of calling `frame.insert` many times, which has poor performance.  Consider joining all columns at once using pd.concat(axis=1) instead. To get a de-fragmented frame, use `newframe = frame.copy()`\n",
      "  features['EDFA_type'] = extractionType_local\n"
     ]
    },
    {
     "name": "stdout",
     "output_type": "stream",
     "text": [
      "Processed tilt_booster_rdm1-lg1_goalpost_test.json, extractionType: booster, channelType: fix, edfa_name: rdm1-lg1, edfa_index: 6, rows: 216\n"
     ]
    },
    {
     "name": "stderr",
     "output_type": "stream",
     "text": [
      "C:\\Users\\mh756\\AppData\\Local\\Temp\\ipykernel_22460\\1019424112.py:75: PerformanceWarning: DataFrame is highly fragmented.  This is usually the result of calling `frame.insert` many times, which has poor performance.  Consider joining all columns at once using pd.concat(axis=1) instead. To get a de-fragmented frame, use `newframe = frame.copy()`\n",
      "  features['edfa_index'] = edfa_name_to_index.get(edfa_name, -1)\n",
      "C:\\Users\\mh756\\AppData\\Local\\Temp\\ipykernel_22460\\1019424112.py:76: PerformanceWarning: DataFrame is highly fragmented.  This is usually the result of calling `frame.insert` many times, which has poor performance.  Consider joining all columns at once using pd.concat(axis=1) instead. To get a de-fragmented frame, use `newframe = frame.copy()`\n",
      "  features['EDFA_type'] = extractionType_local\n"
     ]
    },
    {
     "name": "stdout",
     "output_type": "stream",
     "text": [
      "Processed tilt_booster_rdm1-lg1_random_test.json, extractionType: booster, channelType: random, edfa_name: rdm1-lg1, edfa_index: 6, rows: 1100\n"
     ]
    },
    {
     "name": "stderr",
     "output_type": "stream",
     "text": [
      "C:\\Users\\mh756\\AppData\\Local\\Temp\\ipykernel_22460\\1019424112.py:75: PerformanceWarning: DataFrame is highly fragmented.  This is usually the result of calling `frame.insert` many times, which has poor performance.  Consider joining all columns at once using pd.concat(axis=1) instead. To get a de-fragmented frame, use `newframe = frame.copy()`\n",
      "  features['edfa_index'] = edfa_name_to_index.get(edfa_name, -1)\n",
      "C:\\Users\\mh756\\AppData\\Local\\Temp\\ipykernel_22460\\1019424112.py:76: PerformanceWarning: DataFrame is highly fragmented.  This is usually the result of calling `frame.insert` many times, which has poor performance.  Consider joining all columns at once using pd.concat(axis=1) instead. To get a de-fragmented frame, use `newframe = frame.copy()`\n",
      "  features['EDFA_type'] = extractionType_local\n"
     ]
    },
    {
     "name": "stdout",
     "output_type": "stream",
     "text": [
      "Processed tilt_booster_rdm2-lg1_goalpost_test.json, extractionType: booster, channelType: fix, edfa_name: rdm2-lg1, edfa_index: 7, rows: 216\n"
     ]
    },
    {
     "name": "stderr",
     "output_type": "stream",
     "text": [
      "C:\\Users\\mh756\\AppData\\Local\\Temp\\ipykernel_22460\\1019424112.py:75: PerformanceWarning: DataFrame is highly fragmented.  This is usually the result of calling `frame.insert` many times, which has poor performance.  Consider joining all columns at once using pd.concat(axis=1) instead. To get a de-fragmented frame, use `newframe = frame.copy()`\n",
      "  features['edfa_index'] = edfa_name_to_index.get(edfa_name, -1)\n",
      "C:\\Users\\mh756\\AppData\\Local\\Temp\\ipykernel_22460\\1019424112.py:76: PerformanceWarning: DataFrame is highly fragmented.  This is usually the result of calling `frame.insert` many times, which has poor performance.  Consider joining all columns at once using pd.concat(axis=1) instead. To get a de-fragmented frame, use `newframe = frame.copy()`\n",
      "  features['EDFA_type'] = extractionType_local\n"
     ]
    },
    {
     "name": "stdout",
     "output_type": "stream",
     "text": [
      "Processed tilt_booster_rdm2-lg1_random_test.json, extractionType: booster, channelType: random, edfa_name: rdm2-lg1, edfa_index: 7, rows: 1100\n"
     ]
    },
    {
     "name": "stderr",
     "output_type": "stream",
     "text": [
      "C:\\Users\\mh756\\AppData\\Local\\Temp\\ipykernel_22460\\1019424112.py:75: PerformanceWarning: DataFrame is highly fragmented.  This is usually the result of calling `frame.insert` many times, which has poor performance.  Consider joining all columns at once using pd.concat(axis=1) instead. To get a de-fragmented frame, use `newframe = frame.copy()`\n",
      "  features['edfa_index'] = edfa_name_to_index.get(edfa_name, -1)\n",
      "C:\\Users\\mh756\\AppData\\Local\\Temp\\ipykernel_22460\\1019424112.py:76: PerformanceWarning: DataFrame is highly fragmented.  This is usually the result of calling `frame.insert` many times, which has poor performance.  Consider joining all columns at once using pd.concat(axis=1) instead. To get a de-fragmented frame, use `newframe = frame.copy()`\n",
      "  features['EDFA_type'] = extractionType_local\n"
     ]
    },
    {
     "name": "stdout",
     "output_type": "stream",
     "text": [
      "Processed tilt_booster_rdm3-co1_goalpost_test.json, extractionType: booster, channelType: fix, edfa_name: rdm3-co1, edfa_index: 2, rows: 216\n"
     ]
    },
    {
     "name": "stderr",
     "output_type": "stream",
     "text": [
      "C:\\Users\\mh756\\AppData\\Local\\Temp\\ipykernel_22460\\1019424112.py:75: PerformanceWarning: DataFrame is highly fragmented.  This is usually the result of calling `frame.insert` many times, which has poor performance.  Consider joining all columns at once using pd.concat(axis=1) instead. To get a de-fragmented frame, use `newframe = frame.copy()`\n",
      "  features['edfa_index'] = edfa_name_to_index.get(edfa_name, -1)\n",
      "C:\\Users\\mh756\\AppData\\Local\\Temp\\ipykernel_22460\\1019424112.py:76: PerformanceWarning: DataFrame is highly fragmented.  This is usually the result of calling `frame.insert` many times, which has poor performance.  Consider joining all columns at once using pd.concat(axis=1) instead. To get a de-fragmented frame, use `newframe = frame.copy()`\n",
      "  features['EDFA_type'] = extractionType_local\n"
     ]
    },
    {
     "name": "stdout",
     "output_type": "stream",
     "text": [
      "Processed tilt_booster_rdm3-co1_random_test.json, extractionType: booster, channelType: random, edfa_name: rdm3-co1, edfa_index: 2, rows: 1100\n"
     ]
    },
    {
     "name": "stderr",
     "output_type": "stream",
     "text": [
      "C:\\Users\\mh756\\AppData\\Local\\Temp\\ipykernel_22460\\1019424112.py:75: PerformanceWarning: DataFrame is highly fragmented.  This is usually the result of calling `frame.insert` many times, which has poor performance.  Consider joining all columns at once using pd.concat(axis=1) instead. To get a de-fragmented frame, use `newframe = frame.copy()`\n",
      "  features['edfa_index'] = edfa_name_to_index.get(edfa_name, -1)\n",
      "C:\\Users\\mh756\\AppData\\Local\\Temp\\ipykernel_22460\\1019424112.py:76: PerformanceWarning: DataFrame is highly fragmented.  This is usually the result of calling `frame.insert` many times, which has poor performance.  Consider joining all columns at once using pd.concat(axis=1) instead. To get a de-fragmented frame, use `newframe = frame.copy()`\n",
      "  features['EDFA_type'] = extractionType_local\n"
     ]
    },
    {
     "name": "stdout",
     "output_type": "stream",
     "text": [
      "Processed tilt_booster_rdm4-co1_goalpost_test.json, extractionType: booster, channelType: fix, edfa_name: rdm4-co1, edfa_index: 3, rows: 216\n"
     ]
    },
    {
     "name": "stderr",
     "output_type": "stream",
     "text": [
      "C:\\Users\\mh756\\AppData\\Local\\Temp\\ipykernel_22460\\1019424112.py:75: PerformanceWarning: DataFrame is highly fragmented.  This is usually the result of calling `frame.insert` many times, which has poor performance.  Consider joining all columns at once using pd.concat(axis=1) instead. To get a de-fragmented frame, use `newframe = frame.copy()`\n",
      "  features['edfa_index'] = edfa_name_to_index.get(edfa_name, -1)\n",
      "C:\\Users\\mh756\\AppData\\Local\\Temp\\ipykernel_22460\\1019424112.py:76: PerformanceWarning: DataFrame is highly fragmented.  This is usually the result of calling `frame.insert` many times, which has poor performance.  Consider joining all columns at once using pd.concat(axis=1) instead. To get a de-fragmented frame, use `newframe = frame.copy()`\n",
      "  features['EDFA_type'] = extractionType_local\n"
     ]
    },
    {
     "name": "stdout",
     "output_type": "stream",
     "text": [
      "Processed tilt_booster_rdm4-co1_random_test.json, extractionType: booster, channelType: random, edfa_name: rdm4-co1, edfa_index: 3, rows: 1100\n"
     ]
    },
    {
     "name": "stderr",
     "output_type": "stream",
     "text": [
      "C:\\Users\\mh756\\AppData\\Local\\Temp\\ipykernel_22460\\1019424112.py:75: PerformanceWarning: DataFrame is highly fragmented.  This is usually the result of calling `frame.insert` many times, which has poor performance.  Consider joining all columns at once using pd.concat(axis=1) instead. To get a de-fragmented frame, use `newframe = frame.copy()`\n",
      "  features['edfa_index'] = edfa_name_to_index.get(edfa_name, -1)\n",
      "C:\\Users\\mh756\\AppData\\Local\\Temp\\ipykernel_22460\\1019424112.py:76: PerformanceWarning: DataFrame is highly fragmented.  This is usually the result of calling `frame.insert` many times, which has poor performance.  Consider joining all columns at once using pd.concat(axis=1) instead. To get a de-fragmented frame, use `newframe = frame.copy()`\n",
      "  features['EDFA_type'] = extractionType_local\n"
     ]
    },
    {
     "name": "stdout",
     "output_type": "stream",
     "text": [
      "Processed tilt_booster_rdm5-co1_goalpost_test.json, extractionType: booster, channelType: fix, edfa_name: rdm5-co1, edfa_index: 4, rows: 216\n"
     ]
    },
    {
     "name": "stderr",
     "output_type": "stream",
     "text": [
      "C:\\Users\\mh756\\AppData\\Local\\Temp\\ipykernel_22460\\1019424112.py:75: PerformanceWarning: DataFrame is highly fragmented.  This is usually the result of calling `frame.insert` many times, which has poor performance.  Consider joining all columns at once using pd.concat(axis=1) instead. To get a de-fragmented frame, use `newframe = frame.copy()`\n",
      "  features['edfa_index'] = edfa_name_to_index.get(edfa_name, -1)\n",
      "C:\\Users\\mh756\\AppData\\Local\\Temp\\ipykernel_22460\\1019424112.py:76: PerformanceWarning: DataFrame is highly fragmented.  This is usually the result of calling `frame.insert` many times, which has poor performance.  Consider joining all columns at once using pd.concat(axis=1) instead. To get a de-fragmented frame, use `newframe = frame.copy()`\n",
      "  features['EDFA_type'] = extractionType_local\n"
     ]
    },
    {
     "name": "stdout",
     "output_type": "stream",
     "text": [
      "Processed tilt_booster_rdm5-co1_random_test.json, extractionType: booster, channelType: random, edfa_name: rdm5-co1, edfa_index: 4, rows: 1100\n"
     ]
    },
    {
     "name": "stderr",
     "output_type": "stream",
     "text": [
      "C:\\Users\\mh756\\AppData\\Local\\Temp\\ipykernel_22460\\1019424112.py:75: PerformanceWarning: DataFrame is highly fragmented.  This is usually the result of calling `frame.insert` many times, which has poor performance.  Consider joining all columns at once using pd.concat(axis=1) instead. To get a de-fragmented frame, use `newframe = frame.copy()`\n",
      "  features['edfa_index'] = edfa_name_to_index.get(edfa_name, -1)\n",
      "C:\\Users\\mh756\\AppData\\Local\\Temp\\ipykernel_22460\\1019424112.py:76: PerformanceWarning: DataFrame is highly fragmented.  This is usually the result of calling `frame.insert` many times, which has poor performance.  Consider joining all columns at once using pd.concat(axis=1) instead. To get a de-fragmented frame, use `newframe = frame.copy()`\n",
      "  features['EDFA_type'] = extractionType_local\n"
     ]
    },
    {
     "name": "stdout",
     "output_type": "stream",
     "text": [
      "Processed tilt_booster_rdm6-co1_goalpost_test.json, extractionType: booster, channelType: fix, edfa_name: rdm6-co1, edfa_index: 5, rows: 216\n"
     ]
    },
    {
     "name": "stderr",
     "output_type": "stream",
     "text": [
      "C:\\Users\\mh756\\AppData\\Local\\Temp\\ipykernel_22460\\1019424112.py:75: PerformanceWarning: DataFrame is highly fragmented.  This is usually the result of calling `frame.insert` many times, which has poor performance.  Consider joining all columns at once using pd.concat(axis=1) instead. To get a de-fragmented frame, use `newframe = frame.copy()`\n",
      "  features['edfa_index'] = edfa_name_to_index.get(edfa_name, -1)\n",
      "C:\\Users\\mh756\\AppData\\Local\\Temp\\ipykernel_22460\\1019424112.py:76: PerformanceWarning: DataFrame is highly fragmented.  This is usually the result of calling `frame.insert` many times, which has poor performance.  Consider joining all columns at once using pd.concat(axis=1) instead. To get a de-fragmented frame, use `newframe = frame.copy()`\n",
      "  features['EDFA_type'] = extractionType_local\n"
     ]
    },
    {
     "name": "stdout",
     "output_type": "stream",
     "text": [
      "Processed tilt_booster_rdm6-co1_random_test.json, extractionType: booster, channelType: random, edfa_name: rdm6-co1, edfa_index: 5, rows: 1100\n"
     ]
    }
   ],
   "source": [
    "import os, json\n",
    "import pandas as pd\n",
    "from libs.edfa_feature_extraction_libs import featureExtraction_ML\n",
    "\n",
    "unseen_train_dir = '../dataset/ML_challenge_user/Train/unseen'\n",
    "unseen_test_dir = '../dataset/ML_challenge_user/Test/unseen'\n",
    "\n",
    "unseen_output_csv_train = '../Features/Train/unseen/booster_fix_features_train.csv'\n",
    "unseen_output_csv_test = '../Features/Test/unseen/booster_goalpost_random_features_test.csv'\n",
    "\n",
    "# ---- HARDCODED MAPPING ----\n",
    "edfa_name_to_index = {\n",
    "    'rdm1-co1': 0,\n",
    "    'rdm2-co1': 1,\n",
    "    'rdm3-co1': 2,\n",
    "    'rdm4-co1': 3,\n",
    "    'rdm5-co1': 4,\n",
    "    'rdm6-co1': 5,\n",
    "    'rdm1-lg1': 6,\n",
    "    'rdm2-lg1': 7\n",
    "}\n",
    "print(\"EDFA name to index mapping (hardcoded):\")\n",
    "for name, idx in edfa_name_to_index.items():\n",
    "    print(f\"  {name}: {idx}\")\n",
    "\n",
    "def extract_features_from_dir(data_dir, featureType):\n",
    "    all_features = pd.DataFrame()\n",
    "    for fname in sorted(os.listdir(data_dir)):\n",
    "        if not fname.endswith('.json'):\n",
    "            continue\n",
    "        file_path = os.path.join(data_dir, fname)\n",
    "        with open(file_path, 'r') as f:\n",
    "            data = json.load(f)\n",
    "        if 'measurement_data' not in data or not data['measurement_data']:\n",
    "            print(f\"Skipping {fname}: no measurement_data\")\n",
    "            continue\n",
    "\n",
    "        # Infer extractionType\n",
    "        if 'preamp' in fname:\n",
    "            extractionType_local = 'preamp'\n",
    "        elif 'booster' in fname:\n",
    "            extractionType_local = 'booster'\n",
    "        else:\n",
    "            print(f\"Skipping {fname}: cannot determine extractionType\")\n",
    "            continue\n",
    "\n",
    "        # Improved channelType detection\n",
    "        if '_fix_' in fname or '_goalpost_' in fname:\n",
    "            channelType_local = 'fix'\n",
    "        elif '_random_' in fname:\n",
    "            channelType_local = 'random'\n",
    "        elif '_extraRandom_' in fname:\n",
    "            channelType_local = 'extraRandom'\n",
    "        elif '_extraLow_' in fname:\n",
    "            channelType_local = 'extraLow'\n",
    "        else:\n",
    "            print(f\"Skipping {fname}: cannot determine channelType\")\n",
    "            continue\n",
    "\n",
    "        # Infer edfa_name\n",
    "        if 'preamp_' in fname:\n",
    "            edfa_name = fname.split('preamp_')[1].split('_')[0]\n",
    "        elif 'booster_' in fname:\n",
    "            edfa_name = fname.split('booster_')[1].split('_')[0]\n",
    "        else:\n",
    "            edfa_name = fname.split('_')[1] if len(fname.split('_')) > 1 else fname\n",
    "\n",
    "        features = featureExtraction_ML(\n",
    "            data['measurement_data'],\n",
    "            extractionType=extractionType_local,\n",
    "            channelType=channelType_local,\n",
    "            featureType=featureType,\n",
    "            channelNum=data['measurement_setup'].get('roadm_wss_num_channel', 95)\n",
    "        )\n",
    "        features['edfa_index'] = edfa_name_to_index.get(edfa_name, -1)\n",
    "        features['EDFA_type'] = extractionType_local\n",
    "        # Move edfa_index to the first column\n",
    "        cols = features.columns.tolist()\n",
    "        cols.insert(0, cols.pop(cols.index('EDFA_type')))\n",
    "        cols.insert(0, cols.pop(cols.index('edfa_index')))\n",
    "        features = features[cols]\n",
    "        all_features = pd.concat([all_features, features], ignore_index=True)\n",
    "        print(f\"Processed {fname}, extractionType: {extractionType_local}, channelType: {channelType_local}, edfa_name: {edfa_name}, edfa_index: {edfa_name_to_index.get(edfa_name, -1)}, rows: {len(features)}\")\n",
    "    return all_features\n",
    "\n",
    "# For aging train and test\n",
    "unseen_train_features = extract_features_from_dir(\n",
    "    unseen_train_dir, featureType='train'\n",
    ")\n",
    "unseen_test_features = extract_features_from_dir(\n",
    "    unseen_test_dir, featureType='test'\n",
    ")\n",
    " \n",
    "unseen_train_features.to_csv(unseen_output_csv_train, index=False)\n",
    "unseen_test_features.to_csv(unseen_output_csv_test, index=False)"
   ]
  },
  {
   "cell_type": "markdown",
   "id": "cf4e5da5",
   "metadata": {},
   "source": [
    "COSMOS feature extraction"
   ]
  },
  {
   "cell_type": "code",
   "execution_count": 21,
   "id": "64b4007a",
   "metadata": {},
   "outputs": [
    {
     "name": "stdout",
     "output_type": "stream",
     "text": [
      "EDFA name to index mapping (hardcoded):\n",
      "  rdm1-co1: 0\n",
      "  rdm2-co1: 1\n",
      "  rdm3-co1: 2\n",
      "  rdm4-co1: 3\n",
      "  rdm5-co1: 4\n",
      "  rdm6-co1: 5\n",
      "  rdm1-lg1: 6\n",
      "  rdm2-lg1: 7\n"
     ]
    },
    {
     "name": "stderr",
     "output_type": "stream",
     "text": [
      "C:\\Users\\mh756\\AppData\\Local\\Temp\\ipykernel_22460\\75894833.py:78: PerformanceWarning: DataFrame is highly fragmented.  This is usually the result of calling `frame.insert` many times, which has poor performance.  Consider joining all columns at once using pd.concat(axis=1) instead. To get a de-fragmented frame, use `newframe = frame.copy()`\n",
      "  features['edfa_index'] = edfa_name_to_index.get(edfa_name, -1)\n",
      "C:\\Users\\mh756\\AppData\\Local\\Temp\\ipykernel_22460\\75894833.py:79: PerformanceWarning: DataFrame is highly fragmented.  This is usually the result of calling `frame.insert` many times, which has poor performance.  Consider joining all columns at once using pd.concat(axis=1) instead. To get a de-fragmented frame, use `newframe = frame.copy()`\n",
      "  features['EDFA_type'] = extractionType_local\n"
     ]
    },
    {
     "name": "stdout",
     "output_type": "stream",
     "text": [
      "Processed ../dataset/COSMOS_EDFA_Dataset/booster/15dB/fix/edfa_meas_rdm1-co1.bed_booster_2022.06.27.17.18.25.json, extractionType: booster, channelType: fix, edfa_name: rdm1-co1, edfa_index: 0, rows: 280\n"
     ]
    },
    {
     "name": "stderr",
     "output_type": "stream",
     "text": [
      "C:\\Users\\mh756\\AppData\\Local\\Temp\\ipykernel_22460\\75894833.py:78: PerformanceWarning: DataFrame is highly fragmented.  This is usually the result of calling `frame.insert` many times, which has poor performance.  Consider joining all columns at once using pd.concat(axis=1) instead. To get a de-fragmented frame, use `newframe = frame.copy()`\n",
      "  features['edfa_index'] = edfa_name_to_index.get(edfa_name, -1)\n",
      "C:\\Users\\mh756\\AppData\\Local\\Temp\\ipykernel_22460\\75894833.py:79: PerformanceWarning: DataFrame is highly fragmented.  This is usually the result of calling `frame.insert` many times, which has poor performance.  Consider joining all columns at once using pd.concat(axis=1) instead. To get a de-fragmented frame, use `newframe = frame.copy()`\n",
      "  features['EDFA_type'] = extractionType_local\n"
     ]
    },
    {
     "name": "stdout",
     "output_type": "stream",
     "text": [
      "Processed ../dataset/COSMOS_EDFA_Dataset/booster/18dB/fix/edfa_meas_rdm1-co1.bed_booster_2022.03.26.00.51.20.json, extractionType: booster, channelType: fix, edfa_name: rdm1-co1, edfa_index: 0, rows: 280\n"
     ]
    },
    {
     "name": "stderr",
     "output_type": "stream",
     "text": [
      "C:\\Users\\mh756\\AppData\\Local\\Temp\\ipykernel_22460\\75894833.py:78: PerformanceWarning: DataFrame is highly fragmented.  This is usually the result of calling `frame.insert` many times, which has poor performance.  Consider joining all columns at once using pd.concat(axis=1) instead. To get a de-fragmented frame, use `newframe = frame.copy()`\n",
      "  features['edfa_index'] = edfa_name_to_index.get(edfa_name, -1)\n",
      "C:\\Users\\mh756\\AppData\\Local\\Temp\\ipykernel_22460\\75894833.py:79: PerformanceWarning: DataFrame is highly fragmented.  This is usually the result of calling `frame.insert` many times, which has poor performance.  Consider joining all columns at once using pd.concat(axis=1) instead. To get a de-fragmented frame, use `newframe = frame.copy()`\n",
      "  features['EDFA_type'] = extractionType_local\n"
     ]
    },
    {
     "name": "stdout",
     "output_type": "stream",
     "text": [
      "Processed ../dataset/COSMOS_EDFA_Dataset/booster/21dB/fix/edfa_meas_rdm1-co1.bed_booster_2022.04.09.15.28.29.json, extractionType: booster, channelType: fix, edfa_name: rdm1-co1, edfa_index: 0, rows: 280\n"
     ]
    },
    {
     "name": "stderr",
     "output_type": "stream",
     "text": [
      "C:\\Users\\mh756\\AppData\\Local\\Temp\\ipykernel_22460\\75894833.py:78: PerformanceWarning: DataFrame is highly fragmented.  This is usually the result of calling `frame.insert` many times, which has poor performance.  Consider joining all columns at once using pd.concat(axis=1) instead. To get a de-fragmented frame, use `newframe = frame.copy()`\n",
      "  features['edfa_index'] = edfa_name_to_index.get(edfa_name, -1)\n",
      "C:\\Users\\mh756\\AppData\\Local\\Temp\\ipykernel_22460\\75894833.py:79: PerformanceWarning: DataFrame is highly fragmented.  This is usually the result of calling `frame.insert` many times, which has poor performance.  Consider joining all columns at once using pd.concat(axis=1) instead. To get a de-fragmented frame, use `newframe = frame.copy()`\n",
      "  features['EDFA_type'] = extractionType_local\n"
     ]
    },
    {
     "name": "stdout",
     "output_type": "stream",
     "text": [
      "Processed ../dataset/COSMOS_EDFA_Dataset/booster/15dB/random/edfa_meas_rdm1-co1.bed_booster_2022.06.28.06.08.07.json, extractionType: booster, channelType: random, edfa_name: rdm1-co1, edfa_index: 0, rows: 1100\n"
     ]
    },
    {
     "name": "stderr",
     "output_type": "stream",
     "text": [
      "C:\\Users\\mh756\\AppData\\Local\\Temp\\ipykernel_22460\\75894833.py:78: PerformanceWarning: DataFrame is highly fragmented.  This is usually the result of calling `frame.insert` many times, which has poor performance.  Consider joining all columns at once using pd.concat(axis=1) instead. To get a de-fragmented frame, use `newframe = frame.copy()`\n",
      "  features['edfa_index'] = edfa_name_to_index.get(edfa_name, -1)\n",
      "C:\\Users\\mh756\\AppData\\Local\\Temp\\ipykernel_22460\\75894833.py:79: PerformanceWarning: DataFrame is highly fragmented.  This is usually the result of calling `frame.insert` many times, which has poor performance.  Consider joining all columns at once using pd.concat(axis=1) instead. To get a de-fragmented frame, use `newframe = frame.copy()`\n",
      "  features['EDFA_type'] = extractionType_local\n"
     ]
    },
    {
     "name": "stdout",
     "output_type": "stream",
     "text": [
      "Processed ../dataset/COSMOS_EDFA_Dataset/booster/18dB/random/edfa_meas_rdm1-co1.bed_booster_2022.03.28.19.36.33.json, extractionType: booster, channelType: random, edfa_name: rdm1-co1, edfa_index: 0, rows: 1100\n"
     ]
    },
    {
     "name": "stderr",
     "output_type": "stream",
     "text": [
      "C:\\Users\\mh756\\AppData\\Local\\Temp\\ipykernel_22460\\75894833.py:78: PerformanceWarning: DataFrame is highly fragmented.  This is usually the result of calling `frame.insert` many times, which has poor performance.  Consider joining all columns at once using pd.concat(axis=1) instead. To get a de-fragmented frame, use `newframe = frame.copy()`\n",
      "  features['edfa_index'] = edfa_name_to_index.get(edfa_name, -1)\n",
      "C:\\Users\\mh756\\AppData\\Local\\Temp\\ipykernel_22460\\75894833.py:79: PerformanceWarning: DataFrame is highly fragmented.  This is usually the result of calling `frame.insert` many times, which has poor performance.  Consider joining all columns at once using pd.concat(axis=1) instead. To get a de-fragmented frame, use `newframe = frame.copy()`\n",
      "  features['EDFA_type'] = extractionType_local\n"
     ]
    },
    {
     "name": "stdout",
     "output_type": "stream",
     "text": [
      "Processed ../dataset/COSMOS_EDFA_Dataset/booster/21dB/random/edfa_meas_rdm1-co1.bed_booster_2022.04.17.21.00.12.json, extractionType: booster, channelType: random, edfa_name: rdm1-co1, edfa_index: 0, rows: 1100\n"
     ]
    },
    {
     "name": "stderr",
     "output_type": "stream",
     "text": [
      "C:\\Users\\mh756\\AppData\\Local\\Temp\\ipykernel_22460\\75894833.py:78: PerformanceWarning: DataFrame is highly fragmented.  This is usually the result of calling `frame.insert` many times, which has poor performance.  Consider joining all columns at once using pd.concat(axis=1) instead. To get a de-fragmented frame, use `newframe = frame.copy()`\n",
      "  features['edfa_index'] = edfa_name_to_index.get(edfa_name, -1)\n",
      "C:\\Users\\mh756\\AppData\\Local\\Temp\\ipykernel_22460\\75894833.py:79: PerformanceWarning: DataFrame is highly fragmented.  This is usually the result of calling `frame.insert` many times, which has poor performance.  Consider joining all columns at once using pd.concat(axis=1) instead. To get a de-fragmented frame, use `newframe = frame.copy()`\n",
      "  features['EDFA_type'] = extractionType_local\n"
     ]
    },
    {
     "name": "stdout",
     "output_type": "stream",
     "text": [
      "Processed ../dataset/COSMOS_EDFA_Dataset/booster/15dB/extraRandom/edfa_meas_rdm1-co1.bed_booster_2022.06.28.18.49.20.json, extractionType: booster, channelType: extraRandom, edfa_name: rdm1-co1, edfa_index: 0, rows: 940\n"
     ]
    },
    {
     "name": "stderr",
     "output_type": "stream",
     "text": [
      "C:\\Users\\mh756\\AppData\\Local\\Temp\\ipykernel_22460\\75894833.py:78: PerformanceWarning: DataFrame is highly fragmented.  This is usually the result of calling `frame.insert` many times, which has poor performance.  Consider joining all columns at once using pd.concat(axis=1) instead. To get a de-fragmented frame, use `newframe = frame.copy()`\n",
      "  features['edfa_index'] = edfa_name_to_index.get(edfa_name, -1)\n",
      "C:\\Users\\mh756\\AppData\\Local\\Temp\\ipykernel_22460\\75894833.py:79: PerformanceWarning: DataFrame is highly fragmented.  This is usually the result of calling `frame.insert` many times, which has poor performance.  Consider joining all columns at once using pd.concat(axis=1) instead. To get a de-fragmented frame, use `newframe = frame.copy()`\n",
      "  features['EDFA_type'] = extractionType_local\n"
     ]
    },
    {
     "name": "stdout",
     "output_type": "stream",
     "text": [
      "Processed ../dataset/COSMOS_EDFA_Dataset/booster/18dB/extraRandom/edfa_meas_rdm1-co1.bed_booster_2022.03.23.13.26.09.json, extractionType: booster, channelType: extraRandom, edfa_name: rdm1-co1, edfa_index: 0, rows: 940\n"
     ]
    },
    {
     "name": "stderr",
     "output_type": "stream",
     "text": [
      "C:\\Users\\mh756\\AppData\\Local\\Temp\\ipykernel_22460\\75894833.py:78: PerformanceWarning: DataFrame is highly fragmented.  This is usually the result of calling `frame.insert` many times, which has poor performance.  Consider joining all columns at once using pd.concat(axis=1) instead. To get a de-fragmented frame, use `newframe = frame.copy()`\n",
      "  features['edfa_index'] = edfa_name_to_index.get(edfa_name, -1)\n",
      "C:\\Users\\mh756\\AppData\\Local\\Temp\\ipykernel_22460\\75894833.py:79: PerformanceWarning: DataFrame is highly fragmented.  This is usually the result of calling `frame.insert` many times, which has poor performance.  Consider joining all columns at once using pd.concat(axis=1) instead. To get a de-fragmented frame, use `newframe = frame.copy()`\n",
      "  features['EDFA_type'] = extractionType_local\n"
     ]
    },
    {
     "name": "stdout",
     "output_type": "stream",
     "text": [
      "Processed ../dataset/COSMOS_EDFA_Dataset/booster/21dB/extraRandom/edfa_meas_rdm1-co1.bed_booster_2022.05.03.00.26.43.json, extractionType: booster, channelType: extraRandom, edfa_name: rdm1-co1, edfa_index: 0, rows: 940\n"
     ]
    },
    {
     "name": "stderr",
     "output_type": "stream",
     "text": [
      "C:\\Users\\mh756\\AppData\\Local\\Temp\\ipykernel_22460\\75894833.py:78: PerformanceWarning: DataFrame is highly fragmented.  This is usually the result of calling `frame.insert` many times, which has poor performance.  Consider joining all columns at once using pd.concat(axis=1) instead. To get a de-fragmented frame, use `newframe = frame.copy()`\n",
      "  features['edfa_index'] = edfa_name_to_index.get(edfa_name, -1)\n",
      "C:\\Users\\mh756\\AppData\\Local\\Temp\\ipykernel_22460\\75894833.py:79: PerformanceWarning: DataFrame is highly fragmented.  This is usually the result of calling `frame.insert` many times, which has poor performance.  Consider joining all columns at once using pd.concat(axis=1) instead. To get a de-fragmented frame, use `newframe = frame.copy()`\n",
      "  features['EDFA_type'] = extractionType_local\n"
     ]
    },
    {
     "name": "stdout",
     "output_type": "stream",
     "text": [
      "Processed ../dataset/COSMOS_EDFA_Dataset/booster/15dB/extraLow/edfa_meas_rdm1-co1.bed_booster_2022.06.27.23.38.21.json, extractionType: booster, channelType: extraLow, edfa_name: rdm1-co1, edfa_index: 0, rows: 568\n"
     ]
    },
    {
     "name": "stderr",
     "output_type": "stream",
     "text": [
      "C:\\Users\\mh756\\AppData\\Local\\Temp\\ipykernel_22460\\75894833.py:78: PerformanceWarning: DataFrame is highly fragmented.  This is usually the result of calling `frame.insert` many times, which has poor performance.  Consider joining all columns at once using pd.concat(axis=1) instead. To get a de-fragmented frame, use `newframe = frame.copy()`\n",
      "  features['edfa_index'] = edfa_name_to_index.get(edfa_name, -1)\n",
      "C:\\Users\\mh756\\AppData\\Local\\Temp\\ipykernel_22460\\75894833.py:79: PerformanceWarning: DataFrame is highly fragmented.  This is usually the result of calling `frame.insert` many times, which has poor performance.  Consider joining all columns at once using pd.concat(axis=1) instead. To get a de-fragmented frame, use `newframe = frame.copy()`\n",
      "  features['EDFA_type'] = extractionType_local\n"
     ]
    },
    {
     "name": "stdout",
     "output_type": "stream",
     "text": [
      "Processed ../dataset/COSMOS_EDFA_Dataset/booster/18dB/extraLow/edfa_meas_rdm1-co1.bed_booster_2022.03.24.00.21.10.json, extractionType: booster, channelType: extraLow, edfa_name: rdm1-co1, edfa_index: 0, rows: 568\n"
     ]
    },
    {
     "name": "stderr",
     "output_type": "stream",
     "text": [
      "C:\\Users\\mh756\\AppData\\Local\\Temp\\ipykernel_22460\\75894833.py:78: PerformanceWarning: DataFrame is highly fragmented.  This is usually the result of calling `frame.insert` many times, which has poor performance.  Consider joining all columns at once using pd.concat(axis=1) instead. To get a de-fragmented frame, use `newframe = frame.copy()`\n",
      "  features['edfa_index'] = edfa_name_to_index.get(edfa_name, -1)\n",
      "C:\\Users\\mh756\\AppData\\Local\\Temp\\ipykernel_22460\\75894833.py:79: PerformanceWarning: DataFrame is highly fragmented.  This is usually the result of calling `frame.insert` many times, which has poor performance.  Consider joining all columns at once using pd.concat(axis=1) instead. To get a de-fragmented frame, use `newframe = frame.copy()`\n",
      "  features['EDFA_type'] = extractionType_local\n"
     ]
    },
    {
     "name": "stdout",
     "output_type": "stream",
     "text": [
      "Processed ../dataset/COSMOS_EDFA_Dataset/booster/21dB/extraLow/edfa_meas_rdm1-co1.bed_booster_2022.04.09.23.44.09.json, extractionType: booster, channelType: extraLow, edfa_name: rdm1-co1, edfa_index: 0, rows: 568\n"
     ]
    },
    {
     "name": "stderr",
     "output_type": "stream",
     "text": [
      "C:\\Users\\mh756\\AppData\\Local\\Temp\\ipykernel_22460\\75894833.py:78: PerformanceWarning: DataFrame is highly fragmented.  This is usually the result of calling `frame.insert` many times, which has poor performance.  Consider joining all columns at once using pd.concat(axis=1) instead. To get a de-fragmented frame, use `newframe = frame.copy()`\n",
      "  features['edfa_index'] = edfa_name_to_index.get(edfa_name, -1)\n",
      "C:\\Users\\mh756\\AppData\\Local\\Temp\\ipykernel_22460\\75894833.py:79: PerformanceWarning: DataFrame is highly fragmented.  This is usually the result of calling `frame.insert` many times, which has poor performance.  Consider joining all columns at once using pd.concat(axis=1) instead. To get a de-fragmented frame, use `newframe = frame.copy()`\n",
      "  features['EDFA_type'] = extractionType_local\n"
     ]
    },
    {
     "name": "stdout",
     "output_type": "stream",
     "text": [
      "Processed ../dataset/COSMOS_EDFA_Dataset/booster/15dB/fix/edfa_meas_rdm2-co1.bed_booster_2022.08.10.15.06.41.json, extractionType: booster, channelType: fix, edfa_name: rdm2-co1, edfa_index: 1, rows: 280\n"
     ]
    },
    {
     "name": "stderr",
     "output_type": "stream",
     "text": [
      "C:\\Users\\mh756\\AppData\\Local\\Temp\\ipykernel_22460\\75894833.py:78: PerformanceWarning: DataFrame is highly fragmented.  This is usually the result of calling `frame.insert` many times, which has poor performance.  Consider joining all columns at once using pd.concat(axis=1) instead. To get a de-fragmented frame, use `newframe = frame.copy()`\n",
      "  features['edfa_index'] = edfa_name_to_index.get(edfa_name, -1)\n",
      "C:\\Users\\mh756\\AppData\\Local\\Temp\\ipykernel_22460\\75894833.py:79: PerformanceWarning: DataFrame is highly fragmented.  This is usually the result of calling `frame.insert` many times, which has poor performance.  Consider joining all columns at once using pd.concat(axis=1) instead. To get a de-fragmented frame, use `newframe = frame.copy()`\n",
      "  features['EDFA_type'] = extractionType_local\n"
     ]
    },
    {
     "name": "stdout",
     "output_type": "stream",
     "text": [
      "Processed ../dataset/COSMOS_EDFA_Dataset/booster/18dB/fix/edfa_meas_rdm2-co1.bed_booster_2022.03.17.11.18.38.json, extractionType: booster, channelType: fix, edfa_name: rdm2-co1, edfa_index: 1, rows: 280\n"
     ]
    },
    {
     "name": "stderr",
     "output_type": "stream",
     "text": [
      "C:\\Users\\mh756\\AppData\\Local\\Temp\\ipykernel_22460\\75894833.py:78: PerformanceWarning: DataFrame is highly fragmented.  This is usually the result of calling `frame.insert` many times, which has poor performance.  Consider joining all columns at once using pd.concat(axis=1) instead. To get a de-fragmented frame, use `newframe = frame.copy()`\n",
      "  features['edfa_index'] = edfa_name_to_index.get(edfa_name, -1)\n",
      "C:\\Users\\mh756\\AppData\\Local\\Temp\\ipykernel_22460\\75894833.py:79: PerformanceWarning: DataFrame is highly fragmented.  This is usually the result of calling `frame.insert` many times, which has poor performance.  Consider joining all columns at once using pd.concat(axis=1) instead. To get a de-fragmented frame, use `newframe = frame.copy()`\n",
      "  features['EDFA_type'] = extractionType_local\n"
     ]
    },
    {
     "name": "stdout",
     "output_type": "stream",
     "text": [
      "Processed ../dataset/COSMOS_EDFA_Dataset/booster/21dB/fix/edfa_meas_rdm2-co1.bed_booster_2022.04.10.19.43.20.json, extractionType: booster, channelType: fix, edfa_name: rdm2-co1, edfa_index: 1, rows: 280\n"
     ]
    },
    {
     "name": "stderr",
     "output_type": "stream",
     "text": [
      "C:\\Users\\mh756\\AppData\\Local\\Temp\\ipykernel_22460\\75894833.py:78: PerformanceWarning: DataFrame is highly fragmented.  This is usually the result of calling `frame.insert` many times, which has poor performance.  Consider joining all columns at once using pd.concat(axis=1) instead. To get a de-fragmented frame, use `newframe = frame.copy()`\n",
      "  features['edfa_index'] = edfa_name_to_index.get(edfa_name, -1)\n",
      "C:\\Users\\mh756\\AppData\\Local\\Temp\\ipykernel_22460\\75894833.py:79: PerformanceWarning: DataFrame is highly fragmented.  This is usually the result of calling `frame.insert` many times, which has poor performance.  Consider joining all columns at once using pd.concat(axis=1) instead. To get a de-fragmented frame, use `newframe = frame.copy()`\n",
      "  features['EDFA_type'] = extractionType_local\n"
     ]
    },
    {
     "name": "stdout",
     "output_type": "stream",
     "text": [
      "Processed ../dataset/COSMOS_EDFA_Dataset/booster/15dB/random/edfa_meas_rdm2-co1.bed_booster_2022.07.07.20.29.53.json, extractionType: booster, channelType: random, edfa_name: rdm2-co1, edfa_index: 1, rows: 1100\n"
     ]
    },
    {
     "name": "stderr",
     "output_type": "stream",
     "text": [
      "C:\\Users\\mh756\\AppData\\Local\\Temp\\ipykernel_22460\\75894833.py:78: PerformanceWarning: DataFrame is highly fragmented.  This is usually the result of calling `frame.insert` many times, which has poor performance.  Consider joining all columns at once using pd.concat(axis=1) instead. To get a de-fragmented frame, use `newframe = frame.copy()`\n",
      "  features['edfa_index'] = edfa_name_to_index.get(edfa_name, -1)\n",
      "C:\\Users\\mh756\\AppData\\Local\\Temp\\ipykernel_22460\\75894833.py:79: PerformanceWarning: DataFrame is highly fragmented.  This is usually the result of calling `frame.insert` many times, which has poor performance.  Consider joining all columns at once using pd.concat(axis=1) instead. To get a de-fragmented frame, use `newframe = frame.copy()`\n",
      "  features['EDFA_type'] = extractionType_local\n"
     ]
    },
    {
     "name": "stdout",
     "output_type": "stream",
     "text": [
      "Processed ../dataset/COSMOS_EDFA_Dataset/booster/18dB/random/edfa_meas_rdm2-co1.bed_booster_2022.03.29.06.53.36.json, extractionType: booster, channelType: random, edfa_name: rdm2-co1, edfa_index: 1, rows: 1100\n"
     ]
    },
    {
     "name": "stderr",
     "output_type": "stream",
     "text": [
      "C:\\Users\\mh756\\AppData\\Local\\Temp\\ipykernel_22460\\75894833.py:78: PerformanceWarning: DataFrame is highly fragmented.  This is usually the result of calling `frame.insert` many times, which has poor performance.  Consider joining all columns at once using pd.concat(axis=1) instead. To get a de-fragmented frame, use `newframe = frame.copy()`\n",
      "  features['edfa_index'] = edfa_name_to_index.get(edfa_name, -1)\n",
      "C:\\Users\\mh756\\AppData\\Local\\Temp\\ipykernel_22460\\75894833.py:79: PerformanceWarning: DataFrame is highly fragmented.  This is usually the result of calling `frame.insert` many times, which has poor performance.  Consider joining all columns at once using pd.concat(axis=1) instead. To get a de-fragmented frame, use `newframe = frame.copy()`\n",
      "  features['EDFA_type'] = extractionType_local\n"
     ]
    },
    {
     "name": "stdout",
     "output_type": "stream",
     "text": [
      "Processed ../dataset/COSMOS_EDFA_Dataset/booster/21dB/random/edfa_meas_rdm2-co1.bed_booster_2022.04.19.17.10.51.json, extractionType: booster, channelType: random, edfa_name: rdm2-co1, edfa_index: 1, rows: 1100\n"
     ]
    },
    {
     "name": "stderr",
     "output_type": "stream",
     "text": [
      "C:\\Users\\mh756\\AppData\\Local\\Temp\\ipykernel_22460\\75894833.py:78: PerformanceWarning: DataFrame is highly fragmented.  This is usually the result of calling `frame.insert` many times, which has poor performance.  Consider joining all columns at once using pd.concat(axis=1) instead. To get a de-fragmented frame, use `newframe = frame.copy()`\n",
      "  features['edfa_index'] = edfa_name_to_index.get(edfa_name, -1)\n",
      "C:\\Users\\mh756\\AppData\\Local\\Temp\\ipykernel_22460\\75894833.py:79: PerformanceWarning: DataFrame is highly fragmented.  This is usually the result of calling `frame.insert` many times, which has poor performance.  Consider joining all columns at once using pd.concat(axis=1) instead. To get a de-fragmented frame, use `newframe = frame.copy()`\n",
      "  features['EDFA_type'] = extractionType_local\n"
     ]
    },
    {
     "name": "stdout",
     "output_type": "stream",
     "text": [
      "Processed ../dataset/COSMOS_EDFA_Dataset/booster/15dB/extraRandom/edfa_meas_rdm2-co1.bed_booster_2022.07.01.13.34.21.json, extractionType: booster, channelType: extraRandom, edfa_name: rdm2-co1, edfa_index: 1, rows: 940\n"
     ]
    },
    {
     "name": "stderr",
     "output_type": "stream",
     "text": [
      "C:\\Users\\mh756\\AppData\\Local\\Temp\\ipykernel_22460\\75894833.py:78: PerformanceWarning: DataFrame is highly fragmented.  This is usually the result of calling `frame.insert` many times, which has poor performance.  Consider joining all columns at once using pd.concat(axis=1) instead. To get a de-fragmented frame, use `newframe = frame.copy()`\n",
      "  features['edfa_index'] = edfa_name_to_index.get(edfa_name, -1)\n",
      "C:\\Users\\mh756\\AppData\\Local\\Temp\\ipykernel_22460\\75894833.py:79: PerformanceWarning: DataFrame is highly fragmented.  This is usually the result of calling `frame.insert` many times, which has poor performance.  Consider joining all columns at once using pd.concat(axis=1) instead. To get a de-fragmented frame, use `newframe = frame.copy()`\n",
      "  features['EDFA_type'] = extractionType_local\n"
     ]
    },
    {
     "name": "stdout",
     "output_type": "stream",
     "text": [
      "Processed ../dataset/COSMOS_EDFA_Dataset/booster/18dB/extraRandom/edfa_meas_rdm2-co1.bed_booster_2022.03.23.00.02.51.json, extractionType: booster, channelType: extraRandom, edfa_name: rdm2-co1, edfa_index: 1, rows: 940\n"
     ]
    },
    {
     "name": "stderr",
     "output_type": "stream",
     "text": [
      "C:\\Users\\mh756\\AppData\\Local\\Temp\\ipykernel_22460\\75894833.py:78: PerformanceWarning: DataFrame is highly fragmented.  This is usually the result of calling `frame.insert` many times, which has poor performance.  Consider joining all columns at once using pd.concat(axis=1) instead. To get a de-fragmented frame, use `newframe = frame.copy()`\n",
      "  features['edfa_index'] = edfa_name_to_index.get(edfa_name, -1)\n",
      "C:\\Users\\mh756\\AppData\\Local\\Temp\\ipykernel_22460\\75894833.py:79: PerformanceWarning: DataFrame is highly fragmented.  This is usually the result of calling `frame.insert` many times, which has poor performance.  Consider joining all columns at once using pd.concat(axis=1) instead. To get a de-fragmented frame, use `newframe = frame.copy()`\n",
      "  features['EDFA_type'] = extractionType_local\n"
     ]
    },
    {
     "name": "stdout",
     "output_type": "stream",
     "text": [
      "Processed ../dataset/COSMOS_EDFA_Dataset/booster/21dB/extraRandom/edfa_meas_rdm2-co1.bed_booster_2022.04.12.22.22.48.json, extractionType: booster, channelType: extraRandom, edfa_name: rdm2-co1, edfa_index: 1, rows: 940\n"
     ]
    },
    {
     "name": "stderr",
     "output_type": "stream",
     "text": [
      "C:\\Users\\mh756\\AppData\\Local\\Temp\\ipykernel_22460\\75894833.py:78: PerformanceWarning: DataFrame is highly fragmented.  This is usually the result of calling `frame.insert` many times, which has poor performance.  Consider joining all columns at once using pd.concat(axis=1) instead. To get a de-fragmented frame, use `newframe = frame.copy()`\n",
      "  features['edfa_index'] = edfa_name_to_index.get(edfa_name, -1)\n",
      "C:\\Users\\mh756\\AppData\\Local\\Temp\\ipykernel_22460\\75894833.py:79: PerformanceWarning: DataFrame is highly fragmented.  This is usually the result of calling `frame.insert` many times, which has poor performance.  Consider joining all columns at once using pd.concat(axis=1) instead. To get a de-fragmented frame, use `newframe = frame.copy()`\n",
      "  features['EDFA_type'] = extractionType_local\n"
     ]
    },
    {
     "name": "stdout",
     "output_type": "stream",
     "text": [
      "Processed ../dataset/COSMOS_EDFA_Dataset/booster/15dB/extraLow/edfa_meas_rdm2-co1.bed_booster_2022.06.30.18.24.39.json, extractionType: booster, channelType: extraLow, edfa_name: rdm2-co1, edfa_index: 1, rows: 568\n"
     ]
    },
    {
     "name": "stderr",
     "output_type": "stream",
     "text": [
      "C:\\Users\\mh756\\AppData\\Local\\Temp\\ipykernel_22460\\75894833.py:78: PerformanceWarning: DataFrame is highly fragmented.  This is usually the result of calling `frame.insert` many times, which has poor performance.  Consider joining all columns at once using pd.concat(axis=1) instead. To get a de-fragmented frame, use `newframe = frame.copy()`\n",
      "  features['edfa_index'] = edfa_name_to_index.get(edfa_name, -1)\n",
      "C:\\Users\\mh756\\AppData\\Local\\Temp\\ipykernel_22460\\75894833.py:79: PerformanceWarning: DataFrame is highly fragmented.  This is usually the result of calling `frame.insert` many times, which has poor performance.  Consider joining all columns at once using pd.concat(axis=1) instead. To get a de-fragmented frame, use `newframe = frame.copy()`\n",
      "  features['EDFA_type'] = extractionType_local\n"
     ]
    },
    {
     "name": "stdout",
     "output_type": "stream",
     "text": [
      "Processed ../dataset/COSMOS_EDFA_Dataset/booster/18dB/extraLow/edfa_meas_rdm2-co1.bed_booster_2022.03.25.00.43.43.json, extractionType: booster, channelType: extraLow, edfa_name: rdm2-co1, edfa_index: 1, rows: 568\n"
     ]
    },
    {
     "name": "stderr",
     "output_type": "stream",
     "text": [
      "C:\\Users\\mh756\\AppData\\Local\\Temp\\ipykernel_22460\\75894833.py:78: PerformanceWarning: DataFrame is highly fragmented.  This is usually the result of calling `frame.insert` many times, which has poor performance.  Consider joining all columns at once using pd.concat(axis=1) instead. To get a de-fragmented frame, use `newframe = frame.copy()`\n",
      "  features['edfa_index'] = edfa_name_to_index.get(edfa_name, -1)\n",
      "C:\\Users\\mh756\\AppData\\Local\\Temp\\ipykernel_22460\\75894833.py:79: PerformanceWarning: DataFrame is highly fragmented.  This is usually the result of calling `frame.insert` many times, which has poor performance.  Consider joining all columns at once using pd.concat(axis=1) instead. To get a de-fragmented frame, use `newframe = frame.copy()`\n",
      "  features['EDFA_type'] = extractionType_local\n"
     ]
    },
    {
     "name": "stdout",
     "output_type": "stream",
     "text": [
      "Processed ../dataset/COSMOS_EDFA_Dataset/booster/21dB/extraLow/edfa_meas_rdm2-co1.bed_booster_2022.08.11.16.11.29.json, extractionType: booster, channelType: extraLow, edfa_name: rdm2-co1, edfa_index: 1, rows: 568\n"
     ]
    },
    {
     "name": "stderr",
     "output_type": "stream",
     "text": [
      "C:\\Users\\mh756\\AppData\\Local\\Temp\\ipykernel_22460\\75894833.py:78: PerformanceWarning: DataFrame is highly fragmented.  This is usually the result of calling `frame.insert` many times, which has poor performance.  Consider joining all columns at once using pd.concat(axis=1) instead. To get a de-fragmented frame, use `newframe = frame.copy()`\n",
      "  features['edfa_index'] = edfa_name_to_index.get(edfa_name, -1)\n",
      "C:\\Users\\mh756\\AppData\\Local\\Temp\\ipykernel_22460\\75894833.py:79: PerformanceWarning: DataFrame is highly fragmented.  This is usually the result of calling `frame.insert` many times, which has poor performance.  Consider joining all columns at once using pd.concat(axis=1) instead. To get a de-fragmented frame, use `newframe = frame.copy()`\n",
      "  features['EDFA_type'] = extractionType_local\n"
     ]
    },
    {
     "name": "stdout",
     "output_type": "stream",
     "text": [
      "Processed ../dataset/COSMOS_EDFA_Dataset/booster/15dB/fix/edfa_meas_rdm3-co1.bed_booster_2022.06.27.17.18.25.json, extractionType: booster, channelType: fix, edfa_name: rdm3-co1, edfa_index: 2, rows: 280\n"
     ]
    },
    {
     "name": "stderr",
     "output_type": "stream",
     "text": [
      "C:\\Users\\mh756\\AppData\\Local\\Temp\\ipykernel_22460\\75894833.py:78: PerformanceWarning: DataFrame is highly fragmented.  This is usually the result of calling `frame.insert` many times, which has poor performance.  Consider joining all columns at once using pd.concat(axis=1) instead. To get a de-fragmented frame, use `newframe = frame.copy()`\n",
      "  features['edfa_index'] = edfa_name_to_index.get(edfa_name, -1)\n",
      "C:\\Users\\mh756\\AppData\\Local\\Temp\\ipykernel_22460\\75894833.py:79: PerformanceWarning: DataFrame is highly fragmented.  This is usually the result of calling `frame.insert` many times, which has poor performance.  Consider joining all columns at once using pd.concat(axis=1) instead. To get a de-fragmented frame, use `newframe = frame.copy()`\n",
      "  features['EDFA_type'] = extractionType_local\n"
     ]
    },
    {
     "name": "stdout",
     "output_type": "stream",
     "text": [
      "Processed ../dataset/COSMOS_EDFA_Dataset/booster/18dB/fix/edfa_meas_rdm3-co1.bed_booster_2022.03.16.00.46.34.json, extractionType: booster, channelType: fix, edfa_name: rdm3-co1, edfa_index: 2, rows: 280\n"
     ]
    },
    {
     "name": "stderr",
     "output_type": "stream",
     "text": [
      "C:\\Users\\mh756\\AppData\\Local\\Temp\\ipykernel_22460\\75894833.py:78: PerformanceWarning: DataFrame is highly fragmented.  This is usually the result of calling `frame.insert` many times, which has poor performance.  Consider joining all columns at once using pd.concat(axis=1) instead. To get a de-fragmented frame, use `newframe = frame.copy()`\n",
      "  features['edfa_index'] = edfa_name_to_index.get(edfa_name, -1)\n",
      "C:\\Users\\mh756\\AppData\\Local\\Temp\\ipykernel_22460\\75894833.py:79: PerformanceWarning: DataFrame is highly fragmented.  This is usually the result of calling `frame.insert` many times, which has poor performance.  Consider joining all columns at once using pd.concat(axis=1) instead. To get a de-fragmented frame, use `newframe = frame.copy()`\n",
      "  features['EDFA_type'] = extractionType_local\n"
     ]
    },
    {
     "name": "stdout",
     "output_type": "stream",
     "text": [
      "Processed ../dataset/COSMOS_EDFA_Dataset/booster/21dB/fix/edfa_meas_rdm3-co1.bed_booster_2022.04.09.15.28.29.json, extractionType: booster, channelType: fix, edfa_name: rdm3-co1, edfa_index: 2, rows: 280\n"
     ]
    },
    {
     "name": "stderr",
     "output_type": "stream",
     "text": [
      "C:\\Users\\mh756\\AppData\\Local\\Temp\\ipykernel_22460\\75894833.py:78: PerformanceWarning: DataFrame is highly fragmented.  This is usually the result of calling `frame.insert` many times, which has poor performance.  Consider joining all columns at once using pd.concat(axis=1) instead. To get a de-fragmented frame, use `newframe = frame.copy()`\n",
      "  features['edfa_index'] = edfa_name_to_index.get(edfa_name, -1)\n",
      "C:\\Users\\mh756\\AppData\\Local\\Temp\\ipykernel_22460\\75894833.py:79: PerformanceWarning: DataFrame is highly fragmented.  This is usually the result of calling `frame.insert` many times, which has poor performance.  Consider joining all columns at once using pd.concat(axis=1) instead. To get a de-fragmented frame, use `newframe = frame.copy()`\n",
      "  features['EDFA_type'] = extractionType_local\n"
     ]
    },
    {
     "name": "stdout",
     "output_type": "stream",
     "text": [
      "Processed ../dataset/COSMOS_EDFA_Dataset/booster/15dB/random/edfa_meas_rdm3-co1.bed_booster_2022.06.28.06.08.07.json, extractionType: booster, channelType: random, edfa_name: rdm3-co1, edfa_index: 2, rows: 1100\n"
     ]
    },
    {
     "name": "stderr",
     "output_type": "stream",
     "text": [
      "C:\\Users\\mh756\\AppData\\Local\\Temp\\ipykernel_22460\\75894833.py:78: PerformanceWarning: DataFrame is highly fragmented.  This is usually the result of calling `frame.insert` many times, which has poor performance.  Consider joining all columns at once using pd.concat(axis=1) instead. To get a de-fragmented frame, use `newframe = frame.copy()`\n",
      "  features['edfa_index'] = edfa_name_to_index.get(edfa_name, -1)\n",
      "C:\\Users\\mh756\\AppData\\Local\\Temp\\ipykernel_22460\\75894833.py:79: PerformanceWarning: DataFrame is highly fragmented.  This is usually the result of calling `frame.insert` many times, which has poor performance.  Consider joining all columns at once using pd.concat(axis=1) instead. To get a de-fragmented frame, use `newframe = frame.copy()`\n",
      "  features['EDFA_type'] = extractionType_local\n"
     ]
    },
    {
     "name": "stdout",
     "output_type": "stream",
     "text": [
      "Processed ../dataset/COSMOS_EDFA_Dataset/booster/18dB/random/edfa_meas_rdm3-co1.bed_booster_2022.03.28.19.36.34.json, extractionType: booster, channelType: random, edfa_name: rdm3-co1, edfa_index: 2, rows: 1100\n"
     ]
    },
    {
     "name": "stderr",
     "output_type": "stream",
     "text": [
      "C:\\Users\\mh756\\AppData\\Local\\Temp\\ipykernel_22460\\75894833.py:78: PerformanceWarning: DataFrame is highly fragmented.  This is usually the result of calling `frame.insert` many times, which has poor performance.  Consider joining all columns at once using pd.concat(axis=1) instead. To get a de-fragmented frame, use `newframe = frame.copy()`\n",
      "  features['edfa_index'] = edfa_name_to_index.get(edfa_name, -1)\n",
      "C:\\Users\\mh756\\AppData\\Local\\Temp\\ipykernel_22460\\75894833.py:79: PerformanceWarning: DataFrame is highly fragmented.  This is usually the result of calling `frame.insert` many times, which has poor performance.  Consider joining all columns at once using pd.concat(axis=1) instead. To get a de-fragmented frame, use `newframe = frame.copy()`\n",
      "  features['EDFA_type'] = extractionType_local\n"
     ]
    },
    {
     "name": "stdout",
     "output_type": "stream",
     "text": [
      "Processed ../dataset/COSMOS_EDFA_Dataset/booster/21dB/random/edfa_meas_rdm3-co1.bed_booster_2022.04.17.21.00.12.json, extractionType: booster, channelType: random, edfa_name: rdm3-co1, edfa_index: 2, rows: 1100\n"
     ]
    },
    {
     "name": "stderr",
     "output_type": "stream",
     "text": [
      "C:\\Users\\mh756\\AppData\\Local\\Temp\\ipykernel_22460\\75894833.py:78: PerformanceWarning: DataFrame is highly fragmented.  This is usually the result of calling `frame.insert` many times, which has poor performance.  Consider joining all columns at once using pd.concat(axis=1) instead. To get a de-fragmented frame, use `newframe = frame.copy()`\n",
      "  features['edfa_index'] = edfa_name_to_index.get(edfa_name, -1)\n",
      "C:\\Users\\mh756\\AppData\\Local\\Temp\\ipykernel_22460\\75894833.py:79: PerformanceWarning: DataFrame is highly fragmented.  This is usually the result of calling `frame.insert` many times, which has poor performance.  Consider joining all columns at once using pd.concat(axis=1) instead. To get a de-fragmented frame, use `newframe = frame.copy()`\n",
      "  features['EDFA_type'] = extractionType_local\n"
     ]
    },
    {
     "name": "stdout",
     "output_type": "stream",
     "text": [
      "Processed ../dataset/COSMOS_EDFA_Dataset/booster/15dB/extraRandom/edfa_meas_rdm3-co1.bed_booster_2022.06.28.18.49.20.json, extractionType: booster, channelType: extraRandom, edfa_name: rdm3-co1, edfa_index: 2, rows: 940\n"
     ]
    },
    {
     "name": "stderr",
     "output_type": "stream",
     "text": [
      "C:\\Users\\mh756\\AppData\\Local\\Temp\\ipykernel_22460\\75894833.py:78: PerformanceWarning: DataFrame is highly fragmented.  This is usually the result of calling `frame.insert` many times, which has poor performance.  Consider joining all columns at once using pd.concat(axis=1) instead. To get a de-fragmented frame, use `newframe = frame.copy()`\n",
      "  features['edfa_index'] = edfa_name_to_index.get(edfa_name, -1)\n",
      "C:\\Users\\mh756\\AppData\\Local\\Temp\\ipykernel_22460\\75894833.py:79: PerformanceWarning: DataFrame is highly fragmented.  This is usually the result of calling `frame.insert` many times, which has poor performance.  Consider joining all columns at once using pd.concat(axis=1) instead. To get a de-fragmented frame, use `newframe = frame.copy()`\n",
      "  features['EDFA_type'] = extractionType_local\n"
     ]
    },
    {
     "name": "stdout",
     "output_type": "stream",
     "text": [
      "Processed ../dataset/COSMOS_EDFA_Dataset/booster/18dB/extraRandom/edfa_meas_rdm3-co1.bed_booster_2022.03.23.13.26.09.json, extractionType: booster, channelType: extraRandom, edfa_name: rdm3-co1, edfa_index: 2, rows: 940\n"
     ]
    },
    {
     "name": "stderr",
     "output_type": "stream",
     "text": [
      "C:\\Users\\mh756\\AppData\\Local\\Temp\\ipykernel_22460\\75894833.py:78: PerformanceWarning: DataFrame is highly fragmented.  This is usually the result of calling `frame.insert` many times, which has poor performance.  Consider joining all columns at once using pd.concat(axis=1) instead. To get a de-fragmented frame, use `newframe = frame.copy()`\n",
      "  features['edfa_index'] = edfa_name_to_index.get(edfa_name, -1)\n",
      "C:\\Users\\mh756\\AppData\\Local\\Temp\\ipykernel_22460\\75894833.py:79: PerformanceWarning: DataFrame is highly fragmented.  This is usually the result of calling `frame.insert` many times, which has poor performance.  Consider joining all columns at once using pd.concat(axis=1) instead. To get a de-fragmented frame, use `newframe = frame.copy()`\n",
      "  features['EDFA_type'] = extractionType_local\n"
     ]
    },
    {
     "name": "stdout",
     "output_type": "stream",
     "text": [
      "Processed ../dataset/COSMOS_EDFA_Dataset/booster/21dB/extraRandom/edfa_meas_rdm3-co1.bed_booster_2022.05.09.21.25.52.json, extractionType: booster, channelType: extraRandom, edfa_name: rdm3-co1, edfa_index: 2, rows: 940\n"
     ]
    },
    {
     "name": "stderr",
     "output_type": "stream",
     "text": [
      "C:\\Users\\mh756\\AppData\\Local\\Temp\\ipykernel_22460\\75894833.py:78: PerformanceWarning: DataFrame is highly fragmented.  This is usually the result of calling `frame.insert` many times, which has poor performance.  Consider joining all columns at once using pd.concat(axis=1) instead. To get a de-fragmented frame, use `newframe = frame.copy()`\n",
      "  features['edfa_index'] = edfa_name_to_index.get(edfa_name, -1)\n",
      "C:\\Users\\mh756\\AppData\\Local\\Temp\\ipykernel_22460\\75894833.py:79: PerformanceWarning: DataFrame is highly fragmented.  This is usually the result of calling `frame.insert` many times, which has poor performance.  Consider joining all columns at once using pd.concat(axis=1) instead. To get a de-fragmented frame, use `newframe = frame.copy()`\n",
      "  features['EDFA_type'] = extractionType_local\n"
     ]
    },
    {
     "name": "stdout",
     "output_type": "stream",
     "text": [
      "Processed ../dataset/COSMOS_EDFA_Dataset/booster/15dB/extraLow/edfa_meas_rdm3-co1.bed_booster_2022.06.27.23.38.21.json, extractionType: booster, channelType: extraLow, edfa_name: rdm3-co1, edfa_index: 2, rows: 568\n"
     ]
    },
    {
     "name": "stderr",
     "output_type": "stream",
     "text": [
      "C:\\Users\\mh756\\AppData\\Local\\Temp\\ipykernel_22460\\75894833.py:78: PerformanceWarning: DataFrame is highly fragmented.  This is usually the result of calling `frame.insert` many times, which has poor performance.  Consider joining all columns at once using pd.concat(axis=1) instead. To get a de-fragmented frame, use `newframe = frame.copy()`\n",
      "  features['edfa_index'] = edfa_name_to_index.get(edfa_name, -1)\n",
      "C:\\Users\\mh756\\AppData\\Local\\Temp\\ipykernel_22460\\75894833.py:79: PerformanceWarning: DataFrame is highly fragmented.  This is usually the result of calling `frame.insert` many times, which has poor performance.  Consider joining all columns at once using pd.concat(axis=1) instead. To get a de-fragmented frame, use `newframe = frame.copy()`\n",
      "  features['EDFA_type'] = extractionType_local\n"
     ]
    },
    {
     "name": "stdout",
     "output_type": "stream",
     "text": [
      "Processed ../dataset/COSMOS_EDFA_Dataset/booster/18dB/extraLow/edfa_meas_rdm3-co1.bed_booster_2022.03.24.00.21.10.json, extractionType: booster, channelType: extraLow, edfa_name: rdm3-co1, edfa_index: 2, rows: 568\n"
     ]
    },
    {
     "name": "stderr",
     "output_type": "stream",
     "text": [
      "C:\\Users\\mh756\\AppData\\Local\\Temp\\ipykernel_22460\\75894833.py:78: PerformanceWarning: DataFrame is highly fragmented.  This is usually the result of calling `frame.insert` many times, which has poor performance.  Consider joining all columns at once using pd.concat(axis=1) instead. To get a de-fragmented frame, use `newframe = frame.copy()`\n",
      "  features['edfa_index'] = edfa_name_to_index.get(edfa_name, -1)\n",
      "C:\\Users\\mh756\\AppData\\Local\\Temp\\ipykernel_22460\\75894833.py:79: PerformanceWarning: DataFrame is highly fragmented.  This is usually the result of calling `frame.insert` many times, which has poor performance.  Consider joining all columns at once using pd.concat(axis=1) instead. To get a de-fragmented frame, use `newframe = frame.copy()`\n",
      "  features['EDFA_type'] = extractionType_local\n"
     ]
    },
    {
     "name": "stdout",
     "output_type": "stream",
     "text": [
      "Processed ../dataset/COSMOS_EDFA_Dataset/booster/21dB/extraLow/edfa_meas_rdm3-co1.bed_booster_2022.04.09.23.44.09.json, extractionType: booster, channelType: extraLow, edfa_name: rdm3-co1, edfa_index: 2, rows: 568\n"
     ]
    },
    {
     "name": "stderr",
     "output_type": "stream",
     "text": [
      "C:\\Users\\mh756\\AppData\\Local\\Temp\\ipykernel_22460\\75894833.py:78: PerformanceWarning: DataFrame is highly fragmented.  This is usually the result of calling `frame.insert` many times, which has poor performance.  Consider joining all columns at once using pd.concat(axis=1) instead. To get a de-fragmented frame, use `newframe = frame.copy()`\n",
      "  features['edfa_index'] = edfa_name_to_index.get(edfa_name, -1)\n",
      "C:\\Users\\mh756\\AppData\\Local\\Temp\\ipykernel_22460\\75894833.py:79: PerformanceWarning: DataFrame is highly fragmented.  This is usually the result of calling `frame.insert` many times, which has poor performance.  Consider joining all columns at once using pd.concat(axis=1) instead. To get a de-fragmented frame, use `newframe = frame.copy()`\n",
      "  features['EDFA_type'] = extractionType_local\n"
     ]
    },
    {
     "name": "stdout",
     "output_type": "stream",
     "text": [
      "Processed ../dataset/COSMOS_EDFA_Dataset/booster/15dB/fix/edfa_meas_rdm4-co1.bed_booster_2022.06.30.12.05.11.json, extractionType: booster, channelType: fix, edfa_name: rdm4-co1, edfa_index: 3, rows: 280\n"
     ]
    },
    {
     "name": "stderr",
     "output_type": "stream",
     "text": [
      "C:\\Users\\mh756\\AppData\\Local\\Temp\\ipykernel_22460\\75894833.py:78: PerformanceWarning: DataFrame is highly fragmented.  This is usually the result of calling `frame.insert` many times, which has poor performance.  Consider joining all columns at once using pd.concat(axis=1) instead. To get a de-fragmented frame, use `newframe = frame.copy()`\n",
      "  features['edfa_index'] = edfa_name_to_index.get(edfa_name, -1)\n",
      "C:\\Users\\mh756\\AppData\\Local\\Temp\\ipykernel_22460\\75894833.py:79: PerformanceWarning: DataFrame is highly fragmented.  This is usually the result of calling `frame.insert` many times, which has poor performance.  Consider joining all columns at once using pd.concat(axis=1) instead. To get a de-fragmented frame, use `newframe = frame.copy()`\n",
      "  features['EDFA_type'] = extractionType_local\n"
     ]
    },
    {
     "name": "stdout",
     "output_type": "stream",
     "text": [
      "Processed ../dataset/COSMOS_EDFA_Dataset/booster/18dB/fix/edfa_meas_rdm4-co1.bed_booster_2022.03.17.11.18.38.json, extractionType: booster, channelType: fix, edfa_name: rdm4-co1, edfa_index: 3, rows: 280\n"
     ]
    },
    {
     "name": "stderr",
     "output_type": "stream",
     "text": [
      "C:\\Users\\mh756\\AppData\\Local\\Temp\\ipykernel_22460\\75894833.py:78: PerformanceWarning: DataFrame is highly fragmented.  This is usually the result of calling `frame.insert` many times, which has poor performance.  Consider joining all columns at once using pd.concat(axis=1) instead. To get a de-fragmented frame, use `newframe = frame.copy()`\n",
      "  features['edfa_index'] = edfa_name_to_index.get(edfa_name, -1)\n",
      "C:\\Users\\mh756\\AppData\\Local\\Temp\\ipykernel_22460\\75894833.py:79: PerformanceWarning: DataFrame is highly fragmented.  This is usually the result of calling `frame.insert` many times, which has poor performance.  Consider joining all columns at once using pd.concat(axis=1) instead. To get a de-fragmented frame, use `newframe = frame.copy()`\n",
      "  features['EDFA_type'] = extractionType_local\n"
     ]
    },
    {
     "name": "stdout",
     "output_type": "stream",
     "text": [
      "Processed ../dataset/COSMOS_EDFA_Dataset/booster/21dB/fix/edfa_meas_rdm4-co1.bed_booster_2022.04.10.19.43.21.json, extractionType: booster, channelType: fix, edfa_name: rdm4-co1, edfa_index: 3, rows: 280\n"
     ]
    },
    {
     "name": "stderr",
     "output_type": "stream",
     "text": [
      "C:\\Users\\mh756\\AppData\\Local\\Temp\\ipykernel_22460\\75894833.py:78: PerformanceWarning: DataFrame is highly fragmented.  This is usually the result of calling `frame.insert` many times, which has poor performance.  Consider joining all columns at once using pd.concat(axis=1) instead. To get a de-fragmented frame, use `newframe = frame.copy()`\n",
      "  features['edfa_index'] = edfa_name_to_index.get(edfa_name, -1)\n",
      "C:\\Users\\mh756\\AppData\\Local\\Temp\\ipykernel_22460\\75894833.py:79: PerformanceWarning: DataFrame is highly fragmented.  This is usually the result of calling `frame.insert` many times, which has poor performance.  Consider joining all columns at once using pd.concat(axis=1) instead. To get a de-fragmented frame, use `newframe = frame.copy()`\n",
      "  features['EDFA_type'] = extractionType_local\n"
     ]
    },
    {
     "name": "stdout",
     "output_type": "stream",
     "text": [
      "Processed ../dataset/COSMOS_EDFA_Dataset/booster/15dB/random/edfa_meas_rdm4-co1.bed_booster_2022.07.05.22.25.06.json, extractionType: booster, channelType: random, edfa_name: rdm4-co1, edfa_index: 3, rows: 1100\n"
     ]
    },
    {
     "name": "stderr",
     "output_type": "stream",
     "text": [
      "C:\\Users\\mh756\\AppData\\Local\\Temp\\ipykernel_22460\\75894833.py:78: PerformanceWarning: DataFrame is highly fragmented.  This is usually the result of calling `frame.insert` many times, which has poor performance.  Consider joining all columns at once using pd.concat(axis=1) instead. To get a de-fragmented frame, use `newframe = frame.copy()`\n",
      "  features['edfa_index'] = edfa_name_to_index.get(edfa_name, -1)\n",
      "C:\\Users\\mh756\\AppData\\Local\\Temp\\ipykernel_22460\\75894833.py:79: PerformanceWarning: DataFrame is highly fragmented.  This is usually the result of calling `frame.insert` many times, which has poor performance.  Consider joining all columns at once using pd.concat(axis=1) instead. To get a de-fragmented frame, use `newframe = frame.copy()`\n",
      "  features['EDFA_type'] = extractionType_local\n"
     ]
    },
    {
     "name": "stdout",
     "output_type": "stream",
     "text": [
      "Processed ../dataset/COSMOS_EDFA_Dataset/booster/18dB/random/edfa_meas_rdm4-co1.bed_booster_2022.03.29.06.53.36.json, extractionType: booster, channelType: random, edfa_name: rdm4-co1, edfa_index: 3, rows: 1100\n"
     ]
    },
    {
     "name": "stderr",
     "output_type": "stream",
     "text": [
      "C:\\Users\\mh756\\AppData\\Local\\Temp\\ipykernel_22460\\75894833.py:78: PerformanceWarning: DataFrame is highly fragmented.  This is usually the result of calling `frame.insert` many times, which has poor performance.  Consider joining all columns at once using pd.concat(axis=1) instead. To get a de-fragmented frame, use `newframe = frame.copy()`\n",
      "  features['edfa_index'] = edfa_name_to_index.get(edfa_name, -1)\n",
      "C:\\Users\\mh756\\AppData\\Local\\Temp\\ipykernel_22460\\75894833.py:79: PerformanceWarning: DataFrame is highly fragmented.  This is usually the result of calling `frame.insert` many times, which has poor performance.  Consider joining all columns at once using pd.concat(axis=1) instead. To get a de-fragmented frame, use `newframe = frame.copy()`\n",
      "  features['EDFA_type'] = extractionType_local\n"
     ]
    },
    {
     "name": "stdout",
     "output_type": "stream",
     "text": [
      "Processed ../dataset/COSMOS_EDFA_Dataset/booster/21dB/random/edfa_meas_rdm4-co1.bed_booster_2022.04.19.17.10.51.json, extractionType: booster, channelType: random, edfa_name: rdm4-co1, edfa_index: 3, rows: 1100\n"
     ]
    },
    {
     "name": "stderr",
     "output_type": "stream",
     "text": [
      "C:\\Users\\mh756\\AppData\\Local\\Temp\\ipykernel_22460\\75894833.py:78: PerformanceWarning: DataFrame is highly fragmented.  This is usually the result of calling `frame.insert` many times, which has poor performance.  Consider joining all columns at once using pd.concat(axis=1) instead. To get a de-fragmented frame, use `newframe = frame.copy()`\n",
      "  features['edfa_index'] = edfa_name_to_index.get(edfa_name, -1)\n",
      "C:\\Users\\mh756\\AppData\\Local\\Temp\\ipykernel_22460\\75894833.py:79: PerformanceWarning: DataFrame is highly fragmented.  This is usually the result of calling `frame.insert` many times, which has poor performance.  Consider joining all columns at once using pd.concat(axis=1) instead. To get a de-fragmented frame, use `newframe = frame.copy()`\n",
      "  features['EDFA_type'] = extractionType_local\n"
     ]
    },
    {
     "name": "stdout",
     "output_type": "stream",
     "text": [
      "Processed ../dataset/COSMOS_EDFA_Dataset/booster/15dB/extraRandom/edfa_meas_rdm4-co1.bed_booster_2022.07.01.13.34.22.json, extractionType: booster, channelType: extraRandom, edfa_name: rdm4-co1, edfa_index: 3, rows: 940\n"
     ]
    },
    {
     "name": "stderr",
     "output_type": "stream",
     "text": [
      "C:\\Users\\mh756\\AppData\\Local\\Temp\\ipykernel_22460\\75894833.py:78: PerformanceWarning: DataFrame is highly fragmented.  This is usually the result of calling `frame.insert` many times, which has poor performance.  Consider joining all columns at once using pd.concat(axis=1) instead. To get a de-fragmented frame, use `newframe = frame.copy()`\n",
      "  features['edfa_index'] = edfa_name_to_index.get(edfa_name, -1)\n",
      "C:\\Users\\mh756\\AppData\\Local\\Temp\\ipykernel_22460\\75894833.py:79: PerformanceWarning: DataFrame is highly fragmented.  This is usually the result of calling `frame.insert` many times, which has poor performance.  Consider joining all columns at once using pd.concat(axis=1) instead. To get a de-fragmented frame, use `newframe = frame.copy()`\n",
      "  features['EDFA_type'] = extractionType_local\n"
     ]
    },
    {
     "name": "stdout",
     "output_type": "stream",
     "text": [
      "Processed ../dataset/COSMOS_EDFA_Dataset/booster/18dB/extraRandom/edfa_meas_rdm4-co1.bed_booster_2022.03.23.00.02.51.json, extractionType: booster, channelType: extraRandom, edfa_name: rdm4-co1, edfa_index: 3, rows: 940\n"
     ]
    },
    {
     "name": "stderr",
     "output_type": "stream",
     "text": [
      "C:\\Users\\mh756\\AppData\\Local\\Temp\\ipykernel_22460\\75894833.py:78: PerformanceWarning: DataFrame is highly fragmented.  This is usually the result of calling `frame.insert` many times, which has poor performance.  Consider joining all columns at once using pd.concat(axis=1) instead. To get a de-fragmented frame, use `newframe = frame.copy()`\n",
      "  features['edfa_index'] = edfa_name_to_index.get(edfa_name, -1)\n",
      "C:\\Users\\mh756\\AppData\\Local\\Temp\\ipykernel_22460\\75894833.py:79: PerformanceWarning: DataFrame is highly fragmented.  This is usually the result of calling `frame.insert` many times, which has poor performance.  Consider joining all columns at once using pd.concat(axis=1) instead. To get a de-fragmented frame, use `newframe = frame.copy()`\n",
      "  features['EDFA_type'] = extractionType_local\n"
     ]
    },
    {
     "name": "stdout",
     "output_type": "stream",
     "text": [
      "Processed ../dataset/COSMOS_EDFA_Dataset/booster/21dB/extraRandom/edfa_meas_rdm4-co1.bed_booster_2022.04.12.22.22.49.json, extractionType: booster, channelType: extraRandom, edfa_name: rdm4-co1, edfa_index: 3, rows: 940\n"
     ]
    },
    {
     "name": "stderr",
     "output_type": "stream",
     "text": [
      "C:\\Users\\mh756\\AppData\\Local\\Temp\\ipykernel_22460\\75894833.py:78: PerformanceWarning: DataFrame is highly fragmented.  This is usually the result of calling `frame.insert` many times, which has poor performance.  Consider joining all columns at once using pd.concat(axis=1) instead. To get a de-fragmented frame, use `newframe = frame.copy()`\n",
      "  features['edfa_index'] = edfa_name_to_index.get(edfa_name, -1)\n",
      "C:\\Users\\mh756\\AppData\\Local\\Temp\\ipykernel_22460\\75894833.py:79: PerformanceWarning: DataFrame is highly fragmented.  This is usually the result of calling `frame.insert` many times, which has poor performance.  Consider joining all columns at once using pd.concat(axis=1) instead. To get a de-fragmented frame, use `newframe = frame.copy()`\n",
      "  features['EDFA_type'] = extractionType_local\n"
     ]
    },
    {
     "name": "stdout",
     "output_type": "stream",
     "text": [
      "Processed ../dataset/COSMOS_EDFA_Dataset/booster/15dB/extraLow/edfa_meas_rdm4-co1.bed_booster_2022.06.30.18.24.39.json, extractionType: booster, channelType: extraLow, edfa_name: rdm4-co1, edfa_index: 3, rows: 568\n"
     ]
    },
    {
     "name": "stderr",
     "output_type": "stream",
     "text": [
      "C:\\Users\\mh756\\AppData\\Local\\Temp\\ipykernel_22460\\75894833.py:78: PerformanceWarning: DataFrame is highly fragmented.  This is usually the result of calling `frame.insert` many times, which has poor performance.  Consider joining all columns at once using pd.concat(axis=1) instead. To get a de-fragmented frame, use `newframe = frame.copy()`\n",
      "  features['edfa_index'] = edfa_name_to_index.get(edfa_name, -1)\n",
      "C:\\Users\\mh756\\AppData\\Local\\Temp\\ipykernel_22460\\75894833.py:79: PerformanceWarning: DataFrame is highly fragmented.  This is usually the result of calling `frame.insert` many times, which has poor performance.  Consider joining all columns at once using pd.concat(axis=1) instead. To get a de-fragmented frame, use `newframe = frame.copy()`\n",
      "  features['EDFA_type'] = extractionType_local\n"
     ]
    },
    {
     "name": "stdout",
     "output_type": "stream",
     "text": [
      "Processed ../dataset/COSMOS_EDFA_Dataset/booster/18dB/extraLow/edfa_meas_rdm4-co1.bed_booster_2022.03.25.00.43.44.json, extractionType: booster, channelType: extraLow, edfa_name: rdm4-co1, edfa_index: 3, rows: 568\n"
     ]
    },
    {
     "name": "stderr",
     "output_type": "stream",
     "text": [
      "C:\\Users\\mh756\\AppData\\Local\\Temp\\ipykernel_22460\\75894833.py:78: PerformanceWarning: DataFrame is highly fragmented.  This is usually the result of calling `frame.insert` many times, which has poor performance.  Consider joining all columns at once using pd.concat(axis=1) instead. To get a de-fragmented frame, use `newframe = frame.copy()`\n",
      "  features['edfa_index'] = edfa_name_to_index.get(edfa_name, -1)\n",
      "C:\\Users\\mh756\\AppData\\Local\\Temp\\ipykernel_22460\\75894833.py:79: PerformanceWarning: DataFrame is highly fragmented.  This is usually the result of calling `frame.insert` many times, which has poor performance.  Consider joining all columns at once using pd.concat(axis=1) instead. To get a de-fragmented frame, use `newframe = frame.copy()`\n",
      "  features['EDFA_type'] = extractionType_local\n"
     ]
    },
    {
     "name": "stdout",
     "output_type": "stream",
     "text": [
      "Processed ../dataset/COSMOS_EDFA_Dataset/booster/21dB/extraLow/edfa_meas_rdm4-co1.bed_booster_2022.04.11.17.08.20.json, extractionType: booster, channelType: extraLow, edfa_name: rdm4-co1, edfa_index: 3, rows: 568\n"
     ]
    },
    {
     "name": "stderr",
     "output_type": "stream",
     "text": [
      "C:\\Users\\mh756\\AppData\\Local\\Temp\\ipykernel_22460\\75894833.py:78: PerformanceWarning: DataFrame is highly fragmented.  This is usually the result of calling `frame.insert` many times, which has poor performance.  Consider joining all columns at once using pd.concat(axis=1) instead. To get a de-fragmented frame, use `newframe = frame.copy()`\n",
      "  features['edfa_index'] = edfa_name_to_index.get(edfa_name, -1)\n",
      "C:\\Users\\mh756\\AppData\\Local\\Temp\\ipykernel_22460\\75894833.py:79: PerformanceWarning: DataFrame is highly fragmented.  This is usually the result of calling `frame.insert` many times, which has poor performance.  Consider joining all columns at once using pd.concat(axis=1) instead. To get a de-fragmented frame, use `newframe = frame.copy()`\n",
      "  features['EDFA_type'] = extractionType_local\n"
     ]
    },
    {
     "name": "stdout",
     "output_type": "stream",
     "text": [
      "Processed ../dataset/COSMOS_EDFA_Dataset/booster/15dB/fix/edfa_meas_rdm5-co1.bed_booster_2022.07.07.11.54.53.json, extractionType: booster, channelType: fix, edfa_name: rdm5-co1, edfa_index: 4, rows: 280\n"
     ]
    },
    {
     "name": "stderr",
     "output_type": "stream",
     "text": [
      "C:\\Users\\mh756\\AppData\\Local\\Temp\\ipykernel_22460\\75894833.py:78: PerformanceWarning: DataFrame is highly fragmented.  This is usually the result of calling `frame.insert` many times, which has poor performance.  Consider joining all columns at once using pd.concat(axis=1) instead. To get a de-fragmented frame, use `newframe = frame.copy()`\n",
      "  features['edfa_index'] = edfa_name_to_index.get(edfa_name, -1)\n",
      "C:\\Users\\mh756\\AppData\\Local\\Temp\\ipykernel_22460\\75894833.py:79: PerformanceWarning: DataFrame is highly fragmented.  This is usually the result of calling `frame.insert` many times, which has poor performance.  Consider joining all columns at once using pd.concat(axis=1) instead. To get a de-fragmented frame, use `newframe = frame.copy()`\n",
      "  features['EDFA_type'] = extractionType_local\n"
     ]
    },
    {
     "name": "stdout",
     "output_type": "stream",
     "text": [
      "Processed ../dataset/COSMOS_EDFA_Dataset/booster/18dB/fix/edfa_meas_rdm5-co1.bed_booster_2022.03.21.05.21.51.json, extractionType: booster, channelType: fix, edfa_name: rdm5-co1, edfa_index: 4, rows: 280\n"
     ]
    },
    {
     "name": "stderr",
     "output_type": "stream",
     "text": [
      "C:\\Users\\mh756\\AppData\\Local\\Temp\\ipykernel_22460\\75894833.py:78: PerformanceWarning: DataFrame is highly fragmented.  This is usually the result of calling `frame.insert` many times, which has poor performance.  Consider joining all columns at once using pd.concat(axis=1) instead. To get a de-fragmented frame, use `newframe = frame.copy()`\n",
      "  features['edfa_index'] = edfa_name_to_index.get(edfa_name, -1)\n",
      "C:\\Users\\mh756\\AppData\\Local\\Temp\\ipykernel_22460\\75894833.py:79: PerformanceWarning: DataFrame is highly fragmented.  This is usually the result of calling `frame.insert` many times, which has poor performance.  Consider joining all columns at once using pd.concat(axis=1) instead. To get a de-fragmented frame, use `newframe = frame.copy()`\n",
      "  features['EDFA_type'] = extractionType_local\n"
     ]
    },
    {
     "name": "stdout",
     "output_type": "stream",
     "text": [
      "Processed ../dataset/COSMOS_EDFA_Dataset/booster/21dB/fix/edfa_meas_rdm5-co1.bed_booster_2022.04.11.08.18.41.json, extractionType: booster, channelType: fix, edfa_name: rdm5-co1, edfa_index: 4, rows: 280\n"
     ]
    },
    {
     "name": "stderr",
     "output_type": "stream",
     "text": [
      "C:\\Users\\mh756\\AppData\\Local\\Temp\\ipykernel_22460\\75894833.py:78: PerformanceWarning: DataFrame is highly fragmented.  This is usually the result of calling `frame.insert` many times, which has poor performance.  Consider joining all columns at once using pd.concat(axis=1) instead. To get a de-fragmented frame, use `newframe = frame.copy()`\n",
      "  features['edfa_index'] = edfa_name_to_index.get(edfa_name, -1)\n",
      "C:\\Users\\mh756\\AppData\\Local\\Temp\\ipykernel_22460\\75894833.py:79: PerformanceWarning: DataFrame is highly fragmented.  This is usually the result of calling `frame.insert` many times, which has poor performance.  Consider joining all columns at once using pd.concat(axis=1) instead. To get a de-fragmented frame, use `newframe = frame.copy()`\n",
      "  features['EDFA_type'] = extractionType_local\n"
     ]
    },
    {
     "name": "stdout",
     "output_type": "stream",
     "text": [
      "Processed ../dataset/COSMOS_EDFA_Dataset/booster/15dB/random/edfa_meas_rdm5-co1.bed_booster_2022.07.04.03.27.22.json, extractionType: booster, channelType: random, edfa_name: rdm5-co1, edfa_index: 4, rows: 1100\n"
     ]
    },
    {
     "name": "stderr",
     "output_type": "stream",
     "text": [
      "C:\\Users\\mh756\\AppData\\Local\\Temp\\ipykernel_22460\\75894833.py:78: PerformanceWarning: DataFrame is highly fragmented.  This is usually the result of calling `frame.insert` many times, which has poor performance.  Consider joining all columns at once using pd.concat(axis=1) instead. To get a de-fragmented frame, use `newframe = frame.copy()`\n",
      "  features['edfa_index'] = edfa_name_to_index.get(edfa_name, -1)\n",
      "C:\\Users\\mh756\\AppData\\Local\\Temp\\ipykernel_22460\\75894833.py:79: PerformanceWarning: DataFrame is highly fragmented.  This is usually the result of calling `frame.insert` many times, which has poor performance.  Consider joining all columns at once using pd.concat(axis=1) instead. To get a de-fragmented frame, use `newframe = frame.copy()`\n",
      "  features['EDFA_type'] = extractionType_local\n"
     ]
    },
    {
     "name": "stdout",
     "output_type": "stream",
     "text": [
      "Processed ../dataset/COSMOS_EDFA_Dataset/booster/18dB/random/edfa_meas_rdm5-co1.bed_booster_2022.08.19.23.31.24.json, extractionType: booster, channelType: random, edfa_name: rdm5-co1, edfa_index: 4, rows: 1100\n"
     ]
    },
    {
     "name": "stderr",
     "output_type": "stream",
     "text": [
      "C:\\Users\\mh756\\AppData\\Local\\Temp\\ipykernel_22460\\75894833.py:78: PerformanceWarning: DataFrame is highly fragmented.  This is usually the result of calling `frame.insert` many times, which has poor performance.  Consider joining all columns at once using pd.concat(axis=1) instead. To get a de-fragmented frame, use `newframe = frame.copy()`\n",
      "  features['edfa_index'] = edfa_name_to_index.get(edfa_name, -1)\n",
      "C:\\Users\\mh756\\AppData\\Local\\Temp\\ipykernel_22460\\75894833.py:79: PerformanceWarning: DataFrame is highly fragmented.  This is usually the result of calling `frame.insert` many times, which has poor performance.  Consider joining all columns at once using pd.concat(axis=1) instead. To get a de-fragmented frame, use `newframe = frame.copy()`\n",
      "  features['EDFA_type'] = extractionType_local\n"
     ]
    },
    {
     "name": "stdout",
     "output_type": "stream",
     "text": [
      "Processed ../dataset/COSMOS_EDFA_Dataset/booster/21dB/random/edfa_meas_rdm5-co1.bed_booster_2022.04.24.00.53.54.json, extractionType: booster, channelType: random, edfa_name: rdm5-co1, edfa_index: 4, rows: 1100\n"
     ]
    },
    {
     "name": "stderr",
     "output_type": "stream",
     "text": [
      "C:\\Users\\mh756\\AppData\\Local\\Temp\\ipykernel_22460\\75894833.py:78: PerformanceWarning: DataFrame is highly fragmented.  This is usually the result of calling `frame.insert` many times, which has poor performance.  Consider joining all columns at once using pd.concat(axis=1) instead. To get a de-fragmented frame, use `newframe = frame.copy()`\n",
      "  features['edfa_index'] = edfa_name_to_index.get(edfa_name, -1)\n",
      "C:\\Users\\mh756\\AppData\\Local\\Temp\\ipykernel_22460\\75894833.py:79: PerformanceWarning: DataFrame is highly fragmented.  This is usually the result of calling `frame.insert` many times, which has poor performance.  Consider joining all columns at once using pd.concat(axis=1) instead. To get a de-fragmented frame, use `newframe = frame.copy()`\n",
      "  features['EDFA_type'] = extractionType_local\n"
     ]
    },
    {
     "name": "stdout",
     "output_type": "stream",
     "text": [
      "Processed ../dataset/COSMOS_EDFA_Dataset/booster/15dB/extraRandom/edfa_meas_rdm5-co1.bed_booster_2022.07.04.16.06.31.json, extractionType: booster, channelType: extraRandom, edfa_name: rdm5-co1, edfa_index: 4, rows: 940\n"
     ]
    },
    {
     "name": "stderr",
     "output_type": "stream",
     "text": [
      "C:\\Users\\mh756\\AppData\\Local\\Temp\\ipykernel_22460\\75894833.py:78: PerformanceWarning: DataFrame is highly fragmented.  This is usually the result of calling `frame.insert` many times, which has poor performance.  Consider joining all columns at once using pd.concat(axis=1) instead. To get a de-fragmented frame, use `newframe = frame.copy()`\n",
      "  features['edfa_index'] = edfa_name_to_index.get(edfa_name, -1)\n",
      "C:\\Users\\mh756\\AppData\\Local\\Temp\\ipykernel_22460\\75894833.py:79: PerformanceWarning: DataFrame is highly fragmented.  This is usually the result of calling `frame.insert` many times, which has poor performance.  Consider joining all columns at once using pd.concat(axis=1) instead. To get a de-fragmented frame, use `newframe = frame.copy()`\n",
      "  features['EDFA_type'] = extractionType_local\n"
     ]
    },
    {
     "name": "stdout",
     "output_type": "stream",
     "text": [
      "Processed ../dataset/COSMOS_EDFA_Dataset/booster/18dB/extraRandom/edfa_meas_rdm5-co1.bed_booster_2022.03.22.11.37.11.json, extractionType: booster, channelType: extraRandom, edfa_name: rdm5-co1, edfa_index: 4, rows: 940\n"
     ]
    },
    {
     "name": "stderr",
     "output_type": "stream",
     "text": [
      "C:\\Users\\mh756\\AppData\\Local\\Temp\\ipykernel_22460\\75894833.py:78: PerformanceWarning: DataFrame is highly fragmented.  This is usually the result of calling `frame.insert` many times, which has poor performance.  Consider joining all columns at once using pd.concat(axis=1) instead. To get a de-fragmented frame, use `newframe = frame.copy()`\n",
      "  features['edfa_index'] = edfa_name_to_index.get(edfa_name, -1)\n",
      "C:\\Users\\mh756\\AppData\\Local\\Temp\\ipykernel_22460\\75894833.py:79: PerformanceWarning: DataFrame is highly fragmented.  This is usually the result of calling `frame.insert` many times, which has poor performance.  Consider joining all columns at once using pd.concat(axis=1) instead. To get a de-fragmented frame, use `newframe = frame.copy()`\n",
      "  features['EDFA_type'] = extractionType_local\n"
     ]
    },
    {
     "name": "stdout",
     "output_type": "stream",
     "text": [
      "Processed ../dataset/COSMOS_EDFA_Dataset/booster/21dB/extraRandom/edfa_meas_rdm5-co1.bed_booster_2022.08.12.11.31.22.json, extractionType: booster, channelType: extraRandom, edfa_name: rdm5-co1, edfa_index: 4, rows: 940\n"
     ]
    },
    {
     "name": "stderr",
     "output_type": "stream",
     "text": [
      "C:\\Users\\mh756\\AppData\\Local\\Temp\\ipykernel_22460\\75894833.py:78: PerformanceWarning: DataFrame is highly fragmented.  This is usually the result of calling `frame.insert` many times, which has poor performance.  Consider joining all columns at once using pd.concat(axis=1) instead. To get a de-fragmented frame, use `newframe = frame.copy()`\n",
      "  features['edfa_index'] = edfa_name_to_index.get(edfa_name, -1)\n",
      "C:\\Users\\mh756\\AppData\\Local\\Temp\\ipykernel_22460\\75894833.py:79: PerformanceWarning: DataFrame is highly fragmented.  This is usually the result of calling `frame.insert` many times, which has poor performance.  Consider joining all columns at once using pd.concat(axis=1) instead. To get a de-fragmented frame, use `newframe = frame.copy()`\n",
      "  features['EDFA_type'] = extractionType_local\n"
     ]
    },
    {
     "name": "stdout",
     "output_type": "stream",
     "text": [
      "Processed ../dataset/COSMOS_EDFA_Dataset/booster/15dB/extraLow/edfa_meas_rdm5-co1.bed_booster_2022.07.03.20.58.07.json, extractionType: booster, channelType: extraLow, edfa_name: rdm5-co1, edfa_index: 4, rows: 568\n"
     ]
    },
    {
     "name": "stderr",
     "output_type": "stream",
     "text": [
      "C:\\Users\\mh756\\AppData\\Local\\Temp\\ipykernel_22460\\75894833.py:78: PerformanceWarning: DataFrame is highly fragmented.  This is usually the result of calling `frame.insert` many times, which has poor performance.  Consider joining all columns at once using pd.concat(axis=1) instead. To get a de-fragmented frame, use `newframe = frame.copy()`\n",
      "  features['edfa_index'] = edfa_name_to_index.get(edfa_name, -1)\n",
      "C:\\Users\\mh756\\AppData\\Local\\Temp\\ipykernel_22460\\75894833.py:79: PerformanceWarning: DataFrame is highly fragmented.  This is usually the result of calling `frame.insert` many times, which has poor performance.  Consider joining all columns at once using pd.concat(axis=1) instead. To get a de-fragmented frame, use `newframe = frame.copy()`\n",
      "  features['EDFA_type'] = extractionType_local\n"
     ]
    },
    {
     "name": "stdout",
     "output_type": "stream",
     "text": [
      "Processed ../dataset/COSMOS_EDFA_Dataset/booster/18dB/extraLow/edfa_meas_rdm5-co1.bed_booster_2022.03.31.02.15.38.json, extractionType: booster, channelType: extraLow, edfa_name: rdm5-co1, edfa_index: 4, rows: 568\n"
     ]
    },
    {
     "name": "stderr",
     "output_type": "stream",
     "text": [
      "C:\\Users\\mh756\\AppData\\Local\\Temp\\ipykernel_22460\\75894833.py:78: PerformanceWarning: DataFrame is highly fragmented.  This is usually the result of calling `frame.insert` many times, which has poor performance.  Consider joining all columns at once using pd.concat(axis=1) instead. To get a de-fragmented frame, use `newframe = frame.copy()`\n",
      "  features['edfa_index'] = edfa_name_to_index.get(edfa_name, -1)\n",
      "C:\\Users\\mh756\\AppData\\Local\\Temp\\ipykernel_22460\\75894833.py:79: PerformanceWarning: DataFrame is highly fragmented.  This is usually the result of calling `frame.insert` many times, which has poor performance.  Consider joining all columns at once using pd.concat(axis=1) instead. To get a de-fragmented frame, use `newframe = frame.copy()`\n",
      "  features['EDFA_type'] = extractionType_local\n"
     ]
    },
    {
     "name": "stdout",
     "output_type": "stream",
     "text": [
      "Processed ../dataset/COSMOS_EDFA_Dataset/booster/21dB/extraLow/edfa_meas_rdm5-co1.bed_booster_2022.04.12.06.03.39.json, extractionType: booster, channelType: extraLow, edfa_name: rdm5-co1, edfa_index: 4, rows: 568\n"
     ]
    },
    {
     "name": "stderr",
     "output_type": "stream",
     "text": [
      "C:\\Users\\mh756\\AppData\\Local\\Temp\\ipykernel_22460\\75894833.py:78: PerformanceWarning: DataFrame is highly fragmented.  This is usually the result of calling `frame.insert` many times, which has poor performance.  Consider joining all columns at once using pd.concat(axis=1) instead. To get a de-fragmented frame, use `newframe = frame.copy()`\n",
      "  features['edfa_index'] = edfa_name_to_index.get(edfa_name, -1)\n",
      "C:\\Users\\mh756\\AppData\\Local\\Temp\\ipykernel_22460\\75894833.py:79: PerformanceWarning: DataFrame is highly fragmented.  This is usually the result of calling `frame.insert` many times, which has poor performance.  Consider joining all columns at once using pd.concat(axis=1) instead. To get a de-fragmented frame, use `newframe = frame.copy()`\n",
      "  features['EDFA_type'] = extractionType_local\n"
     ]
    },
    {
     "name": "stdout",
     "output_type": "stream",
     "text": [
      "Processed ../dataset/COSMOS_EDFA_Dataset/booster/15dB/fix/edfa_meas_rdm6-co1.bed_booster_2022.07.02.02.09.18.json, extractionType: booster, channelType: fix, edfa_name: rdm6-co1, edfa_index: 5, rows: 280\n"
     ]
    },
    {
     "name": "stderr",
     "output_type": "stream",
     "text": [
      "C:\\Users\\mh756\\AppData\\Local\\Temp\\ipykernel_22460\\75894833.py:78: PerformanceWarning: DataFrame is highly fragmented.  This is usually the result of calling `frame.insert` many times, which has poor performance.  Consider joining all columns at once using pd.concat(axis=1) instead. To get a de-fragmented frame, use `newframe = frame.copy()`\n",
      "  features['edfa_index'] = edfa_name_to_index.get(edfa_name, -1)\n",
      "C:\\Users\\mh756\\AppData\\Local\\Temp\\ipykernel_22460\\75894833.py:79: PerformanceWarning: DataFrame is highly fragmented.  This is usually the result of calling `frame.insert` many times, which has poor performance.  Consider joining all columns at once using pd.concat(axis=1) instead. To get a de-fragmented frame, use `newframe = frame.copy()`\n",
      "  features['EDFA_type'] = extractionType_local\n"
     ]
    },
    {
     "name": "stdout",
     "output_type": "stream",
     "text": [
      "Processed ../dataset/COSMOS_EDFA_Dataset/booster/18dB/fix/edfa_meas_rdm6-co1.bed_booster_2022.03.20.23.33.26.json, extractionType: booster, channelType: fix, edfa_name: rdm6-co1, edfa_index: 5, rows: 280\n"
     ]
    },
    {
     "name": "stderr",
     "output_type": "stream",
     "text": [
      "C:\\Users\\mh756\\AppData\\Local\\Temp\\ipykernel_22460\\75894833.py:78: PerformanceWarning: DataFrame is highly fragmented.  This is usually the result of calling `frame.insert` many times, which has poor performance.  Consider joining all columns at once using pd.concat(axis=1) instead. To get a de-fragmented frame, use `newframe = frame.copy()`\n",
      "  features['edfa_index'] = edfa_name_to_index.get(edfa_name, -1)\n",
      "C:\\Users\\mh756\\AppData\\Local\\Temp\\ipykernel_22460\\75894833.py:79: PerformanceWarning: DataFrame is highly fragmented.  This is usually the result of calling `frame.insert` many times, which has poor performance.  Consider joining all columns at once using pd.concat(axis=1) instead. To get a de-fragmented frame, use `newframe = frame.copy()`\n",
      "  features['EDFA_type'] = extractionType_local\n"
     ]
    },
    {
     "name": "stdout",
     "output_type": "stream",
     "text": [
      "Processed ../dataset/COSMOS_EDFA_Dataset/booster/21dB/fix/edfa_meas_rdm6-co1.bed_booster_2022.04.11.02.01.12.json, extractionType: booster, channelType: fix, edfa_name: rdm6-co1, edfa_index: 5, rows: 280\n"
     ]
    },
    {
     "name": "stderr",
     "output_type": "stream",
     "text": [
      "C:\\Users\\mh756\\AppData\\Local\\Temp\\ipykernel_22460\\75894833.py:78: PerformanceWarning: DataFrame is highly fragmented.  This is usually the result of calling `frame.insert` many times, which has poor performance.  Consider joining all columns at once using pd.concat(axis=1) instead. To get a de-fragmented frame, use `newframe = frame.copy()`\n",
      "  features['edfa_index'] = edfa_name_to_index.get(edfa_name, -1)\n",
      "C:\\Users\\mh756\\AppData\\Local\\Temp\\ipykernel_22460\\75894833.py:79: PerformanceWarning: DataFrame is highly fragmented.  This is usually the result of calling `frame.insert` many times, which has poor performance.  Consider joining all columns at once using pd.concat(axis=1) instead. To get a de-fragmented frame, use `newframe = frame.copy()`\n",
      "  features['EDFA_type'] = extractionType_local\n"
     ]
    },
    {
     "name": "stdout",
     "output_type": "stream",
     "text": [
      "Processed ../dataset/COSMOS_EDFA_Dataset/booster/15dB/random/edfa_meas_rdm6-co1.bed_booster_2022.07.02.14.58.06.json, extractionType: booster, channelType: random, edfa_name: rdm6-co1, edfa_index: 5, rows: 1100\n"
     ]
    },
    {
     "name": "stderr",
     "output_type": "stream",
     "text": [
      "C:\\Users\\mh756\\AppData\\Local\\Temp\\ipykernel_22460\\75894833.py:78: PerformanceWarning: DataFrame is highly fragmented.  This is usually the result of calling `frame.insert` many times, which has poor performance.  Consider joining all columns at once using pd.concat(axis=1) instead. To get a de-fragmented frame, use `newframe = frame.copy()`\n",
      "  features['edfa_index'] = edfa_name_to_index.get(edfa_name, -1)\n",
      "C:\\Users\\mh756\\AppData\\Local\\Temp\\ipykernel_22460\\75894833.py:79: PerformanceWarning: DataFrame is highly fragmented.  This is usually the result of calling `frame.insert` many times, which has poor performance.  Consider joining all columns at once using pd.concat(axis=1) instead. To get a de-fragmented frame, use `newframe = frame.copy()`\n",
      "  features['EDFA_type'] = extractionType_local\n"
     ]
    },
    {
     "name": "stdout",
     "output_type": "stream",
     "text": [
      "Processed ../dataset/COSMOS_EDFA_Dataset/booster/18dB/random/edfa_meas_rdm6-co1.bed_booster_2022.08.19.10.52.31.json, extractionType: booster, channelType: random, edfa_name: rdm6-co1, edfa_index: 5, rows: 1100\n"
     ]
    },
    {
     "name": "stderr",
     "output_type": "stream",
     "text": [
      "C:\\Users\\mh756\\AppData\\Local\\Temp\\ipykernel_22460\\75894833.py:78: PerformanceWarning: DataFrame is highly fragmented.  This is usually the result of calling `frame.insert` many times, which has poor performance.  Consider joining all columns at once using pd.concat(axis=1) instead. To get a de-fragmented frame, use `newframe = frame.copy()`\n",
      "  features['edfa_index'] = edfa_name_to_index.get(edfa_name, -1)\n",
      "C:\\Users\\mh756\\AppData\\Local\\Temp\\ipykernel_22460\\75894833.py:79: PerformanceWarning: DataFrame is highly fragmented.  This is usually the result of calling `frame.insert` many times, which has poor performance.  Consider joining all columns at once using pd.concat(axis=1) instead. To get a de-fragmented frame, use `newframe = frame.copy()`\n",
      "  features['EDFA_type'] = extractionType_local\n"
     ]
    },
    {
     "name": "stdout",
     "output_type": "stream",
     "text": [
      "Processed ../dataset/COSMOS_EDFA_Dataset/booster/21dB/random/edfa_meas_rdm6-co1.bed_booster_2022.04.23.12.18.21.json, extractionType: booster, channelType: random, edfa_name: rdm6-co1, edfa_index: 5, rows: 1100\n"
     ]
    },
    {
     "name": "stderr",
     "output_type": "stream",
     "text": [
      "C:\\Users\\mh756\\AppData\\Local\\Temp\\ipykernel_22460\\75894833.py:78: PerformanceWarning: DataFrame is highly fragmented.  This is usually the result of calling `frame.insert` many times, which has poor performance.  Consider joining all columns at once using pd.concat(axis=1) instead. To get a de-fragmented frame, use `newframe = frame.copy()`\n",
      "  features['edfa_index'] = edfa_name_to_index.get(edfa_name, -1)\n",
      "C:\\Users\\mh756\\AppData\\Local\\Temp\\ipykernel_22460\\75894833.py:79: PerformanceWarning: DataFrame is highly fragmented.  This is usually the result of calling `frame.insert` many times, which has poor performance.  Consider joining all columns at once using pd.concat(axis=1) instead. To get a de-fragmented frame, use `newframe = frame.copy()`\n",
      "  features['EDFA_type'] = extractionType_local\n"
     ]
    },
    {
     "name": "stdout",
     "output_type": "stream",
     "text": [
      "Processed ../dataset/COSMOS_EDFA_Dataset/booster/15dB/extraRandom/edfa_meas_rdm6-co1.bed_booster_2022.07.03.03.37.01.json, extractionType: booster, channelType: extraRandom, edfa_name: rdm6-co1, edfa_index: 5, rows: 940\n"
     ]
    },
    {
     "name": "stderr",
     "output_type": "stream",
     "text": [
      "C:\\Users\\mh756\\AppData\\Local\\Temp\\ipykernel_22460\\75894833.py:78: PerformanceWarning: DataFrame is highly fragmented.  This is usually the result of calling `frame.insert` many times, which has poor performance.  Consider joining all columns at once using pd.concat(axis=1) instead. To get a de-fragmented frame, use `newframe = frame.copy()`\n",
      "  features['edfa_index'] = edfa_name_to_index.get(edfa_name, -1)\n",
      "C:\\Users\\mh756\\AppData\\Local\\Temp\\ipykernel_22460\\75894833.py:79: PerformanceWarning: DataFrame is highly fragmented.  This is usually the result of calling `frame.insert` many times, which has poor performance.  Consider joining all columns at once using pd.concat(axis=1) instead. To get a de-fragmented frame, use `newframe = frame.copy()`\n",
      "  features['EDFA_type'] = extractionType_local\n"
     ]
    },
    {
     "name": "stdout",
     "output_type": "stream",
     "text": [
      "Processed ../dataset/COSMOS_EDFA_Dataset/booster/18dB/extraRandom/edfa_meas_rdm6-co1.bed_booster_2022.03.22.00.57.13.json, extractionType: booster, channelType: extraRandom, edfa_name: rdm6-co1, edfa_index: 5, rows: 940\n"
     ]
    },
    {
     "name": "stderr",
     "output_type": "stream",
     "text": [
      "C:\\Users\\mh756\\AppData\\Local\\Temp\\ipykernel_22460\\75894833.py:78: PerformanceWarning: DataFrame is highly fragmented.  This is usually the result of calling `frame.insert` many times, which has poor performance.  Consider joining all columns at once using pd.concat(axis=1) instead. To get a de-fragmented frame, use `newframe = frame.copy()`\n",
      "  features['edfa_index'] = edfa_name_to_index.get(edfa_name, -1)\n",
      "C:\\Users\\mh756\\AppData\\Local\\Temp\\ipykernel_22460\\75894833.py:79: PerformanceWarning: DataFrame is highly fragmented.  This is usually the result of calling `frame.insert` many times, which has poor performance.  Consider joining all columns at once using pd.concat(axis=1) instead. To get a de-fragmented frame, use `newframe = frame.copy()`\n",
      "  features['EDFA_type'] = extractionType_local\n"
     ]
    },
    {
     "name": "stdout",
     "output_type": "stream",
     "text": [
      "Processed ../dataset/COSMOS_EDFA_Dataset/booster/21dB/extraRandom/edfa_meas_rdm6-co1.bed_booster_2022.04.13.09.16.37.json, extractionType: booster, channelType: extraRandom, edfa_name: rdm6-co1, edfa_index: 5, rows: 940\n"
     ]
    },
    {
     "name": "stderr",
     "output_type": "stream",
     "text": [
      "C:\\Users\\mh756\\AppData\\Local\\Temp\\ipykernel_22460\\75894833.py:78: PerformanceWarning: DataFrame is highly fragmented.  This is usually the result of calling `frame.insert` many times, which has poor performance.  Consider joining all columns at once using pd.concat(axis=1) instead. To get a de-fragmented frame, use `newframe = frame.copy()`\n",
      "  features['edfa_index'] = edfa_name_to_index.get(edfa_name, -1)\n",
      "C:\\Users\\mh756\\AppData\\Local\\Temp\\ipykernel_22460\\75894833.py:79: PerformanceWarning: DataFrame is highly fragmented.  This is usually the result of calling `frame.insert` many times, which has poor performance.  Consider joining all columns at once using pd.concat(axis=1) instead. To get a de-fragmented frame, use `newframe = frame.copy()`\n",
      "  features['EDFA_type'] = extractionType_local\n"
     ]
    },
    {
     "name": "stdout",
     "output_type": "stream",
     "text": [
      "Processed ../dataset/COSMOS_EDFA_Dataset/booster/15dB/extraLow/edfa_meas_rdm6-co1.bed_booster_2022.07.02.08.28.47.json, extractionType: booster, channelType: extraLow, edfa_name: rdm6-co1, edfa_index: 5, rows: 568\n"
     ]
    },
    {
     "name": "stderr",
     "output_type": "stream",
     "text": [
      "C:\\Users\\mh756\\AppData\\Local\\Temp\\ipykernel_22460\\75894833.py:78: PerformanceWarning: DataFrame is highly fragmented.  This is usually the result of calling `frame.insert` many times, which has poor performance.  Consider joining all columns at once using pd.concat(axis=1) instead. To get a de-fragmented frame, use `newframe = frame.copy()`\n",
      "  features['edfa_index'] = edfa_name_to_index.get(edfa_name, -1)\n",
      "C:\\Users\\mh756\\AppData\\Local\\Temp\\ipykernel_22460\\75894833.py:79: PerformanceWarning: DataFrame is highly fragmented.  This is usually the result of calling `frame.insert` many times, which has poor performance.  Consider joining all columns at once using pd.concat(axis=1) instead. To get a de-fragmented frame, use `newframe = frame.copy()`\n",
      "  features['EDFA_type'] = extractionType_local\n"
     ]
    },
    {
     "name": "stdout",
     "output_type": "stream",
     "text": [
      "Processed ../dataset/COSMOS_EDFA_Dataset/booster/18dB/extraLow/edfa_meas_rdm6-co1.bed_booster_2022.03.25.06.24.06.json, extractionType: booster, channelType: extraLow, edfa_name: rdm6-co1, edfa_index: 5, rows: 568\n"
     ]
    },
    {
     "name": "stderr",
     "output_type": "stream",
     "text": [
      "C:\\Users\\mh756\\AppData\\Local\\Temp\\ipykernel_22460\\75894833.py:78: PerformanceWarning: DataFrame is highly fragmented.  This is usually the result of calling `frame.insert` many times, which has poor performance.  Consider joining all columns at once using pd.concat(axis=1) instead. To get a de-fragmented frame, use `newframe = frame.copy()`\n",
      "  features['edfa_index'] = edfa_name_to_index.get(edfa_name, -1)\n",
      "C:\\Users\\mh756\\AppData\\Local\\Temp\\ipykernel_22460\\75894833.py:79: PerformanceWarning: DataFrame is highly fragmented.  This is usually the result of calling `frame.insert` many times, which has poor performance.  Consider joining all columns at once using pd.concat(axis=1) instead. To get a de-fragmented frame, use `newframe = frame.copy()`\n",
      "  features['EDFA_type'] = extractionType_local\n"
     ]
    },
    {
     "name": "stdout",
     "output_type": "stream",
     "text": [
      "Processed ../dataset/COSMOS_EDFA_Dataset/booster/21dB/extraLow/edfa_meas_rdm6-co1.bed_booster_2022.04.11.23.36.21.json, extractionType: booster, channelType: extraLow, edfa_name: rdm6-co1, edfa_index: 5, rows: 568\n"
     ]
    },
    {
     "name": "stderr",
     "output_type": "stream",
     "text": [
      "C:\\Users\\mh756\\AppData\\Local\\Temp\\ipykernel_22460\\75894833.py:78: PerformanceWarning: DataFrame is highly fragmented.  This is usually the result of calling `frame.insert` many times, which has poor performance.  Consider joining all columns at once using pd.concat(axis=1) instead. To get a de-fragmented frame, use `newframe = frame.copy()`\n",
      "  features['edfa_index'] = edfa_name_to_index.get(edfa_name, -1)\n",
      "C:\\Users\\mh756\\AppData\\Local\\Temp\\ipykernel_22460\\75894833.py:79: PerformanceWarning: DataFrame is highly fragmented.  This is usually the result of calling `frame.insert` many times, which has poor performance.  Consider joining all columns at once using pd.concat(axis=1) instead. To get a de-fragmented frame, use `newframe = frame.copy()`\n",
      "  features['EDFA_type'] = extractionType_local\n"
     ]
    },
    {
     "name": "stdout",
     "output_type": "stream",
     "text": [
      "Processed ../dataset/COSMOS_EDFA_Dataset/booster/15dB/fix/edfa_meas_rdm1-lg1.bed_booster_2022.07.02.02.09.18.json, extractionType: booster, channelType: fix, edfa_name: rdm1-lg1, edfa_index: 6, rows: 280\n"
     ]
    },
    {
     "name": "stderr",
     "output_type": "stream",
     "text": [
      "C:\\Users\\mh756\\AppData\\Local\\Temp\\ipykernel_22460\\75894833.py:78: PerformanceWarning: DataFrame is highly fragmented.  This is usually the result of calling `frame.insert` many times, which has poor performance.  Consider joining all columns at once using pd.concat(axis=1) instead. To get a de-fragmented frame, use `newframe = frame.copy()`\n",
      "  features['edfa_index'] = edfa_name_to_index.get(edfa_name, -1)\n",
      "C:\\Users\\mh756\\AppData\\Local\\Temp\\ipykernel_22460\\75894833.py:79: PerformanceWarning: DataFrame is highly fragmented.  This is usually the result of calling `frame.insert` many times, which has poor performance.  Consider joining all columns at once using pd.concat(axis=1) instead. To get a de-fragmented frame, use `newframe = frame.copy()`\n",
      "  features['EDFA_type'] = extractionType_local\n"
     ]
    },
    {
     "name": "stdout",
     "output_type": "stream",
     "text": [
      "Processed ../dataset/COSMOS_EDFA_Dataset/booster/18dB/fix/edfa_meas_rdm1-lg1.bed_booster_2022.03.20.23.33.26.json, extractionType: booster, channelType: fix, edfa_name: rdm1-lg1, edfa_index: 6, rows: 280\n"
     ]
    },
    {
     "name": "stderr",
     "output_type": "stream",
     "text": [
      "C:\\Users\\mh756\\AppData\\Local\\Temp\\ipykernel_22460\\75894833.py:78: PerformanceWarning: DataFrame is highly fragmented.  This is usually the result of calling `frame.insert` many times, which has poor performance.  Consider joining all columns at once using pd.concat(axis=1) instead. To get a de-fragmented frame, use `newframe = frame.copy()`\n",
      "  features['edfa_index'] = edfa_name_to_index.get(edfa_name, -1)\n",
      "C:\\Users\\mh756\\AppData\\Local\\Temp\\ipykernel_22460\\75894833.py:79: PerformanceWarning: DataFrame is highly fragmented.  This is usually the result of calling `frame.insert` many times, which has poor performance.  Consider joining all columns at once using pd.concat(axis=1) instead. To get a de-fragmented frame, use `newframe = frame.copy()`\n",
      "  features['EDFA_type'] = extractionType_local\n"
     ]
    },
    {
     "name": "stdout",
     "output_type": "stream",
     "text": [
      "Processed ../dataset/COSMOS_EDFA_Dataset/booster/21dB/fix/edfa_meas_rdm1-lg1.bed_booster_2022.04.11.02.01.12.json, extractionType: booster, channelType: fix, edfa_name: rdm1-lg1, edfa_index: 6, rows: 280\n"
     ]
    },
    {
     "name": "stderr",
     "output_type": "stream",
     "text": [
      "C:\\Users\\mh756\\AppData\\Local\\Temp\\ipykernel_22460\\75894833.py:78: PerformanceWarning: DataFrame is highly fragmented.  This is usually the result of calling `frame.insert` many times, which has poor performance.  Consider joining all columns at once using pd.concat(axis=1) instead. To get a de-fragmented frame, use `newframe = frame.copy()`\n",
      "  features['edfa_index'] = edfa_name_to_index.get(edfa_name, -1)\n",
      "C:\\Users\\mh756\\AppData\\Local\\Temp\\ipykernel_22460\\75894833.py:79: PerformanceWarning: DataFrame is highly fragmented.  This is usually the result of calling `frame.insert` many times, which has poor performance.  Consider joining all columns at once using pd.concat(axis=1) instead. To get a de-fragmented frame, use `newframe = frame.copy()`\n",
      "  features['EDFA_type'] = extractionType_local\n"
     ]
    },
    {
     "name": "stdout",
     "output_type": "stream",
     "text": [
      "Processed ../dataset/COSMOS_EDFA_Dataset/booster/15dB/random/edfa_meas_rdm1-lg1.bed_booster_2022.07.02.14.58.06.json, extractionType: booster, channelType: random, edfa_name: rdm1-lg1, edfa_index: 6, rows: 1100\n"
     ]
    },
    {
     "name": "stderr",
     "output_type": "stream",
     "text": [
      "C:\\Users\\mh756\\AppData\\Local\\Temp\\ipykernel_22460\\75894833.py:78: PerformanceWarning: DataFrame is highly fragmented.  This is usually the result of calling `frame.insert` many times, which has poor performance.  Consider joining all columns at once using pd.concat(axis=1) instead. To get a de-fragmented frame, use `newframe = frame.copy()`\n",
      "  features['edfa_index'] = edfa_name_to_index.get(edfa_name, -1)\n",
      "C:\\Users\\mh756\\AppData\\Local\\Temp\\ipykernel_22460\\75894833.py:79: PerformanceWarning: DataFrame is highly fragmented.  This is usually the result of calling `frame.insert` many times, which has poor performance.  Consider joining all columns at once using pd.concat(axis=1) instead. To get a de-fragmented frame, use `newframe = frame.copy()`\n",
      "  features['EDFA_type'] = extractionType_local\n"
     ]
    },
    {
     "name": "stdout",
     "output_type": "stream",
     "text": [
      "Processed ../dataset/COSMOS_EDFA_Dataset/booster/18dB/random/edfa_meas_rdm1-lg1.bed_booster_2022.03.30.00.05.43.json, extractionType: booster, channelType: random, edfa_name: rdm1-lg1, edfa_index: 6, rows: 1100\n"
     ]
    },
    {
     "name": "stderr",
     "output_type": "stream",
     "text": [
      "C:\\Users\\mh756\\AppData\\Local\\Temp\\ipykernel_22460\\75894833.py:78: PerformanceWarning: DataFrame is highly fragmented.  This is usually the result of calling `frame.insert` many times, which has poor performance.  Consider joining all columns at once using pd.concat(axis=1) instead. To get a de-fragmented frame, use `newframe = frame.copy()`\n",
      "  features['edfa_index'] = edfa_name_to_index.get(edfa_name, -1)\n",
      "C:\\Users\\mh756\\AppData\\Local\\Temp\\ipykernel_22460\\75894833.py:79: PerformanceWarning: DataFrame is highly fragmented.  This is usually the result of calling `frame.insert` many times, which has poor performance.  Consider joining all columns at once using pd.concat(axis=1) instead. To get a de-fragmented frame, use `newframe = frame.copy()`\n",
      "  features['EDFA_type'] = extractionType_local\n"
     ]
    },
    {
     "name": "stdout",
     "output_type": "stream",
     "text": [
      "Processed ../dataset/COSMOS_EDFA_Dataset/booster/21dB/random/edfa_meas_rdm1-lg1.bed_booster_2022.04.23.12.18.21.json, extractionType: booster, channelType: random, edfa_name: rdm1-lg1, edfa_index: 6, rows: 1100\n"
     ]
    },
    {
     "name": "stderr",
     "output_type": "stream",
     "text": [
      "C:\\Users\\mh756\\AppData\\Local\\Temp\\ipykernel_22460\\75894833.py:78: PerformanceWarning: DataFrame is highly fragmented.  This is usually the result of calling `frame.insert` many times, which has poor performance.  Consider joining all columns at once using pd.concat(axis=1) instead. To get a de-fragmented frame, use `newframe = frame.copy()`\n",
      "  features['edfa_index'] = edfa_name_to_index.get(edfa_name, -1)\n",
      "C:\\Users\\mh756\\AppData\\Local\\Temp\\ipykernel_22460\\75894833.py:79: PerformanceWarning: DataFrame is highly fragmented.  This is usually the result of calling `frame.insert` many times, which has poor performance.  Consider joining all columns at once using pd.concat(axis=1) instead. To get a de-fragmented frame, use `newframe = frame.copy()`\n",
      "  features['EDFA_type'] = extractionType_local\n"
     ]
    },
    {
     "name": "stdout",
     "output_type": "stream",
     "text": [
      "Processed ../dataset/COSMOS_EDFA_Dataset/booster/15dB/extraRandom/edfa_meas_rdm1-lg1.bed_booster_2022.07.03.03.37.01.json, extractionType: booster, channelType: extraRandom, edfa_name: rdm1-lg1, edfa_index: 6, rows: 940\n"
     ]
    },
    {
     "name": "stderr",
     "output_type": "stream",
     "text": [
      "C:\\Users\\mh756\\AppData\\Local\\Temp\\ipykernel_22460\\75894833.py:78: PerformanceWarning: DataFrame is highly fragmented.  This is usually the result of calling `frame.insert` many times, which has poor performance.  Consider joining all columns at once using pd.concat(axis=1) instead. To get a de-fragmented frame, use `newframe = frame.copy()`\n",
      "  features['edfa_index'] = edfa_name_to_index.get(edfa_name, -1)\n",
      "C:\\Users\\mh756\\AppData\\Local\\Temp\\ipykernel_22460\\75894833.py:79: PerformanceWarning: DataFrame is highly fragmented.  This is usually the result of calling `frame.insert` many times, which has poor performance.  Consider joining all columns at once using pd.concat(axis=1) instead. To get a de-fragmented frame, use `newframe = frame.copy()`\n",
      "  features['EDFA_type'] = extractionType_local\n"
     ]
    },
    {
     "name": "stdout",
     "output_type": "stream",
     "text": [
      "Processed ../dataset/COSMOS_EDFA_Dataset/booster/18dB/extraRandom/edfa_meas_rdm1-lg1.bed_booster_2022.04.04.16.26.20.json, extractionType: booster, channelType: extraRandom, edfa_name: rdm1-lg1, edfa_index: 6, rows: 940\n"
     ]
    },
    {
     "name": "stderr",
     "output_type": "stream",
     "text": [
      "C:\\Users\\mh756\\AppData\\Local\\Temp\\ipykernel_22460\\75894833.py:78: PerformanceWarning: DataFrame is highly fragmented.  This is usually the result of calling `frame.insert` many times, which has poor performance.  Consider joining all columns at once using pd.concat(axis=1) instead. To get a de-fragmented frame, use `newframe = frame.copy()`\n",
      "  features['edfa_index'] = edfa_name_to_index.get(edfa_name, -1)\n",
      "C:\\Users\\mh756\\AppData\\Local\\Temp\\ipykernel_22460\\75894833.py:79: PerformanceWarning: DataFrame is highly fragmented.  This is usually the result of calling `frame.insert` many times, which has poor performance.  Consider joining all columns at once using pd.concat(axis=1) instead. To get a de-fragmented frame, use `newframe = frame.copy()`\n",
      "  features['EDFA_type'] = extractionType_local\n"
     ]
    },
    {
     "name": "stdout",
     "output_type": "stream",
     "text": [
      "Processed ../dataset/COSMOS_EDFA_Dataset/booster/21dB/extraRandom/edfa_meas_rdm1-lg1.bed_booster_2022.04.13.09.16.37.json, extractionType: booster, channelType: extraRandom, edfa_name: rdm1-lg1, edfa_index: 6, rows: 940\n"
     ]
    },
    {
     "name": "stderr",
     "output_type": "stream",
     "text": [
      "C:\\Users\\mh756\\AppData\\Local\\Temp\\ipykernel_22460\\75894833.py:78: PerformanceWarning: DataFrame is highly fragmented.  This is usually the result of calling `frame.insert` many times, which has poor performance.  Consider joining all columns at once using pd.concat(axis=1) instead. To get a de-fragmented frame, use `newframe = frame.copy()`\n",
      "  features['edfa_index'] = edfa_name_to_index.get(edfa_name, -1)\n",
      "C:\\Users\\mh756\\AppData\\Local\\Temp\\ipykernel_22460\\75894833.py:79: PerformanceWarning: DataFrame is highly fragmented.  This is usually the result of calling `frame.insert` many times, which has poor performance.  Consider joining all columns at once using pd.concat(axis=1) instead. To get a de-fragmented frame, use `newframe = frame.copy()`\n",
      "  features['EDFA_type'] = extractionType_local\n"
     ]
    },
    {
     "name": "stdout",
     "output_type": "stream",
     "text": [
      "Processed ../dataset/COSMOS_EDFA_Dataset/booster/15dB/extraLow/edfa_meas_rdm1-lg1.bed_booster_2022.07.02.08.28.47.json, extractionType: booster, channelType: extraLow, edfa_name: rdm1-lg1, edfa_index: 6, rows: 568\n"
     ]
    },
    {
     "name": "stderr",
     "output_type": "stream",
     "text": [
      "C:\\Users\\mh756\\AppData\\Local\\Temp\\ipykernel_22460\\75894833.py:78: PerformanceWarning: DataFrame is highly fragmented.  This is usually the result of calling `frame.insert` many times, which has poor performance.  Consider joining all columns at once using pd.concat(axis=1) instead. To get a de-fragmented frame, use `newframe = frame.copy()`\n",
      "  features['edfa_index'] = edfa_name_to_index.get(edfa_name, -1)\n",
      "C:\\Users\\mh756\\AppData\\Local\\Temp\\ipykernel_22460\\75894833.py:79: PerformanceWarning: DataFrame is highly fragmented.  This is usually the result of calling `frame.insert` many times, which has poor performance.  Consider joining all columns at once using pd.concat(axis=1) instead. To get a de-fragmented frame, use `newframe = frame.copy()`\n",
      "  features['EDFA_type'] = extractionType_local\n"
     ]
    },
    {
     "name": "stdout",
     "output_type": "stream",
     "text": [
      "Processed ../dataset/COSMOS_EDFA_Dataset/booster/18dB/extraLow/edfa_meas_rdm1-lg1.bed_booster_2022.03.25.06.24.06.json, extractionType: booster, channelType: extraLow, edfa_name: rdm1-lg1, edfa_index: 6, rows: 568\n"
     ]
    },
    {
     "name": "stderr",
     "output_type": "stream",
     "text": [
      "C:\\Users\\mh756\\AppData\\Local\\Temp\\ipykernel_22460\\75894833.py:78: PerformanceWarning: DataFrame is highly fragmented.  This is usually the result of calling `frame.insert` many times, which has poor performance.  Consider joining all columns at once using pd.concat(axis=1) instead. To get a de-fragmented frame, use `newframe = frame.copy()`\n",
      "  features['edfa_index'] = edfa_name_to_index.get(edfa_name, -1)\n",
      "C:\\Users\\mh756\\AppData\\Local\\Temp\\ipykernel_22460\\75894833.py:79: PerformanceWarning: DataFrame is highly fragmented.  This is usually the result of calling `frame.insert` many times, which has poor performance.  Consider joining all columns at once using pd.concat(axis=1) instead. To get a de-fragmented frame, use `newframe = frame.copy()`\n",
      "  features['EDFA_type'] = extractionType_local\n"
     ]
    },
    {
     "name": "stdout",
     "output_type": "stream",
     "text": [
      "Processed ../dataset/COSMOS_EDFA_Dataset/booster/21dB/extraLow/edfa_meas_rdm1-lg1.bed_booster_2022.04.11.23.36.21.json, extractionType: booster, channelType: extraLow, edfa_name: rdm1-lg1, edfa_index: 6, rows: 568\n"
     ]
    },
    {
     "name": "stderr",
     "output_type": "stream",
     "text": [
      "C:\\Users\\mh756\\AppData\\Local\\Temp\\ipykernel_22460\\75894833.py:78: PerformanceWarning: DataFrame is highly fragmented.  This is usually the result of calling `frame.insert` many times, which has poor performance.  Consider joining all columns at once using pd.concat(axis=1) instead. To get a de-fragmented frame, use `newframe = frame.copy()`\n",
      "  features['edfa_index'] = edfa_name_to_index.get(edfa_name, -1)\n",
      "C:\\Users\\mh756\\AppData\\Local\\Temp\\ipykernel_22460\\75894833.py:79: PerformanceWarning: DataFrame is highly fragmented.  This is usually the result of calling `frame.insert` many times, which has poor performance.  Consider joining all columns at once using pd.concat(axis=1) instead. To get a de-fragmented frame, use `newframe = frame.copy()`\n",
      "  features['EDFA_type'] = extractionType_local\n"
     ]
    },
    {
     "name": "stdout",
     "output_type": "stream",
     "text": [
      "Processed ../dataset/COSMOS_EDFA_Dataset/booster/15dB/fix/edfa_meas_rdm2-lg1.bed_booster_2022.07.03.14.38.59.json, extractionType: booster, channelType: fix, edfa_name: rdm2-lg1, edfa_index: 7, rows: 280\n"
     ]
    },
    {
     "name": "stderr",
     "output_type": "stream",
     "text": [
      "C:\\Users\\mh756\\AppData\\Local\\Temp\\ipykernel_22460\\75894833.py:78: PerformanceWarning: DataFrame is highly fragmented.  This is usually the result of calling `frame.insert` many times, which has poor performance.  Consider joining all columns at once using pd.concat(axis=1) instead. To get a de-fragmented frame, use `newframe = frame.copy()`\n",
      "  features['edfa_index'] = edfa_name_to_index.get(edfa_name, -1)\n",
      "C:\\Users\\mh756\\AppData\\Local\\Temp\\ipykernel_22460\\75894833.py:79: PerformanceWarning: DataFrame is highly fragmented.  This is usually the result of calling `frame.insert` many times, which has poor performance.  Consider joining all columns at once using pd.concat(axis=1) instead. To get a de-fragmented frame, use `newframe = frame.copy()`\n",
      "  features['EDFA_type'] = extractionType_local\n"
     ]
    },
    {
     "name": "stdout",
     "output_type": "stream",
     "text": [
      "Processed ../dataset/COSMOS_EDFA_Dataset/booster/18dB/fix/edfa_meas_rdm2-lg1.bed_booster_2022.03.21.05.21.51.json, extractionType: booster, channelType: fix, edfa_name: rdm2-lg1, edfa_index: 7, rows: 280\n"
     ]
    },
    {
     "name": "stderr",
     "output_type": "stream",
     "text": [
      "C:\\Users\\mh756\\AppData\\Local\\Temp\\ipykernel_22460\\75894833.py:78: PerformanceWarning: DataFrame is highly fragmented.  This is usually the result of calling `frame.insert` many times, which has poor performance.  Consider joining all columns at once using pd.concat(axis=1) instead. To get a de-fragmented frame, use `newframe = frame.copy()`\n",
      "  features['edfa_index'] = edfa_name_to_index.get(edfa_name, -1)\n",
      "C:\\Users\\mh756\\AppData\\Local\\Temp\\ipykernel_22460\\75894833.py:79: PerformanceWarning: DataFrame is highly fragmented.  This is usually the result of calling `frame.insert` many times, which has poor performance.  Consider joining all columns at once using pd.concat(axis=1) instead. To get a de-fragmented frame, use `newframe = frame.copy()`\n",
      "  features['EDFA_type'] = extractionType_local\n"
     ]
    },
    {
     "name": "stdout",
     "output_type": "stream",
     "text": [
      "Processed ../dataset/COSMOS_EDFA_Dataset/booster/21dB/fix/edfa_meas_rdm2-lg1.bed_booster_2022.04.11.08.18.41.json, extractionType: booster, channelType: fix, edfa_name: rdm2-lg1, edfa_index: 7, rows: 280\n"
     ]
    },
    {
     "name": "stderr",
     "output_type": "stream",
     "text": [
      "C:\\Users\\mh756\\AppData\\Local\\Temp\\ipykernel_22460\\75894833.py:78: PerformanceWarning: DataFrame is highly fragmented.  This is usually the result of calling `frame.insert` many times, which has poor performance.  Consider joining all columns at once using pd.concat(axis=1) instead. To get a de-fragmented frame, use `newframe = frame.copy()`\n",
      "  features['edfa_index'] = edfa_name_to_index.get(edfa_name, -1)\n",
      "C:\\Users\\mh756\\AppData\\Local\\Temp\\ipykernel_22460\\75894833.py:79: PerformanceWarning: DataFrame is highly fragmented.  This is usually the result of calling `frame.insert` many times, which has poor performance.  Consider joining all columns at once using pd.concat(axis=1) instead. To get a de-fragmented frame, use `newframe = frame.copy()`\n",
      "  features['EDFA_type'] = extractionType_local\n"
     ]
    },
    {
     "name": "stdout",
     "output_type": "stream",
     "text": [
      "Processed ../dataset/COSMOS_EDFA_Dataset/booster/15dB/random/edfa_meas_rdm2-lg1.bed_booster_2022.07.04.03.27.21.json, extractionType: booster, channelType: random, edfa_name: rdm2-lg1, edfa_index: 7, rows: 1100\n"
     ]
    },
    {
     "name": "stderr",
     "output_type": "stream",
     "text": [
      "C:\\Users\\mh756\\AppData\\Local\\Temp\\ipykernel_22460\\75894833.py:78: PerformanceWarning: DataFrame is highly fragmented.  This is usually the result of calling `frame.insert` many times, which has poor performance.  Consider joining all columns at once using pd.concat(axis=1) instead. To get a de-fragmented frame, use `newframe = frame.copy()`\n",
      "  features['edfa_index'] = edfa_name_to_index.get(edfa_name, -1)\n",
      "C:\\Users\\mh756\\AppData\\Local\\Temp\\ipykernel_22460\\75894833.py:79: PerformanceWarning: DataFrame is highly fragmented.  This is usually the result of calling `frame.insert` many times, which has poor performance.  Consider joining all columns at once using pd.concat(axis=1) instead. To get a de-fragmented frame, use `newframe = frame.copy()`\n",
      "  features['EDFA_type'] = extractionType_local\n"
     ]
    },
    {
     "name": "stdout",
     "output_type": "stream",
     "text": [
      "Processed ../dataset/COSMOS_EDFA_Dataset/booster/18dB/random/edfa_meas_rdm2-lg1.bed_booster_2022.03.30.11.20.56.json, extractionType: booster, channelType: random, edfa_name: rdm2-lg1, edfa_index: 7, rows: 1100\n"
     ]
    },
    {
     "name": "stderr",
     "output_type": "stream",
     "text": [
      "C:\\Users\\mh756\\AppData\\Local\\Temp\\ipykernel_22460\\75894833.py:78: PerformanceWarning: DataFrame is highly fragmented.  This is usually the result of calling `frame.insert` many times, which has poor performance.  Consider joining all columns at once using pd.concat(axis=1) instead. To get a de-fragmented frame, use `newframe = frame.copy()`\n",
      "  features['edfa_index'] = edfa_name_to_index.get(edfa_name, -1)\n",
      "C:\\Users\\mh756\\AppData\\Local\\Temp\\ipykernel_22460\\75894833.py:79: PerformanceWarning: DataFrame is highly fragmented.  This is usually the result of calling `frame.insert` many times, which has poor performance.  Consider joining all columns at once using pd.concat(axis=1) instead. To get a de-fragmented frame, use `newframe = frame.copy()`\n",
      "  features['EDFA_type'] = extractionType_local\n"
     ]
    },
    {
     "name": "stdout",
     "output_type": "stream",
     "text": [
      "Processed ../dataset/COSMOS_EDFA_Dataset/booster/21dB/random/edfa_meas_rdm2-lg1.bed_booster_2022.04.24.00.53.54.json, extractionType: booster, channelType: random, edfa_name: rdm2-lg1, edfa_index: 7, rows: 1100\n"
     ]
    },
    {
     "name": "stderr",
     "output_type": "stream",
     "text": [
      "C:\\Users\\mh756\\AppData\\Local\\Temp\\ipykernel_22460\\75894833.py:78: PerformanceWarning: DataFrame is highly fragmented.  This is usually the result of calling `frame.insert` many times, which has poor performance.  Consider joining all columns at once using pd.concat(axis=1) instead. To get a de-fragmented frame, use `newframe = frame.copy()`\n",
      "  features['edfa_index'] = edfa_name_to_index.get(edfa_name, -1)\n",
      "C:\\Users\\mh756\\AppData\\Local\\Temp\\ipykernel_22460\\75894833.py:79: PerformanceWarning: DataFrame is highly fragmented.  This is usually the result of calling `frame.insert` many times, which has poor performance.  Consider joining all columns at once using pd.concat(axis=1) instead. To get a de-fragmented frame, use `newframe = frame.copy()`\n",
      "  features['EDFA_type'] = extractionType_local\n"
     ]
    },
    {
     "name": "stdout",
     "output_type": "stream",
     "text": [
      "Processed ../dataset/COSMOS_EDFA_Dataset/booster/15dB/extraRandom/edfa_meas_rdm2-lg1.bed_booster_2022.07.04.16.06.31.json, extractionType: booster, channelType: extraRandom, edfa_name: rdm2-lg1, edfa_index: 7, rows: 940\n"
     ]
    },
    {
     "name": "stderr",
     "output_type": "stream",
     "text": [
      "C:\\Users\\mh756\\AppData\\Local\\Temp\\ipykernel_22460\\75894833.py:78: PerformanceWarning: DataFrame is highly fragmented.  This is usually the result of calling `frame.insert` many times, which has poor performance.  Consider joining all columns at once using pd.concat(axis=1) instead. To get a de-fragmented frame, use `newframe = frame.copy()`\n",
      "  features['edfa_index'] = edfa_name_to_index.get(edfa_name, -1)\n",
      "C:\\Users\\mh756\\AppData\\Local\\Temp\\ipykernel_22460\\75894833.py:79: PerformanceWarning: DataFrame is highly fragmented.  This is usually the result of calling `frame.insert` many times, which has poor performance.  Consider joining all columns at once using pd.concat(axis=1) instead. To get a de-fragmented frame, use `newframe = frame.copy()`\n",
      "  features['EDFA_type'] = extractionType_local\n"
     ]
    },
    {
     "name": "stdout",
     "output_type": "stream",
     "text": [
      "Processed ../dataset/COSMOS_EDFA_Dataset/booster/18dB/extraRandom/edfa_meas_rdm2-lg1.bed_booster_2022.03.22.11.37.11.json, extractionType: booster, channelType: extraRandom, edfa_name: rdm2-lg1, edfa_index: 7, rows: 940\n"
     ]
    },
    {
     "name": "stderr",
     "output_type": "stream",
     "text": [
      "C:\\Users\\mh756\\AppData\\Local\\Temp\\ipykernel_22460\\75894833.py:78: PerformanceWarning: DataFrame is highly fragmented.  This is usually the result of calling `frame.insert` many times, which has poor performance.  Consider joining all columns at once using pd.concat(axis=1) instead. To get a de-fragmented frame, use `newframe = frame.copy()`\n",
      "  features['edfa_index'] = edfa_name_to_index.get(edfa_name, -1)\n",
      "C:\\Users\\mh756\\AppData\\Local\\Temp\\ipykernel_22460\\75894833.py:79: PerformanceWarning: DataFrame is highly fragmented.  This is usually the result of calling `frame.insert` many times, which has poor performance.  Consider joining all columns at once using pd.concat(axis=1) instead. To get a de-fragmented frame, use `newframe = frame.copy()`\n",
      "  features['EDFA_type'] = extractionType_local\n"
     ]
    },
    {
     "name": "stdout",
     "output_type": "stream",
     "text": [
      "Processed ../dataset/COSMOS_EDFA_Dataset/booster/21dB/extraRandom/edfa_meas_rdm2-lg1.bed_booster_2022.04.13.20.11.15.json, extractionType: booster, channelType: extraRandom, edfa_name: rdm2-lg1, edfa_index: 7, rows: 940\n"
     ]
    },
    {
     "name": "stderr",
     "output_type": "stream",
     "text": [
      "C:\\Users\\mh756\\AppData\\Local\\Temp\\ipykernel_22460\\75894833.py:78: PerformanceWarning: DataFrame is highly fragmented.  This is usually the result of calling `frame.insert` many times, which has poor performance.  Consider joining all columns at once using pd.concat(axis=1) instead. To get a de-fragmented frame, use `newframe = frame.copy()`\n",
      "  features['edfa_index'] = edfa_name_to_index.get(edfa_name, -1)\n",
      "C:\\Users\\mh756\\AppData\\Local\\Temp\\ipykernel_22460\\75894833.py:79: PerformanceWarning: DataFrame is highly fragmented.  This is usually the result of calling `frame.insert` many times, which has poor performance.  Consider joining all columns at once using pd.concat(axis=1) instead. To get a de-fragmented frame, use `newframe = frame.copy()`\n",
      "  features['EDFA_type'] = extractionType_local\n"
     ]
    },
    {
     "name": "stdout",
     "output_type": "stream",
     "text": [
      "Processed ../dataset/COSMOS_EDFA_Dataset/booster/15dB/extraLow/edfa_meas_rdm2-lg1.bed_booster_2022.07.03.20.58.07.json, extractionType: booster, channelType: extraLow, edfa_name: rdm2-lg1, edfa_index: 7, rows: 568\n"
     ]
    },
    {
     "name": "stderr",
     "output_type": "stream",
     "text": [
      "C:\\Users\\mh756\\AppData\\Local\\Temp\\ipykernel_22460\\75894833.py:78: PerformanceWarning: DataFrame is highly fragmented.  This is usually the result of calling `frame.insert` many times, which has poor performance.  Consider joining all columns at once using pd.concat(axis=1) instead. To get a de-fragmented frame, use `newframe = frame.copy()`\n",
      "  features['edfa_index'] = edfa_name_to_index.get(edfa_name, -1)\n",
      "C:\\Users\\mh756\\AppData\\Local\\Temp\\ipykernel_22460\\75894833.py:79: PerformanceWarning: DataFrame is highly fragmented.  This is usually the result of calling `frame.insert` many times, which has poor performance.  Consider joining all columns at once using pd.concat(axis=1) instead. To get a de-fragmented frame, use `newframe = frame.copy()`\n",
      "  features['EDFA_type'] = extractionType_local\n"
     ]
    },
    {
     "name": "stdout",
     "output_type": "stream",
     "text": [
      "Processed ../dataset/COSMOS_EDFA_Dataset/booster/18dB/extraLow/edfa_meas_rdm2-lg1.bed_booster_2022.03.31.02.15.38.json, extractionType: booster, channelType: extraLow, edfa_name: rdm2-lg1, edfa_index: 7, rows: 568\n"
     ]
    },
    {
     "name": "stderr",
     "output_type": "stream",
     "text": [
      "C:\\Users\\mh756\\AppData\\Local\\Temp\\ipykernel_22460\\75894833.py:78: PerformanceWarning: DataFrame is highly fragmented.  This is usually the result of calling `frame.insert` many times, which has poor performance.  Consider joining all columns at once using pd.concat(axis=1) instead. To get a de-fragmented frame, use `newframe = frame.copy()`\n",
      "  features['edfa_index'] = edfa_name_to_index.get(edfa_name, -1)\n",
      "C:\\Users\\mh756\\AppData\\Local\\Temp\\ipykernel_22460\\75894833.py:79: PerformanceWarning: DataFrame is highly fragmented.  This is usually the result of calling `frame.insert` many times, which has poor performance.  Consider joining all columns at once using pd.concat(axis=1) instead. To get a de-fragmented frame, use `newframe = frame.copy()`\n",
      "  features['EDFA_type'] = extractionType_local\n"
     ]
    },
    {
     "name": "stdout",
     "output_type": "stream",
     "text": [
      "Processed ../dataset/COSMOS_EDFA_Dataset/booster/21dB/extraLow/edfa_meas_rdm2-lg1.bed_booster_2022.08.31.11.12.46.json, extractionType: booster, channelType: extraLow, edfa_name: rdm2-lg1, edfa_index: 7, rows: 568\n"
     ]
    },
    {
     "name": "stderr",
     "output_type": "stream",
     "text": [
      "C:\\Users\\mh756\\AppData\\Local\\Temp\\ipykernel_22460\\75894833.py:78: PerformanceWarning: DataFrame is highly fragmented.  This is usually the result of calling `frame.insert` many times, which has poor performance.  Consider joining all columns at once using pd.concat(axis=1) instead. To get a de-fragmented frame, use `newframe = frame.copy()`\n",
      "  features['edfa_index'] = edfa_name_to_index.get(edfa_name, -1)\n",
      "C:\\Users\\mh756\\AppData\\Local\\Temp\\ipykernel_22460\\75894833.py:79: PerformanceWarning: DataFrame is highly fragmented.  This is usually the result of calling `frame.insert` many times, which has poor performance.  Consider joining all columns at once using pd.concat(axis=1) instead. To get a de-fragmented frame, use `newframe = frame.copy()`\n",
      "  features['EDFA_type'] = extractionType_local\n"
     ]
    },
    {
     "name": "stdout",
     "output_type": "stream",
     "text": [
      "Processed ../dataset/COSMOS_EDFA_Dataset/preamp/15dB/fix/edfa_meas_rdm1-co1.bed_preamp_2022.07.25.22.06.49.json, extractionType: preamp, channelType: fix, edfa_name: rdm1-co1, edfa_index: 0, rows: 280\n"
     ]
    },
    {
     "name": "stderr",
     "output_type": "stream",
     "text": [
      "C:\\Users\\mh756\\AppData\\Local\\Temp\\ipykernel_22460\\75894833.py:78: PerformanceWarning: DataFrame is highly fragmented.  This is usually the result of calling `frame.insert` many times, which has poor performance.  Consider joining all columns at once using pd.concat(axis=1) instead. To get a de-fragmented frame, use `newframe = frame.copy()`\n",
      "  features['edfa_index'] = edfa_name_to_index.get(edfa_name, -1)\n",
      "C:\\Users\\mh756\\AppData\\Local\\Temp\\ipykernel_22460\\75894833.py:79: PerformanceWarning: DataFrame is highly fragmented.  This is usually the result of calling `frame.insert` many times, which has poor performance.  Consider joining all columns at once using pd.concat(axis=1) instead. To get a de-fragmented frame, use `newframe = frame.copy()`\n",
      "  features['EDFA_type'] = extractionType_local\n"
     ]
    },
    {
     "name": "stdout",
     "output_type": "stream",
     "text": [
      "Processed ../dataset/COSMOS_EDFA_Dataset/preamp/18dB/fix/edfa_meas_rdm1-co1.bed_preamp_2022.02.16.21.14.46.json, extractionType: preamp, channelType: fix, edfa_name: rdm1-co1, edfa_index: 0, rows: 280\n"
     ]
    },
    {
     "name": "stderr",
     "output_type": "stream",
     "text": [
      "C:\\Users\\mh756\\AppData\\Local\\Temp\\ipykernel_22460\\75894833.py:78: PerformanceWarning: DataFrame is highly fragmented.  This is usually the result of calling `frame.insert` many times, which has poor performance.  Consider joining all columns at once using pd.concat(axis=1) instead. To get a de-fragmented frame, use `newframe = frame.copy()`\n",
      "  features['edfa_index'] = edfa_name_to_index.get(edfa_name, -1)\n",
      "C:\\Users\\mh756\\AppData\\Local\\Temp\\ipykernel_22460\\75894833.py:79: PerformanceWarning: DataFrame is highly fragmented.  This is usually the result of calling `frame.insert` many times, which has poor performance.  Consider joining all columns at once using pd.concat(axis=1) instead. To get a de-fragmented frame, use `newframe = frame.copy()`\n",
      "  features['EDFA_type'] = extractionType_local\n"
     ]
    },
    {
     "name": "stdout",
     "output_type": "stream",
     "text": [
      "Processed ../dataset/COSMOS_EDFA_Dataset/preamp/21dB/fix/edfa_meas_rdm1-co1.bed_preamp_2022.06.25.16.44.12.json, extractionType: preamp, channelType: fix, edfa_name: rdm1-co1, edfa_index: 0, rows: 280\n"
     ]
    },
    {
     "name": "stderr",
     "output_type": "stream",
     "text": [
      "C:\\Users\\mh756\\AppData\\Local\\Temp\\ipykernel_22460\\75894833.py:78: PerformanceWarning: DataFrame is highly fragmented.  This is usually the result of calling `frame.insert` many times, which has poor performance.  Consider joining all columns at once using pd.concat(axis=1) instead. To get a de-fragmented frame, use `newframe = frame.copy()`\n",
      "  features['edfa_index'] = edfa_name_to_index.get(edfa_name, -1)\n",
      "C:\\Users\\mh756\\AppData\\Local\\Temp\\ipykernel_22460\\75894833.py:79: PerformanceWarning: DataFrame is highly fragmented.  This is usually the result of calling `frame.insert` many times, which has poor performance.  Consider joining all columns at once using pd.concat(axis=1) instead. To get a de-fragmented frame, use `newframe = frame.copy()`\n",
      "  features['EDFA_type'] = extractionType_local\n"
     ]
    },
    {
     "name": "stdout",
     "output_type": "stream",
     "text": [
      "Processed ../dataset/COSMOS_EDFA_Dataset/preamp/15dB/random/edfa_meas_rdm1-co1.bed_preamp_2022.08.30.11.01.18.json, extractionType: preamp, channelType: random, edfa_name: rdm1-co1, edfa_index: 0, rows: 1100\n"
     ]
    },
    {
     "name": "stderr",
     "output_type": "stream",
     "text": [
      "C:\\Users\\mh756\\AppData\\Local\\Temp\\ipykernel_22460\\75894833.py:78: PerformanceWarning: DataFrame is highly fragmented.  This is usually the result of calling `frame.insert` many times, which has poor performance.  Consider joining all columns at once using pd.concat(axis=1) instead. To get a de-fragmented frame, use `newframe = frame.copy()`\n",
      "  features['edfa_index'] = edfa_name_to_index.get(edfa_name, -1)\n",
      "C:\\Users\\mh756\\AppData\\Local\\Temp\\ipykernel_22460\\75894833.py:79: PerformanceWarning: DataFrame is highly fragmented.  This is usually the result of calling `frame.insert` many times, which has poor performance.  Consider joining all columns at once using pd.concat(axis=1) instead. To get a de-fragmented frame, use `newframe = frame.copy()`\n",
      "  features['EDFA_type'] = extractionType_local\n"
     ]
    },
    {
     "name": "stdout",
     "output_type": "stream",
     "text": [
      "Processed ../dataset/COSMOS_EDFA_Dataset/preamp/18dB/random/edfa_meas_rdm1-co1.bed_preamp_2022.02.25.17.38.10.json, extractionType: preamp, channelType: random, edfa_name: rdm1-co1, edfa_index: 0, rows: 1100\n"
     ]
    },
    {
     "name": "stderr",
     "output_type": "stream",
     "text": [
      "C:\\Users\\mh756\\AppData\\Local\\Temp\\ipykernel_22460\\75894833.py:78: PerformanceWarning: DataFrame is highly fragmented.  This is usually the result of calling `frame.insert` many times, which has poor performance.  Consider joining all columns at once using pd.concat(axis=1) instead. To get a de-fragmented frame, use `newframe = frame.copy()`\n",
      "  features['edfa_index'] = edfa_name_to_index.get(edfa_name, -1)\n",
      "C:\\Users\\mh756\\AppData\\Local\\Temp\\ipykernel_22460\\75894833.py:79: PerformanceWarning: DataFrame is highly fragmented.  This is usually the result of calling `frame.insert` many times, which has poor performance.  Consider joining all columns at once using pd.concat(axis=1) instead. To get a de-fragmented frame, use `newframe = frame.copy()`\n",
      "  features['EDFA_type'] = extractionType_local\n"
     ]
    },
    {
     "name": "stdout",
     "output_type": "stream",
     "text": [
      "Processed ../dataset/COSMOS_EDFA_Dataset/preamp/21dB/random/edfa_meas_rdm1-co1.bed_preamp_2022.05.24.22.08.24.json, extractionType: preamp, channelType: random, edfa_name: rdm1-co1, edfa_index: 0, rows: 1100\n"
     ]
    },
    {
     "name": "stderr",
     "output_type": "stream",
     "text": [
      "C:\\Users\\mh756\\AppData\\Local\\Temp\\ipykernel_22460\\75894833.py:78: PerformanceWarning: DataFrame is highly fragmented.  This is usually the result of calling `frame.insert` many times, which has poor performance.  Consider joining all columns at once using pd.concat(axis=1) instead. To get a de-fragmented frame, use `newframe = frame.copy()`\n",
      "  features['edfa_index'] = edfa_name_to_index.get(edfa_name, -1)\n",
      "C:\\Users\\mh756\\AppData\\Local\\Temp\\ipykernel_22460\\75894833.py:79: PerformanceWarning: DataFrame is highly fragmented.  This is usually the result of calling `frame.insert` many times, which has poor performance.  Consider joining all columns at once using pd.concat(axis=1) instead. To get a de-fragmented frame, use `newframe = frame.copy()`\n",
      "  features['EDFA_type'] = extractionType_local\n"
     ]
    },
    {
     "name": "stdout",
     "output_type": "stream",
     "text": [
      "Processed ../dataset/COSMOS_EDFA_Dataset/preamp/15dB/extraRandom/edfa_meas_rdm1-co1.bed_preamp_2022.07.27.20.59.28.json, extractionType: preamp, channelType: extraRandom, edfa_name: rdm1-co1, edfa_index: 0, rows: 940\n"
     ]
    },
    {
     "name": "stderr",
     "output_type": "stream",
     "text": [
      "C:\\Users\\mh756\\AppData\\Local\\Temp\\ipykernel_22460\\75894833.py:78: PerformanceWarning: DataFrame is highly fragmented.  This is usually the result of calling `frame.insert` many times, which has poor performance.  Consider joining all columns at once using pd.concat(axis=1) instead. To get a de-fragmented frame, use `newframe = frame.copy()`\n",
      "  features['edfa_index'] = edfa_name_to_index.get(edfa_name, -1)\n",
      "C:\\Users\\mh756\\AppData\\Local\\Temp\\ipykernel_22460\\75894833.py:79: PerformanceWarning: DataFrame is highly fragmented.  This is usually the result of calling `frame.insert` many times, which has poor performance.  Consider joining all columns at once using pd.concat(axis=1) instead. To get a de-fragmented frame, use `newframe = frame.copy()`\n",
      "  features['EDFA_type'] = extractionType_local\n"
     ]
    },
    {
     "name": "stdout",
     "output_type": "stream",
     "text": [
      "Processed ../dataset/COSMOS_EDFA_Dataset/preamp/18dB/extraRandom/edfa_meas_rdm1-co1.bed_preamp_2022.03.04.14.57.30.json, extractionType: preamp, channelType: extraRandom, edfa_name: rdm1-co1, edfa_index: 0, rows: 940\n"
     ]
    },
    {
     "name": "stderr",
     "output_type": "stream",
     "text": [
      "C:\\Users\\mh756\\AppData\\Local\\Temp\\ipykernel_22460\\75894833.py:78: PerformanceWarning: DataFrame is highly fragmented.  This is usually the result of calling `frame.insert` many times, which has poor performance.  Consider joining all columns at once using pd.concat(axis=1) instead. To get a de-fragmented frame, use `newframe = frame.copy()`\n",
      "  features['edfa_index'] = edfa_name_to_index.get(edfa_name, -1)\n",
      "C:\\Users\\mh756\\AppData\\Local\\Temp\\ipykernel_22460\\75894833.py:79: PerformanceWarning: DataFrame is highly fragmented.  This is usually the result of calling `frame.insert` many times, which has poor performance.  Consider joining all columns at once using pd.concat(axis=1) instead. To get a de-fragmented frame, use `newframe = frame.copy()`\n",
      "  features['EDFA_type'] = extractionType_local\n"
     ]
    },
    {
     "name": "stdout",
     "output_type": "stream",
     "text": [
      "Processed ../dataset/COSMOS_EDFA_Dataset/preamp/21dB/extraRandom/edfa_meas_rdm1-co1.bed_preamp_2022.06.20.12.37.12.json, extractionType: preamp, channelType: extraRandom, edfa_name: rdm1-co1, edfa_index: 0, rows: 940\n"
     ]
    },
    {
     "name": "stderr",
     "output_type": "stream",
     "text": [
      "C:\\Users\\mh756\\AppData\\Local\\Temp\\ipykernel_22460\\75894833.py:78: PerformanceWarning: DataFrame is highly fragmented.  This is usually the result of calling `frame.insert` many times, which has poor performance.  Consider joining all columns at once using pd.concat(axis=1) instead. To get a de-fragmented frame, use `newframe = frame.copy()`\n",
      "  features['edfa_index'] = edfa_name_to_index.get(edfa_name, -1)\n",
      "C:\\Users\\mh756\\AppData\\Local\\Temp\\ipykernel_22460\\75894833.py:79: PerformanceWarning: DataFrame is highly fragmented.  This is usually the result of calling `frame.insert` many times, which has poor performance.  Consider joining all columns at once using pd.concat(axis=1) instead. To get a de-fragmented frame, use `newframe = frame.copy()`\n",
      "  features['EDFA_type'] = extractionType_local\n"
     ]
    },
    {
     "name": "stdout",
     "output_type": "stream",
     "text": [
      "Processed ../dataset/COSMOS_EDFA_Dataset/preamp/15dB/extraLow/edfa_meas_rdm1-co1.bed_preamp_2022.07.26.18.13.30.json, extractionType: preamp, channelType: extraLow, edfa_name: rdm1-co1, edfa_index: 0, rows: 568\n"
     ]
    },
    {
     "name": "stderr",
     "output_type": "stream",
     "text": [
      "C:\\Users\\mh756\\AppData\\Local\\Temp\\ipykernel_22460\\75894833.py:78: PerformanceWarning: DataFrame is highly fragmented.  This is usually the result of calling `frame.insert` many times, which has poor performance.  Consider joining all columns at once using pd.concat(axis=1) instead. To get a de-fragmented frame, use `newframe = frame.copy()`\n",
      "  features['edfa_index'] = edfa_name_to_index.get(edfa_name, -1)\n",
      "C:\\Users\\mh756\\AppData\\Local\\Temp\\ipykernel_22460\\75894833.py:79: PerformanceWarning: DataFrame is highly fragmented.  This is usually the result of calling `frame.insert` many times, which has poor performance.  Consider joining all columns at once using pd.concat(axis=1) instead. To get a de-fragmented frame, use `newframe = frame.copy()`\n",
      "  features['EDFA_type'] = extractionType_local\n"
     ]
    },
    {
     "name": "stdout",
     "output_type": "stream",
     "text": [
      "Processed ../dataset/COSMOS_EDFA_Dataset/preamp/18dB/extraLow/edfa_meas_rdm1-co1.bed_preamp_2022.02.20.17.18.52.json, extractionType: preamp, channelType: extraLow, edfa_name: rdm1-co1, edfa_index: 0, rows: 568\n"
     ]
    },
    {
     "name": "stderr",
     "output_type": "stream",
     "text": [
      "C:\\Users\\mh756\\AppData\\Local\\Temp\\ipykernel_22460\\75894833.py:78: PerformanceWarning: DataFrame is highly fragmented.  This is usually the result of calling `frame.insert` many times, which has poor performance.  Consider joining all columns at once using pd.concat(axis=1) instead. To get a de-fragmented frame, use `newframe = frame.copy()`\n",
      "  features['edfa_index'] = edfa_name_to_index.get(edfa_name, -1)\n",
      "C:\\Users\\mh756\\AppData\\Local\\Temp\\ipykernel_22460\\75894833.py:79: PerformanceWarning: DataFrame is highly fragmented.  This is usually the result of calling `frame.insert` many times, which has poor performance.  Consider joining all columns at once using pd.concat(axis=1) instead. To get a de-fragmented frame, use `newframe = frame.copy()`\n",
      "  features['EDFA_type'] = extractionType_local\n"
     ]
    },
    {
     "name": "stdout",
     "output_type": "stream",
     "text": [
      "Processed ../dataset/COSMOS_EDFA_Dataset/preamp/21dB/extraLow/edfa_meas_rdm1-co1.bed_preamp_2022.05.26.13.28.28.json, extractionType: preamp, channelType: extraLow, edfa_name: rdm1-co1, edfa_index: 0, rows: 568\n"
     ]
    },
    {
     "name": "stderr",
     "output_type": "stream",
     "text": [
      "C:\\Users\\mh756\\AppData\\Local\\Temp\\ipykernel_22460\\75894833.py:78: PerformanceWarning: DataFrame is highly fragmented.  This is usually the result of calling `frame.insert` many times, which has poor performance.  Consider joining all columns at once using pd.concat(axis=1) instead. To get a de-fragmented frame, use `newframe = frame.copy()`\n",
      "  features['edfa_index'] = edfa_name_to_index.get(edfa_name, -1)\n",
      "C:\\Users\\mh756\\AppData\\Local\\Temp\\ipykernel_22460\\75894833.py:79: PerformanceWarning: DataFrame is highly fragmented.  This is usually the result of calling `frame.insert` many times, which has poor performance.  Consider joining all columns at once using pd.concat(axis=1) instead. To get a de-fragmented frame, use `newframe = frame.copy()`\n",
      "  features['EDFA_type'] = extractionType_local\n"
     ]
    },
    {
     "name": "stdout",
     "output_type": "stream",
     "text": [
      "Processed ../dataset/COSMOS_EDFA_Dataset/preamp/15dB/fix/edfa_meas_rdm2-co1.bed_preamp_2022.07.29.23.22.30.json, extractionType: preamp, channelType: fix, edfa_name: rdm2-co1, edfa_index: 1, rows: 280\n"
     ]
    },
    {
     "name": "stderr",
     "output_type": "stream",
     "text": [
      "C:\\Users\\mh756\\AppData\\Local\\Temp\\ipykernel_22460\\75894833.py:78: PerformanceWarning: DataFrame is highly fragmented.  This is usually the result of calling `frame.insert` many times, which has poor performance.  Consider joining all columns at once using pd.concat(axis=1) instead. To get a de-fragmented frame, use `newframe = frame.copy()`\n",
      "  features['edfa_index'] = edfa_name_to_index.get(edfa_name, -1)\n",
      "C:\\Users\\mh756\\AppData\\Local\\Temp\\ipykernel_22460\\75894833.py:79: PerformanceWarning: DataFrame is highly fragmented.  This is usually the result of calling `frame.insert` many times, which has poor performance.  Consider joining all columns at once using pd.concat(axis=1) instead. To get a de-fragmented frame, use `newframe = frame.copy()`\n",
      "  features['EDFA_type'] = extractionType_local\n"
     ]
    },
    {
     "name": "stdout",
     "output_type": "stream",
     "text": [
      "Processed ../dataset/COSMOS_EDFA_Dataset/preamp/18dB/fix/edfa_meas_rdm2-co1.bed_preamp_2022.02.17.04.29.24.json, extractionType: preamp, channelType: fix, edfa_name: rdm2-co1, edfa_index: 1, rows: 280\n"
     ]
    },
    {
     "name": "stderr",
     "output_type": "stream",
     "text": [
      "C:\\Users\\mh756\\AppData\\Local\\Temp\\ipykernel_22460\\75894833.py:78: PerformanceWarning: DataFrame is highly fragmented.  This is usually the result of calling `frame.insert` many times, which has poor performance.  Consider joining all columns at once using pd.concat(axis=1) instead. To get a de-fragmented frame, use `newframe = frame.copy()`\n",
      "  features['edfa_index'] = edfa_name_to_index.get(edfa_name, -1)\n",
      "C:\\Users\\mh756\\AppData\\Local\\Temp\\ipykernel_22460\\75894833.py:79: PerformanceWarning: DataFrame is highly fragmented.  This is usually the result of calling `frame.insert` many times, which has poor performance.  Consider joining all columns at once using pd.concat(axis=1) instead. To get a de-fragmented frame, use `newframe = frame.copy()`\n",
      "  features['EDFA_type'] = extractionType_local\n"
     ]
    },
    {
     "name": "stdout",
     "output_type": "stream",
     "text": [
      "Processed ../dataset/COSMOS_EDFA_Dataset/preamp/21dB/fix/edfa_meas_rdm2-co1.bed_preamp_2022.06.26.01.32.56.json, extractionType: preamp, channelType: fix, edfa_name: rdm2-co1, edfa_index: 1, rows: 280\n"
     ]
    },
    {
     "name": "stderr",
     "output_type": "stream",
     "text": [
      "C:\\Users\\mh756\\AppData\\Local\\Temp\\ipykernel_22460\\75894833.py:78: PerformanceWarning: DataFrame is highly fragmented.  This is usually the result of calling `frame.insert` many times, which has poor performance.  Consider joining all columns at once using pd.concat(axis=1) instead. To get a de-fragmented frame, use `newframe = frame.copy()`\n",
      "  features['edfa_index'] = edfa_name_to_index.get(edfa_name, -1)\n",
      "C:\\Users\\mh756\\AppData\\Local\\Temp\\ipykernel_22460\\75894833.py:79: PerformanceWarning: DataFrame is highly fragmented.  This is usually the result of calling `frame.insert` many times, which has poor performance.  Consider joining all columns at once using pd.concat(axis=1) instead. To get a de-fragmented frame, use `newframe = frame.copy()`\n",
      "  features['EDFA_type'] = extractionType_local\n"
     ]
    },
    {
     "name": "stdout",
     "output_type": "stream",
     "text": [
      "Processed ../dataset/COSMOS_EDFA_Dataset/preamp/15dB/random/edfa_meas_rdm2-co1.bed_preamp_2022.07.30.16.55.03.json, extractionType: preamp, channelType: random, edfa_name: rdm2-co1, edfa_index: 1, rows: 1100\n"
     ]
    },
    {
     "name": "stderr",
     "output_type": "stream",
     "text": [
      "C:\\Users\\mh756\\AppData\\Local\\Temp\\ipykernel_22460\\75894833.py:78: PerformanceWarning: DataFrame is highly fragmented.  This is usually the result of calling `frame.insert` many times, which has poor performance.  Consider joining all columns at once using pd.concat(axis=1) instead. To get a de-fragmented frame, use `newframe = frame.copy()`\n",
      "  features['edfa_index'] = edfa_name_to_index.get(edfa_name, -1)\n",
      "C:\\Users\\mh756\\AppData\\Local\\Temp\\ipykernel_22460\\75894833.py:79: PerformanceWarning: DataFrame is highly fragmented.  This is usually the result of calling `frame.insert` many times, which has poor performance.  Consider joining all columns at once using pd.concat(axis=1) instead. To get a de-fragmented frame, use `newframe = frame.copy()`\n",
      "  features['EDFA_type'] = extractionType_local\n"
     ]
    },
    {
     "name": "stdout",
     "output_type": "stream",
     "text": [
      "Processed ../dataset/COSMOS_EDFA_Dataset/preamp/18dB/random/edfa_meas_rdm2-co1.bed_preamp_2022.02.26.08.08.51.json, extractionType: preamp, channelType: random, edfa_name: rdm2-co1, edfa_index: 1, rows: 1100\n"
     ]
    },
    {
     "name": "stderr",
     "output_type": "stream",
     "text": [
      "C:\\Users\\mh756\\AppData\\Local\\Temp\\ipykernel_22460\\75894833.py:78: PerformanceWarning: DataFrame is highly fragmented.  This is usually the result of calling `frame.insert` many times, which has poor performance.  Consider joining all columns at once using pd.concat(axis=1) instead. To get a de-fragmented frame, use `newframe = frame.copy()`\n",
      "  features['edfa_index'] = edfa_name_to_index.get(edfa_name, -1)\n",
      "C:\\Users\\mh756\\AppData\\Local\\Temp\\ipykernel_22460\\75894833.py:79: PerformanceWarning: DataFrame is highly fragmented.  This is usually the result of calling `frame.insert` many times, which has poor performance.  Consider joining all columns at once using pd.concat(axis=1) instead. To get a de-fragmented frame, use `newframe = frame.copy()`\n",
      "  features['EDFA_type'] = extractionType_local\n"
     ]
    },
    {
     "name": "stdout",
     "output_type": "stream",
     "text": [
      "Processed ../dataset/COSMOS_EDFA_Dataset/preamp/21dB/random/edfa_meas_rdm2-co1.bed_preamp_2022.05.25.18.20.35.json, extractionType: preamp, channelType: random, edfa_name: rdm2-co1, edfa_index: 1, rows: 1100\n"
     ]
    },
    {
     "name": "stderr",
     "output_type": "stream",
     "text": [
      "C:\\Users\\mh756\\AppData\\Local\\Temp\\ipykernel_22460\\75894833.py:78: PerformanceWarning: DataFrame is highly fragmented.  This is usually the result of calling `frame.insert` many times, which has poor performance.  Consider joining all columns at once using pd.concat(axis=1) instead. To get a de-fragmented frame, use `newframe = frame.copy()`\n",
      "  features['edfa_index'] = edfa_name_to_index.get(edfa_name, -1)\n",
      "C:\\Users\\mh756\\AppData\\Local\\Temp\\ipykernel_22460\\75894833.py:79: PerformanceWarning: DataFrame is highly fragmented.  This is usually the result of calling `frame.insert` many times, which has poor performance.  Consider joining all columns at once using pd.concat(axis=1) instead. To get a de-fragmented frame, use `newframe = frame.copy()`\n",
      "  features['EDFA_type'] = extractionType_local\n"
     ]
    },
    {
     "name": "stdout",
     "output_type": "stream",
     "text": [
      "Processed ../dataset/COSMOS_EDFA_Dataset/preamp/15dB/extraRandom/edfa_meas_rdm2-co1.bed_preamp_2022.08.02.17.49.01.json, extractionType: preamp, channelType: extraRandom, edfa_name: rdm2-co1, edfa_index: 1, rows: 940\n"
     ]
    },
    {
     "name": "stderr",
     "output_type": "stream",
     "text": [
      "C:\\Users\\mh756\\AppData\\Local\\Temp\\ipykernel_22460\\75894833.py:78: PerformanceWarning: DataFrame is highly fragmented.  This is usually the result of calling `frame.insert` many times, which has poor performance.  Consider joining all columns at once using pd.concat(axis=1) instead. To get a de-fragmented frame, use `newframe = frame.copy()`\n",
      "  features['edfa_index'] = edfa_name_to_index.get(edfa_name, -1)\n",
      "C:\\Users\\mh756\\AppData\\Local\\Temp\\ipykernel_22460\\75894833.py:79: PerformanceWarning: DataFrame is highly fragmented.  This is usually the result of calling `frame.insert` many times, which has poor performance.  Consider joining all columns at once using pd.concat(axis=1) instead. To get a de-fragmented frame, use `newframe = frame.copy()`\n",
      "  features['EDFA_type'] = extractionType_local\n"
     ]
    },
    {
     "name": "stdout",
     "output_type": "stream",
     "text": [
      "Processed ../dataset/COSMOS_EDFA_Dataset/preamp/18dB/extraRandom/edfa_meas_rdm2-co1.bed_preamp_2022.03.05.03.33.01.json, extractionType: preamp, channelType: extraRandom, edfa_name: rdm2-co1, edfa_index: 1, rows: 940\n"
     ]
    },
    {
     "name": "stderr",
     "output_type": "stream",
     "text": [
      "C:\\Users\\mh756\\AppData\\Local\\Temp\\ipykernel_22460\\75894833.py:78: PerformanceWarning: DataFrame is highly fragmented.  This is usually the result of calling `frame.insert` many times, which has poor performance.  Consider joining all columns at once using pd.concat(axis=1) instead. To get a de-fragmented frame, use `newframe = frame.copy()`\n",
      "  features['edfa_index'] = edfa_name_to_index.get(edfa_name, -1)\n",
      "C:\\Users\\mh756\\AppData\\Local\\Temp\\ipykernel_22460\\75894833.py:79: PerformanceWarning: DataFrame is highly fragmented.  This is usually the result of calling `frame.insert` many times, which has poor performance.  Consider joining all columns at once using pd.concat(axis=1) instead. To get a de-fragmented frame, use `newframe = frame.copy()`\n",
      "  features['EDFA_type'] = extractionType_local\n"
     ]
    },
    {
     "name": "stdout",
     "output_type": "stream",
     "text": [
      "Processed ../dataset/COSMOS_EDFA_Dataset/preamp/21dB/extraRandom/edfa_meas_rdm2-co1.bed_preamp_2022.06.21.03.54.29.json, extractionType: preamp, channelType: extraRandom, edfa_name: rdm2-co1, edfa_index: 1, rows: 940\n"
     ]
    },
    {
     "name": "stderr",
     "output_type": "stream",
     "text": [
      "C:\\Users\\mh756\\AppData\\Local\\Temp\\ipykernel_22460\\75894833.py:78: PerformanceWarning: DataFrame is highly fragmented.  This is usually the result of calling `frame.insert` many times, which has poor performance.  Consider joining all columns at once using pd.concat(axis=1) instead. To get a de-fragmented frame, use `newframe = frame.copy()`\n",
      "  features['edfa_index'] = edfa_name_to_index.get(edfa_name, -1)\n",
      "C:\\Users\\mh756\\AppData\\Local\\Temp\\ipykernel_22460\\75894833.py:79: PerformanceWarning: DataFrame is highly fragmented.  This is usually the result of calling `frame.insert` many times, which has poor performance.  Consider joining all columns at once using pd.concat(axis=1) instead. To get a de-fragmented frame, use `newframe = frame.copy()`\n",
      "  features['EDFA_type'] = extractionType_local\n"
     ]
    },
    {
     "name": "stdout",
     "output_type": "stream",
     "text": [
      "Processed ../dataset/COSMOS_EDFA_Dataset/preamp/15dB/extraLow/edfa_meas_rdm2-co1.bed_preamp_2022.07.31.14.42.27.json, extractionType: preamp, channelType: extraLow, edfa_name: rdm2-co1, edfa_index: 1, rows: 568\n"
     ]
    },
    {
     "name": "stderr",
     "output_type": "stream",
     "text": [
      "C:\\Users\\mh756\\AppData\\Local\\Temp\\ipykernel_22460\\75894833.py:78: PerformanceWarning: DataFrame is highly fragmented.  This is usually the result of calling `frame.insert` many times, which has poor performance.  Consider joining all columns at once using pd.concat(axis=1) instead. To get a de-fragmented frame, use `newframe = frame.copy()`\n",
      "  features['edfa_index'] = edfa_name_to_index.get(edfa_name, -1)\n",
      "C:\\Users\\mh756\\AppData\\Local\\Temp\\ipykernel_22460\\75894833.py:79: PerformanceWarning: DataFrame is highly fragmented.  This is usually the result of calling `frame.insert` many times, which has poor performance.  Consider joining all columns at once using pd.concat(axis=1) instead. To get a de-fragmented frame, use `newframe = frame.copy()`\n",
      "  features['EDFA_type'] = extractionType_local\n"
     ]
    },
    {
     "name": "stdout",
     "output_type": "stream",
     "text": [
      "Processed ../dataset/COSMOS_EDFA_Dataset/preamp/18dB/extraLow/edfa_meas_rdm2-co1.bed_preamp_2022.02.21.00.45.15.json, extractionType: preamp, channelType: extraLow, edfa_name: rdm2-co1, edfa_index: 1, rows: 568\n"
     ]
    },
    {
     "name": "stderr",
     "output_type": "stream",
     "text": [
      "C:\\Users\\mh756\\AppData\\Local\\Temp\\ipykernel_22460\\75894833.py:78: PerformanceWarning: DataFrame is highly fragmented.  This is usually the result of calling `frame.insert` many times, which has poor performance.  Consider joining all columns at once using pd.concat(axis=1) instead. To get a de-fragmented frame, use `newframe = frame.copy()`\n",
      "  features['edfa_index'] = edfa_name_to_index.get(edfa_name, -1)\n",
      "C:\\Users\\mh756\\AppData\\Local\\Temp\\ipykernel_22460\\75894833.py:79: PerformanceWarning: DataFrame is highly fragmented.  This is usually the result of calling `frame.insert` many times, which has poor performance.  Consider joining all columns at once using pd.concat(axis=1) instead. To get a de-fragmented frame, use `newframe = frame.copy()`\n",
      "  features['EDFA_type'] = extractionType_local\n"
     ]
    },
    {
     "name": "stdout",
     "output_type": "stream",
     "text": [
      "Processed ../dataset/COSMOS_EDFA_Dataset/preamp/21dB/extraLow/edfa_meas_rdm2-co1.bed_preamp_2022.05.26.22.29.32.json, extractionType: preamp, channelType: extraLow, edfa_name: rdm2-co1, edfa_index: 1, rows: 568\n"
     ]
    },
    {
     "name": "stderr",
     "output_type": "stream",
     "text": [
      "C:\\Users\\mh756\\AppData\\Local\\Temp\\ipykernel_22460\\75894833.py:78: PerformanceWarning: DataFrame is highly fragmented.  This is usually the result of calling `frame.insert` many times, which has poor performance.  Consider joining all columns at once using pd.concat(axis=1) instead. To get a de-fragmented frame, use `newframe = frame.copy()`\n",
      "  features['edfa_index'] = edfa_name_to_index.get(edfa_name, -1)\n",
      "C:\\Users\\mh756\\AppData\\Local\\Temp\\ipykernel_22460\\75894833.py:79: PerformanceWarning: DataFrame is highly fragmented.  This is usually the result of calling `frame.insert` many times, which has poor performance.  Consider joining all columns at once using pd.concat(axis=1) instead. To get a de-fragmented frame, use `newframe = frame.copy()`\n",
      "  features['EDFA_type'] = extractionType_local\n"
     ]
    },
    {
     "name": "stdout",
     "output_type": "stream",
     "text": [
      "Processed ../dataset/COSMOS_EDFA_Dataset/preamp/15dB/fix/edfa_meas_rdm3-co1.bed_preamp_2022.07.13.14.53.22.json, extractionType: preamp, channelType: fix, edfa_name: rdm3-co1, edfa_index: 2, rows: 280\n"
     ]
    },
    {
     "name": "stderr",
     "output_type": "stream",
     "text": [
      "C:\\Users\\mh756\\AppData\\Local\\Temp\\ipykernel_22460\\75894833.py:78: PerformanceWarning: DataFrame is highly fragmented.  This is usually the result of calling `frame.insert` many times, which has poor performance.  Consider joining all columns at once using pd.concat(axis=1) instead. To get a de-fragmented frame, use `newframe = frame.copy()`\n",
      "  features['edfa_index'] = edfa_name_to_index.get(edfa_name, -1)\n",
      "C:\\Users\\mh756\\AppData\\Local\\Temp\\ipykernel_22460\\75894833.py:79: PerformanceWarning: DataFrame is highly fragmented.  This is usually the result of calling `frame.insert` many times, which has poor performance.  Consider joining all columns at once using pd.concat(axis=1) instead. To get a de-fragmented frame, use `newframe = frame.copy()`\n",
      "  features['EDFA_type'] = extractionType_local\n"
     ]
    },
    {
     "name": "stdout",
     "output_type": "stream",
     "text": [
      "Processed ../dataset/COSMOS_EDFA_Dataset/preamp/18dB/fix/edfa_meas_rdm3-co1.bed_preamp_2022.02.18.20.49.42.json, extractionType: preamp, channelType: fix, edfa_name: rdm3-co1, edfa_index: 2, rows: 280\n"
     ]
    },
    {
     "name": "stderr",
     "output_type": "stream",
     "text": [
      "C:\\Users\\mh756\\AppData\\Local\\Temp\\ipykernel_22460\\75894833.py:78: PerformanceWarning: DataFrame is highly fragmented.  This is usually the result of calling `frame.insert` many times, which has poor performance.  Consider joining all columns at once using pd.concat(axis=1) instead. To get a de-fragmented frame, use `newframe = frame.copy()`\n",
      "  features['edfa_index'] = edfa_name_to_index.get(edfa_name, -1)\n",
      "C:\\Users\\mh756\\AppData\\Local\\Temp\\ipykernel_22460\\75894833.py:79: PerformanceWarning: DataFrame is highly fragmented.  This is usually the result of calling `frame.insert` many times, which has poor performance.  Consider joining all columns at once using pd.concat(axis=1) instead. To get a de-fragmented frame, use `newframe = frame.copy()`\n",
      "  features['EDFA_type'] = extractionType_local\n"
     ]
    },
    {
     "name": "stdout",
     "output_type": "stream",
     "text": [
      "Processed ../dataset/COSMOS_EDFA_Dataset/preamp/21dB/fix/edfa_meas_rdm3-co1.bed_preamp_2022.06.24.10.49.36.json, extractionType: preamp, channelType: fix, edfa_name: rdm3-co1, edfa_index: 2, rows: 280\n"
     ]
    },
    {
     "name": "stderr",
     "output_type": "stream",
     "text": [
      "C:\\Users\\mh756\\AppData\\Local\\Temp\\ipykernel_22460\\75894833.py:78: PerformanceWarning: DataFrame is highly fragmented.  This is usually the result of calling `frame.insert` many times, which has poor performance.  Consider joining all columns at once using pd.concat(axis=1) instead. To get a de-fragmented frame, use `newframe = frame.copy()`\n",
      "  features['edfa_index'] = edfa_name_to_index.get(edfa_name, -1)\n",
      "C:\\Users\\mh756\\AppData\\Local\\Temp\\ipykernel_22460\\75894833.py:79: PerformanceWarning: DataFrame is highly fragmented.  This is usually the result of calling `frame.insert` many times, which has poor performance.  Consider joining all columns at once using pd.concat(axis=1) instead. To get a de-fragmented frame, use `newframe = frame.copy()`\n",
      "  features['EDFA_type'] = extractionType_local\n"
     ]
    },
    {
     "name": "stdout",
     "output_type": "stream",
     "text": [
      "Processed ../dataset/COSMOS_EDFA_Dataset/preamp/15dB/random/edfa_meas_rdm3-co1.bed_preamp_2022.07.14.09.03.59.json, extractionType: preamp, channelType: random, edfa_name: rdm3-co1, edfa_index: 2, rows: 1100\n"
     ]
    },
    {
     "name": "stderr",
     "output_type": "stream",
     "text": [
      "C:\\Users\\mh756\\AppData\\Local\\Temp\\ipykernel_22460\\75894833.py:78: PerformanceWarning: DataFrame is highly fragmented.  This is usually the result of calling `frame.insert` many times, which has poor performance.  Consider joining all columns at once using pd.concat(axis=1) instead. To get a de-fragmented frame, use `newframe = frame.copy()`\n",
      "  features['edfa_index'] = edfa_name_to_index.get(edfa_name, -1)\n",
      "C:\\Users\\mh756\\AppData\\Local\\Temp\\ipykernel_22460\\75894833.py:79: PerformanceWarning: DataFrame is highly fragmented.  This is usually the result of calling `frame.insert` many times, which has poor performance.  Consider joining all columns at once using pd.concat(axis=1) instead. To get a de-fragmented frame, use `newframe = frame.copy()`\n",
      "  features['EDFA_type'] = extractionType_local\n"
     ]
    },
    {
     "name": "stdout",
     "output_type": "stream",
     "text": [
      "Processed ../dataset/COSMOS_EDFA_Dataset/preamp/18dB/random/edfa_meas_rdm3-co1.bed_preamp_2022.02.28.17.11.58.json, extractionType: preamp, channelType: random, edfa_name: rdm3-co1, edfa_index: 2, rows: 1100\n"
     ]
    },
    {
     "name": "stderr",
     "output_type": "stream",
     "text": [
      "C:\\Users\\mh756\\AppData\\Local\\Temp\\ipykernel_22460\\75894833.py:78: PerformanceWarning: DataFrame is highly fragmented.  This is usually the result of calling `frame.insert` many times, which has poor performance.  Consider joining all columns at once using pd.concat(axis=1) instead. To get a de-fragmented frame, use `newframe = frame.copy()`\n",
      "  features['edfa_index'] = edfa_name_to_index.get(edfa_name, -1)\n",
      "C:\\Users\\mh756\\AppData\\Local\\Temp\\ipykernel_22460\\75894833.py:79: PerformanceWarning: DataFrame is highly fragmented.  This is usually the result of calling `frame.insert` many times, which has poor performance.  Consider joining all columns at once using pd.concat(axis=1) instead. To get a de-fragmented frame, use `newframe = frame.copy()`\n",
      "  features['EDFA_type'] = extractionType_local\n"
     ]
    },
    {
     "name": "stdout",
     "output_type": "stream",
     "text": [
      "Processed ../dataset/COSMOS_EDFA_Dataset/preamp/21dB/random/edfa_meas_rdm3-co1.bed_preamp_2022.05.22.23.09.38.json, extractionType: preamp, channelType: random, edfa_name: rdm3-co1, edfa_index: 2, rows: 1100\n"
     ]
    },
    {
     "name": "stderr",
     "output_type": "stream",
     "text": [
      "C:\\Users\\mh756\\AppData\\Local\\Temp\\ipykernel_22460\\75894833.py:78: PerformanceWarning: DataFrame is highly fragmented.  This is usually the result of calling `frame.insert` many times, which has poor performance.  Consider joining all columns at once using pd.concat(axis=1) instead. To get a de-fragmented frame, use `newframe = frame.copy()`\n",
      "  features['edfa_index'] = edfa_name_to_index.get(edfa_name, -1)\n",
      "C:\\Users\\mh756\\AppData\\Local\\Temp\\ipykernel_22460\\75894833.py:79: PerformanceWarning: DataFrame is highly fragmented.  This is usually the result of calling `frame.insert` many times, which has poor performance.  Consider joining all columns at once using pd.concat(axis=1) instead. To get a de-fragmented frame, use `newframe = frame.copy()`\n",
      "  features['EDFA_type'] = extractionType_local\n"
     ]
    },
    {
     "name": "stdout",
     "output_type": "stream",
     "text": [
      "Processed ../dataset/COSMOS_EDFA_Dataset/preamp/15dB/extraRandom/edfa_meas_rdm3-co1.bed_preamp_2022.08.29.17.51.14.json, extractionType: preamp, channelType: extraRandom, edfa_name: rdm3-co1, edfa_index: 2, rows: 940\n"
     ]
    },
    {
     "name": "stderr",
     "output_type": "stream",
     "text": [
      "C:\\Users\\mh756\\AppData\\Local\\Temp\\ipykernel_22460\\75894833.py:78: PerformanceWarning: DataFrame is highly fragmented.  This is usually the result of calling `frame.insert` many times, which has poor performance.  Consider joining all columns at once using pd.concat(axis=1) instead. To get a de-fragmented frame, use `newframe = frame.copy()`\n",
      "  features['edfa_index'] = edfa_name_to_index.get(edfa_name, -1)\n",
      "C:\\Users\\mh756\\AppData\\Local\\Temp\\ipykernel_22460\\75894833.py:79: PerformanceWarning: DataFrame is highly fragmented.  This is usually the result of calling `frame.insert` many times, which has poor performance.  Consider joining all columns at once using pd.concat(axis=1) instead. To get a de-fragmented frame, use `newframe = frame.copy()`\n",
      "  features['EDFA_type'] = extractionType_local\n"
     ]
    },
    {
     "name": "stdout",
     "output_type": "stream",
     "text": [
      "Processed ../dataset/COSMOS_EDFA_Dataset/preamp/18dB/extraRandom/edfa_meas_rdm3-co1.bed_preamp_2022.03.07.07.31.34.json, extractionType: preamp, channelType: extraRandom, edfa_name: rdm3-co1, edfa_index: 2, rows: 940\n"
     ]
    },
    {
     "name": "stderr",
     "output_type": "stream",
     "text": [
      "C:\\Users\\mh756\\AppData\\Local\\Temp\\ipykernel_22460\\75894833.py:78: PerformanceWarning: DataFrame is highly fragmented.  This is usually the result of calling `frame.insert` many times, which has poor performance.  Consider joining all columns at once using pd.concat(axis=1) instead. To get a de-fragmented frame, use `newframe = frame.copy()`\n",
      "  features['edfa_index'] = edfa_name_to_index.get(edfa_name, -1)\n",
      "C:\\Users\\mh756\\AppData\\Local\\Temp\\ipykernel_22460\\75894833.py:79: PerformanceWarning: DataFrame is highly fragmented.  This is usually the result of calling `frame.insert` many times, which has poor performance.  Consider joining all columns at once using pd.concat(axis=1) instead. To get a de-fragmented frame, use `newframe = frame.copy()`\n",
      "  features['EDFA_type'] = extractionType_local\n"
     ]
    },
    {
     "name": "stdout",
     "output_type": "stream",
     "text": [
      "Processed ../dataset/COSMOS_EDFA_Dataset/preamp/21dB/extraRandom/edfa_meas_rdm3-co1.bed_preamp_2022.06.19.16.24.33.json, extractionType: preamp, channelType: extraRandom, edfa_name: rdm3-co1, edfa_index: 2, rows: 940\n"
     ]
    },
    {
     "name": "stderr",
     "output_type": "stream",
     "text": [
      "C:\\Users\\mh756\\AppData\\Local\\Temp\\ipykernel_22460\\75894833.py:78: PerformanceWarning: DataFrame is highly fragmented.  This is usually the result of calling `frame.insert` many times, which has poor performance.  Consider joining all columns at once using pd.concat(axis=1) instead. To get a de-fragmented frame, use `newframe = frame.copy()`\n",
      "  features['edfa_index'] = edfa_name_to_index.get(edfa_name, -1)\n",
      "C:\\Users\\mh756\\AppData\\Local\\Temp\\ipykernel_22460\\75894833.py:79: PerformanceWarning: DataFrame is highly fragmented.  This is usually the result of calling `frame.insert` many times, which has poor performance.  Consider joining all columns at once using pd.concat(axis=1) instead. To get a de-fragmented frame, use `newframe = frame.copy()`\n",
      "  features['EDFA_type'] = extractionType_local\n"
     ]
    },
    {
     "name": "stdout",
     "output_type": "stream",
     "text": [
      "Processed ../dataset/COSMOS_EDFA_Dataset/preamp/15dB/extraLow/edfa_meas_rdm3-co1.bed_preamp_2022.07.13.23.57.55.json, extractionType: preamp, channelType: extraLow, edfa_name: rdm3-co1, edfa_index: 2, rows: 568\n"
     ]
    },
    {
     "name": "stderr",
     "output_type": "stream",
     "text": [
      "C:\\Users\\mh756\\AppData\\Local\\Temp\\ipykernel_22460\\75894833.py:78: PerformanceWarning: DataFrame is highly fragmented.  This is usually the result of calling `frame.insert` many times, which has poor performance.  Consider joining all columns at once using pd.concat(axis=1) instead. To get a de-fragmented frame, use `newframe = frame.copy()`\n",
      "  features['edfa_index'] = edfa_name_to_index.get(edfa_name, -1)\n",
      "C:\\Users\\mh756\\AppData\\Local\\Temp\\ipykernel_22460\\75894833.py:79: PerformanceWarning: DataFrame is highly fragmented.  This is usually the result of calling `frame.insert` many times, which has poor performance.  Consider joining all columns at once using pd.concat(axis=1) instead. To get a de-fragmented frame, use `newframe = frame.copy()`\n",
      "  features['EDFA_type'] = extractionType_local\n"
     ]
    },
    {
     "name": "stdout",
     "output_type": "stream",
     "text": [
      "Processed ../dataset/COSMOS_EDFA_Dataset/preamp/18dB/extraLow/edfa_meas_rdm3-co1.bed_preamp_2022.02.22.22.59.43.json, extractionType: preamp, channelType: extraLow, edfa_name: rdm3-co1, edfa_index: 2, rows: 568\n"
     ]
    },
    {
     "name": "stderr",
     "output_type": "stream",
     "text": [
      "C:\\Users\\mh756\\AppData\\Local\\Temp\\ipykernel_22460\\75894833.py:78: PerformanceWarning: DataFrame is highly fragmented.  This is usually the result of calling `frame.insert` many times, which has poor performance.  Consider joining all columns at once using pd.concat(axis=1) instead. To get a de-fragmented frame, use `newframe = frame.copy()`\n",
      "  features['edfa_index'] = edfa_name_to_index.get(edfa_name, -1)\n",
      "C:\\Users\\mh756\\AppData\\Local\\Temp\\ipykernel_22460\\75894833.py:79: PerformanceWarning: DataFrame is highly fragmented.  This is usually the result of calling `frame.insert` many times, which has poor performance.  Consider joining all columns at once using pd.concat(axis=1) instead. To get a de-fragmented frame, use `newframe = frame.copy()`\n",
      "  features['EDFA_type'] = extractionType_local\n"
     ]
    },
    {
     "name": "stdout",
     "output_type": "stream",
     "text": [
      "Processed ../dataset/COSMOS_EDFA_Dataset/preamp/21dB/extraLow/edfa_meas_rdm3-co1.bed_preamp_2022.05.27.23.03.42.json, extractionType: preamp, channelType: extraLow, edfa_name: rdm3-co1, edfa_index: 2, rows: 568\n"
     ]
    },
    {
     "name": "stderr",
     "output_type": "stream",
     "text": [
      "C:\\Users\\mh756\\AppData\\Local\\Temp\\ipykernel_22460\\75894833.py:78: PerformanceWarning: DataFrame is highly fragmented.  This is usually the result of calling `frame.insert` many times, which has poor performance.  Consider joining all columns at once using pd.concat(axis=1) instead. To get a de-fragmented frame, use `newframe = frame.copy()`\n",
      "  features['edfa_index'] = edfa_name_to_index.get(edfa_name, -1)\n",
      "C:\\Users\\mh756\\AppData\\Local\\Temp\\ipykernel_22460\\75894833.py:79: PerformanceWarning: DataFrame is highly fragmented.  This is usually the result of calling `frame.insert` many times, which has poor performance.  Consider joining all columns at once using pd.concat(axis=1) instead. To get a de-fragmented frame, use `newframe = frame.copy()`\n",
      "  features['EDFA_type'] = extractionType_local\n"
     ]
    },
    {
     "name": "stdout",
     "output_type": "stream",
     "text": [
      "Processed ../dataset/COSMOS_EDFA_Dataset/preamp/15dB/fix/edfa_meas_rdm4-co1.bed_preamp_2022.07.13.14.53.23.json, extractionType: preamp, channelType: fix, edfa_name: rdm4-co1, edfa_index: 3, rows: 280\n"
     ]
    },
    {
     "name": "stderr",
     "output_type": "stream",
     "text": [
      "C:\\Users\\mh756\\AppData\\Local\\Temp\\ipykernel_22460\\75894833.py:78: PerformanceWarning: DataFrame is highly fragmented.  This is usually the result of calling `frame.insert` many times, which has poor performance.  Consider joining all columns at once using pd.concat(axis=1) instead. To get a de-fragmented frame, use `newframe = frame.copy()`\n",
      "  features['edfa_index'] = edfa_name_to_index.get(edfa_name, -1)\n",
      "C:\\Users\\mh756\\AppData\\Local\\Temp\\ipykernel_22460\\75894833.py:79: PerformanceWarning: DataFrame is highly fragmented.  This is usually the result of calling `frame.insert` many times, which has poor performance.  Consider joining all columns at once using pd.concat(axis=1) instead. To get a de-fragmented frame, use `newframe = frame.copy()`\n",
      "  features['EDFA_type'] = extractionType_local\n"
     ]
    },
    {
     "name": "stdout",
     "output_type": "stream",
     "text": [
      "Processed ../dataset/COSMOS_EDFA_Dataset/preamp/18dB/fix/edfa_meas_rdm4-co1.bed_preamp_2022.02.19.04.04.57.json, extractionType: preamp, channelType: fix, edfa_name: rdm4-co1, edfa_index: 3, rows: 280\n"
     ]
    },
    {
     "name": "stderr",
     "output_type": "stream",
     "text": [
      "C:\\Users\\mh756\\AppData\\Local\\Temp\\ipykernel_22460\\75894833.py:78: PerformanceWarning: DataFrame is highly fragmented.  This is usually the result of calling `frame.insert` many times, which has poor performance.  Consider joining all columns at once using pd.concat(axis=1) instead. To get a de-fragmented frame, use `newframe = frame.copy()`\n",
      "  features['edfa_index'] = edfa_name_to_index.get(edfa_name, -1)\n",
      "C:\\Users\\mh756\\AppData\\Local\\Temp\\ipykernel_22460\\75894833.py:79: PerformanceWarning: DataFrame is highly fragmented.  This is usually the result of calling `frame.insert` many times, which has poor performance.  Consider joining all columns at once using pd.concat(axis=1) instead. To get a de-fragmented frame, use `newframe = frame.copy()`\n",
      "  features['EDFA_type'] = extractionType_local\n"
     ]
    },
    {
     "name": "stdout",
     "output_type": "stream",
     "text": [
      "Processed ../dataset/COSMOS_EDFA_Dataset/preamp/21dB/fix/edfa_meas_rdm4-co1.bed_preamp_2022.05.19.11.45.21.json, extractionType: preamp, channelType: fix, edfa_name: rdm4-co1, edfa_index: 3, rows: 280\n"
     ]
    },
    {
     "name": "stderr",
     "output_type": "stream",
     "text": [
      "C:\\Users\\mh756\\AppData\\Local\\Temp\\ipykernel_22460\\75894833.py:78: PerformanceWarning: DataFrame is highly fragmented.  This is usually the result of calling `frame.insert` many times, which has poor performance.  Consider joining all columns at once using pd.concat(axis=1) instead. To get a de-fragmented frame, use `newframe = frame.copy()`\n",
      "  features['edfa_index'] = edfa_name_to_index.get(edfa_name, -1)\n",
      "C:\\Users\\mh756\\AppData\\Local\\Temp\\ipykernel_22460\\75894833.py:79: PerformanceWarning: DataFrame is highly fragmented.  This is usually the result of calling `frame.insert` many times, which has poor performance.  Consider joining all columns at once using pd.concat(axis=1) instead. To get a de-fragmented frame, use `newframe = frame.copy()`\n",
      "  features['EDFA_type'] = extractionType_local\n"
     ]
    },
    {
     "name": "stdout",
     "output_type": "stream",
     "text": [
      "Processed ../dataset/COSMOS_EDFA_Dataset/preamp/15dB/random/edfa_meas_rdm4-co1.bed_preamp_2022.08.13.15.55.33.json, extractionType: preamp, channelType: random, edfa_name: rdm4-co1, edfa_index: 3, rows: 1100\n"
     ]
    },
    {
     "name": "stderr",
     "output_type": "stream",
     "text": [
      "C:\\Users\\mh756\\AppData\\Local\\Temp\\ipykernel_22460\\75894833.py:78: PerformanceWarning: DataFrame is highly fragmented.  This is usually the result of calling `frame.insert` many times, which has poor performance.  Consider joining all columns at once using pd.concat(axis=1) instead. To get a de-fragmented frame, use `newframe = frame.copy()`\n",
      "  features['edfa_index'] = edfa_name_to_index.get(edfa_name, -1)\n",
      "C:\\Users\\mh756\\AppData\\Local\\Temp\\ipykernel_22460\\75894833.py:79: PerformanceWarning: DataFrame is highly fragmented.  This is usually the result of calling `frame.insert` many times, which has poor performance.  Consider joining all columns at once using pd.concat(axis=1) instead. To get a de-fragmented frame, use `newframe = frame.copy()`\n",
      "  features['EDFA_type'] = extractionType_local\n"
     ]
    },
    {
     "name": "stdout",
     "output_type": "stream",
     "text": [
      "Processed ../dataset/COSMOS_EDFA_Dataset/preamp/18dB/random/edfa_meas_rdm4-co1.bed_preamp_2022.03.01.20.52.03.json, extractionType: preamp, channelType: random, edfa_name: rdm4-co1, edfa_index: 3, rows: 1100\n"
     ]
    },
    {
     "name": "stderr",
     "output_type": "stream",
     "text": [
      "C:\\Users\\mh756\\AppData\\Local\\Temp\\ipykernel_22460\\75894833.py:78: PerformanceWarning: DataFrame is highly fragmented.  This is usually the result of calling `frame.insert` many times, which has poor performance.  Consider joining all columns at once using pd.concat(axis=1) instead. To get a de-fragmented frame, use `newframe = frame.copy()`\n",
      "  features['edfa_index'] = edfa_name_to_index.get(edfa_name, -1)\n",
      "C:\\Users\\mh756\\AppData\\Local\\Temp\\ipykernel_22460\\75894833.py:79: PerformanceWarning: DataFrame is highly fragmented.  This is usually the result of calling `frame.insert` many times, which has poor performance.  Consider joining all columns at once using pd.concat(axis=1) instead. To get a de-fragmented frame, use `newframe = frame.copy()`\n",
      "  features['EDFA_type'] = extractionType_local\n"
     ]
    },
    {
     "name": "stdout",
     "output_type": "stream",
     "text": [
      "Processed ../dataset/COSMOS_EDFA_Dataset/preamp/21dB/random/edfa_meas_rdm4-co1.bed_preamp_2022.05.22.23.09.38.json, extractionType: preamp, channelType: random, edfa_name: rdm4-co1, edfa_index: 3, rows: 1100\n"
     ]
    },
    {
     "name": "stderr",
     "output_type": "stream",
     "text": [
      "C:\\Users\\mh756\\AppData\\Local\\Temp\\ipykernel_22460\\75894833.py:78: PerformanceWarning: DataFrame is highly fragmented.  This is usually the result of calling `frame.insert` many times, which has poor performance.  Consider joining all columns at once using pd.concat(axis=1) instead. To get a de-fragmented frame, use `newframe = frame.copy()`\n",
      "  features['edfa_index'] = edfa_name_to_index.get(edfa_name, -1)\n",
      "C:\\Users\\mh756\\AppData\\Local\\Temp\\ipykernel_22460\\75894833.py:79: PerformanceWarning: DataFrame is highly fragmented.  This is usually the result of calling `frame.insert` many times, which has poor performance.  Consider joining all columns at once using pd.concat(axis=1) instead. To get a de-fragmented frame, use `newframe = frame.copy()`\n",
      "  features['EDFA_type'] = extractionType_local\n"
     ]
    },
    {
     "name": "stdout",
     "output_type": "stream",
     "text": [
      "Processed ../dataset/COSMOS_EDFA_Dataset/preamp/15dB/extraRandom/edfa_meas_rdm4-co1.bed_preamp_2022.07.15.03.01.04.json, extractionType: preamp, channelType: extraRandom, edfa_name: rdm4-co1, edfa_index: 3, rows: 940\n"
     ]
    },
    {
     "name": "stderr",
     "output_type": "stream",
     "text": [
      "C:\\Users\\mh756\\AppData\\Local\\Temp\\ipykernel_22460\\75894833.py:78: PerformanceWarning: DataFrame is highly fragmented.  This is usually the result of calling `frame.insert` many times, which has poor performance.  Consider joining all columns at once using pd.concat(axis=1) instead. To get a de-fragmented frame, use `newframe = frame.copy()`\n",
      "  features['edfa_index'] = edfa_name_to_index.get(edfa_name, -1)\n",
      "C:\\Users\\mh756\\AppData\\Local\\Temp\\ipykernel_22460\\75894833.py:79: PerformanceWarning: DataFrame is highly fragmented.  This is usually the result of calling `frame.insert` many times, which has poor performance.  Consider joining all columns at once using pd.concat(axis=1) instead. To get a de-fragmented frame, use `newframe = frame.copy()`\n",
      "  features['EDFA_type'] = extractionType_local\n"
     ]
    },
    {
     "name": "stdout",
     "output_type": "stream",
     "text": [
      "Processed ../dataset/COSMOS_EDFA_Dataset/preamp/18dB/extraRandom/edfa_meas_rdm4-co1.bed_preamp_2022.03.08.22.45.13.json, extractionType: preamp, channelType: extraRandom, edfa_name: rdm4-co1, edfa_index: 3, rows: 940\n"
     ]
    },
    {
     "name": "stderr",
     "output_type": "stream",
     "text": [
      "C:\\Users\\mh756\\AppData\\Local\\Temp\\ipykernel_22460\\75894833.py:78: PerformanceWarning: DataFrame is highly fragmented.  This is usually the result of calling `frame.insert` many times, which has poor performance.  Consider joining all columns at once using pd.concat(axis=1) instead. To get a de-fragmented frame, use `newframe = frame.copy()`\n",
      "  features['edfa_index'] = edfa_name_to_index.get(edfa_name, -1)\n",
      "C:\\Users\\mh756\\AppData\\Local\\Temp\\ipykernel_22460\\75894833.py:79: PerformanceWarning: DataFrame is highly fragmented.  This is usually the result of calling `frame.insert` many times, which has poor performance.  Consider joining all columns at once using pd.concat(axis=1) instead. To get a de-fragmented frame, use `newframe = frame.copy()`\n",
      "  features['EDFA_type'] = extractionType_local\n"
     ]
    },
    {
     "name": "stdout",
     "output_type": "stream",
     "text": [
      "Processed ../dataset/COSMOS_EDFA_Dataset/preamp/21dB/extraRandom/edfa_meas_rdm4-co1.bed_preamp_2022.08.28.23.46.10.json, extractionType: preamp, channelType: extraRandom, edfa_name: rdm4-co1, edfa_index: 3, rows: 940\n"
     ]
    },
    {
     "name": "stderr",
     "output_type": "stream",
     "text": [
      "C:\\Users\\mh756\\AppData\\Local\\Temp\\ipykernel_22460\\75894833.py:78: PerformanceWarning: DataFrame is highly fragmented.  This is usually the result of calling `frame.insert` many times, which has poor performance.  Consider joining all columns at once using pd.concat(axis=1) instead. To get a de-fragmented frame, use `newframe = frame.copy()`\n",
      "  features['edfa_index'] = edfa_name_to_index.get(edfa_name, -1)\n",
      "C:\\Users\\mh756\\AppData\\Local\\Temp\\ipykernel_22460\\75894833.py:79: PerformanceWarning: DataFrame is highly fragmented.  This is usually the result of calling `frame.insert` many times, which has poor performance.  Consider joining all columns at once using pd.concat(axis=1) instead. To get a de-fragmented frame, use `newframe = frame.copy()`\n",
      "  features['EDFA_type'] = extractionType_local\n"
     ]
    },
    {
     "name": "stdout",
     "output_type": "stream",
     "text": [
      "Processed ../dataset/COSMOS_EDFA_Dataset/preamp/15dB/extraLow/edfa_meas_rdm4-co1.bed_preamp_2022.07.13.23.57.55.json, extractionType: preamp, channelType: extraLow, edfa_name: rdm4-co1, edfa_index: 3, rows: 568\n"
     ]
    },
    {
     "name": "stderr",
     "output_type": "stream",
     "text": [
      "C:\\Users\\mh756\\AppData\\Local\\Temp\\ipykernel_22460\\75894833.py:78: PerformanceWarning: DataFrame is highly fragmented.  This is usually the result of calling `frame.insert` many times, which has poor performance.  Consider joining all columns at once using pd.concat(axis=1) instead. To get a de-fragmented frame, use `newframe = frame.copy()`\n",
      "  features['edfa_index'] = edfa_name_to_index.get(edfa_name, -1)\n",
      "C:\\Users\\mh756\\AppData\\Local\\Temp\\ipykernel_22460\\75894833.py:79: PerformanceWarning: DataFrame is highly fragmented.  This is usually the result of calling `frame.insert` many times, which has poor performance.  Consider joining all columns at once using pd.concat(axis=1) instead. To get a de-fragmented frame, use `newframe = frame.copy()`\n",
      "  features['EDFA_type'] = extractionType_local\n"
     ]
    },
    {
     "name": "stdout",
     "output_type": "stream",
     "text": [
      "Processed ../dataset/COSMOS_EDFA_Dataset/preamp/18dB/extraLow/edfa_meas_rdm4-co1.bed_preamp_2022.02.23.23.22.20.json, extractionType: preamp, channelType: extraLow, edfa_name: rdm4-co1, edfa_index: 3, rows: 568\n"
     ]
    },
    {
     "name": "stderr",
     "output_type": "stream",
     "text": [
      "C:\\Users\\mh756\\AppData\\Local\\Temp\\ipykernel_22460\\75894833.py:78: PerformanceWarning: DataFrame is highly fragmented.  This is usually the result of calling `frame.insert` many times, which has poor performance.  Consider joining all columns at once using pd.concat(axis=1) instead. To get a de-fragmented frame, use `newframe = frame.copy()`\n",
      "  features['edfa_index'] = edfa_name_to_index.get(edfa_name, -1)\n",
      "C:\\Users\\mh756\\AppData\\Local\\Temp\\ipykernel_22460\\75894833.py:79: PerformanceWarning: DataFrame is highly fragmented.  This is usually the result of calling `frame.insert` many times, which has poor performance.  Consider joining all columns at once using pd.concat(axis=1) instead. To get a de-fragmented frame, use `newframe = frame.copy()`\n",
      "  features['EDFA_type'] = extractionType_local\n"
     ]
    },
    {
     "name": "stdout",
     "output_type": "stream",
     "text": [
      "Processed ../dataset/COSMOS_EDFA_Dataset/preamp/21dB/extraLow/edfa_meas_rdm4-co1.bed_preamp_2022.05.27.23.03.42.json, extractionType: preamp, channelType: extraLow, edfa_name: rdm4-co1, edfa_index: 3, rows: 568\n"
     ]
    },
    {
     "name": "stderr",
     "output_type": "stream",
     "text": [
      "C:\\Users\\mh756\\AppData\\Local\\Temp\\ipykernel_22460\\75894833.py:78: PerformanceWarning: DataFrame is highly fragmented.  This is usually the result of calling `frame.insert` many times, which has poor performance.  Consider joining all columns at once using pd.concat(axis=1) instead. To get a de-fragmented frame, use `newframe = frame.copy()`\n",
      "  features['edfa_index'] = edfa_name_to_index.get(edfa_name, -1)\n",
      "C:\\Users\\mh756\\AppData\\Local\\Temp\\ipykernel_22460\\75894833.py:79: PerformanceWarning: DataFrame is highly fragmented.  This is usually the result of calling `frame.insert` many times, which has poor performance.  Consider joining all columns at once using pd.concat(axis=1) instead. To get a de-fragmented frame, use `newframe = frame.copy()`\n",
      "  features['EDFA_type'] = extractionType_local\n"
     ]
    },
    {
     "name": "stdout",
     "output_type": "stream",
     "text": [
      "Processed ../dataset/COSMOS_EDFA_Dataset/preamp/15dB/fix/edfa_meas_rdm5-co1.bed_preamp_2022.07.22.18.46.40.json, extractionType: preamp, channelType: fix, edfa_name: rdm5-co1, edfa_index: 4, rows: 280\n"
     ]
    },
    {
     "name": "stderr",
     "output_type": "stream",
     "text": [
      "C:\\Users\\mh756\\AppData\\Local\\Temp\\ipykernel_22460\\75894833.py:78: PerformanceWarning: DataFrame is highly fragmented.  This is usually the result of calling `frame.insert` many times, which has poor performance.  Consider joining all columns at once using pd.concat(axis=1) instead. To get a de-fragmented frame, use `newframe = frame.copy()`\n",
      "  features['edfa_index'] = edfa_name_to_index.get(edfa_name, -1)\n",
      "C:\\Users\\mh756\\AppData\\Local\\Temp\\ipykernel_22460\\75894833.py:79: PerformanceWarning: DataFrame is highly fragmented.  This is usually the result of calling `frame.insert` many times, which has poor performance.  Consider joining all columns at once using pd.concat(axis=1) instead. To get a de-fragmented frame, use `newframe = frame.copy()`\n",
      "  features['EDFA_type'] = extractionType_local\n"
     ]
    },
    {
     "name": "stdout",
     "output_type": "stream",
     "text": [
      "Processed ../dataset/COSMOS_EDFA_Dataset/preamp/18dB/fix/edfa_meas_rdm5-co1.bed_preamp_2022.02.20.04.52.18.json, extractionType: preamp, channelType: fix, edfa_name: rdm5-co1, edfa_index: 4, rows: 280\n"
     ]
    },
    {
     "name": "stderr",
     "output_type": "stream",
     "text": [
      "C:\\Users\\mh756\\AppData\\Local\\Temp\\ipykernel_22460\\75894833.py:78: PerformanceWarning: DataFrame is highly fragmented.  This is usually the result of calling `frame.insert` many times, which has poor performance.  Consider joining all columns at once using pd.concat(axis=1) instead. To get a de-fragmented frame, use `newframe = frame.copy()`\n",
      "  features['edfa_index'] = edfa_name_to_index.get(edfa_name, -1)\n",
      "C:\\Users\\mh756\\AppData\\Local\\Temp\\ipykernel_22460\\75894833.py:79: PerformanceWarning: DataFrame is highly fragmented.  This is usually the result of calling `frame.insert` many times, which has poor performance.  Consider joining all columns at once using pd.concat(axis=1) instead. To get a de-fragmented frame, use `newframe = frame.copy()`\n",
      "  features['EDFA_type'] = extractionType_local\n"
     ]
    },
    {
     "name": "stdout",
     "output_type": "stream",
     "text": [
      "Processed ../dataset/COSMOS_EDFA_Dataset/preamp/21dB/fix/edfa_meas_rdm5-co1.bed_preamp_2022.05.20.13.40.58.json, extractionType: preamp, channelType: fix, edfa_name: rdm5-co1, edfa_index: 4, rows: 280\n"
     ]
    },
    {
     "name": "stderr",
     "output_type": "stream",
     "text": [
      "C:\\Users\\mh756\\AppData\\Local\\Temp\\ipykernel_22460\\75894833.py:78: PerformanceWarning: DataFrame is highly fragmented.  This is usually the result of calling `frame.insert` many times, which has poor performance.  Consider joining all columns at once using pd.concat(axis=1) instead. To get a de-fragmented frame, use `newframe = frame.copy()`\n",
      "  features['edfa_index'] = edfa_name_to_index.get(edfa_name, -1)\n",
      "C:\\Users\\mh756\\AppData\\Local\\Temp\\ipykernel_22460\\75894833.py:79: PerformanceWarning: DataFrame is highly fragmented.  This is usually the result of calling `frame.insert` many times, which has poor performance.  Consider joining all columns at once using pd.concat(axis=1) instead. To get a de-fragmented frame, use `newframe = frame.copy()`\n",
      "  features['EDFA_type'] = extractionType_local\n"
     ]
    },
    {
     "name": "stdout",
     "output_type": "stream",
     "text": [
      "Processed ../dataset/COSMOS_EDFA_Dataset/preamp/15dB/random/edfa_meas_rdm5-co1.bed_preamp_2022.07.20.06.04.42.json, extractionType: preamp, channelType: random, edfa_name: rdm5-co1, edfa_index: 4, rows: 1100\n"
     ]
    },
    {
     "name": "stderr",
     "output_type": "stream",
     "text": [
      "C:\\Users\\mh756\\AppData\\Local\\Temp\\ipykernel_22460\\75894833.py:78: PerformanceWarning: DataFrame is highly fragmented.  This is usually the result of calling `frame.insert` many times, which has poor performance.  Consider joining all columns at once using pd.concat(axis=1) instead. To get a de-fragmented frame, use `newframe = frame.copy()`\n",
      "  features['edfa_index'] = edfa_name_to_index.get(edfa_name, -1)\n",
      "C:\\Users\\mh756\\AppData\\Local\\Temp\\ipykernel_22460\\75894833.py:79: PerformanceWarning: DataFrame is highly fragmented.  This is usually the result of calling `frame.insert` many times, which has poor performance.  Consider joining all columns at once using pd.concat(axis=1) instead. To get a de-fragmented frame, use `newframe = frame.copy()`\n",
      "  features['EDFA_type'] = extractionType_local\n"
     ]
    },
    {
     "name": "stdout",
     "output_type": "stream",
     "text": [
      "Processed ../dataset/COSMOS_EDFA_Dataset/preamp/18dB/random/edfa_meas_rdm5-co1.bed_preamp_2022.03.03.15.38.54.json, extractionType: preamp, channelType: random, edfa_name: rdm5-co1, edfa_index: 4, rows: 1100\n"
     ]
    },
    {
     "name": "stderr",
     "output_type": "stream",
     "text": [
      "C:\\Users\\mh756\\AppData\\Local\\Temp\\ipykernel_22460\\75894833.py:78: PerformanceWarning: DataFrame is highly fragmented.  This is usually the result of calling `frame.insert` many times, which has poor performance.  Consider joining all columns at once using pd.concat(axis=1) instead. To get a de-fragmented frame, use `newframe = frame.copy()`\n",
      "  features['edfa_index'] = edfa_name_to_index.get(edfa_name, -1)\n",
      "C:\\Users\\mh756\\AppData\\Local\\Temp\\ipykernel_22460\\75894833.py:79: PerformanceWarning: DataFrame is highly fragmented.  This is usually the result of calling `frame.insert` many times, which has poor performance.  Consider joining all columns at once using pd.concat(axis=1) instead. To get a de-fragmented frame, use `newframe = frame.copy()`\n",
      "  features['EDFA_type'] = extractionType_local\n"
     ]
    },
    {
     "name": "stdout",
     "output_type": "stream",
     "text": [
      "Processed ../dataset/COSMOS_EDFA_Dataset/preamp/21dB/random/edfa_meas_rdm5-co1.bed_preamp_2022.05.23.23.01.43.json, extractionType: preamp, channelType: random, edfa_name: rdm5-co1, edfa_index: 4, rows: 1100\n"
     ]
    },
    {
     "name": "stderr",
     "output_type": "stream",
     "text": [
      "C:\\Users\\mh756\\AppData\\Local\\Temp\\ipykernel_22460\\75894833.py:78: PerformanceWarning: DataFrame is highly fragmented.  This is usually the result of calling `frame.insert` many times, which has poor performance.  Consider joining all columns at once using pd.concat(axis=1) instead. To get a de-fragmented frame, use `newframe = frame.copy()`\n",
      "  features['edfa_index'] = edfa_name_to_index.get(edfa_name, -1)\n",
      "C:\\Users\\mh756\\AppData\\Local\\Temp\\ipykernel_22460\\75894833.py:79: PerformanceWarning: DataFrame is highly fragmented.  This is usually the result of calling `frame.insert` many times, which has poor performance.  Consider joining all columns at once using pd.concat(axis=1) instead. To get a de-fragmented frame, use `newframe = frame.copy()`\n",
      "  features['EDFA_type'] = extractionType_local\n"
     ]
    },
    {
     "name": "stdout",
     "output_type": "stream",
     "text": [
      "Processed ../dataset/COSMOS_EDFA_Dataset/preamp/15dB/extraRandom/edfa_meas_rdm5-co1.bed_preamp_2022.07.20.23.58.02.json, extractionType: preamp, channelType: extraRandom, edfa_name: rdm5-co1, edfa_index: 4, rows: 940\n"
     ]
    },
    {
     "name": "stderr",
     "output_type": "stream",
     "text": [
      "C:\\Users\\mh756\\AppData\\Local\\Temp\\ipykernel_22460\\75894833.py:78: PerformanceWarning: DataFrame is highly fragmented.  This is usually the result of calling `frame.insert` many times, which has poor performance.  Consider joining all columns at once using pd.concat(axis=1) instead. To get a de-fragmented frame, use `newframe = frame.copy()`\n",
      "  features['edfa_index'] = edfa_name_to_index.get(edfa_name, -1)\n",
      "C:\\Users\\mh756\\AppData\\Local\\Temp\\ipykernel_22460\\75894833.py:79: PerformanceWarning: DataFrame is highly fragmented.  This is usually the result of calling `frame.insert` many times, which has poor performance.  Consider joining all columns at once using pd.concat(axis=1) instead. To get a de-fragmented frame, use `newframe = frame.copy()`\n",
      "  features['EDFA_type'] = extractionType_local\n"
     ]
    },
    {
     "name": "stdout",
     "output_type": "stream",
     "text": [
      "Processed ../dataset/COSMOS_EDFA_Dataset/preamp/18dB/extraRandom/edfa_meas_rdm5-co1.bed_preamp_2022.03.11.16.37.27.json, extractionType: preamp, channelType: extraRandom, edfa_name: rdm5-co1, edfa_index: 4, rows: 940\n"
     ]
    },
    {
     "name": "stderr",
     "output_type": "stream",
     "text": [
      "C:\\Users\\mh756\\AppData\\Local\\Temp\\ipykernel_22460\\75894833.py:78: PerformanceWarning: DataFrame is highly fragmented.  This is usually the result of calling `frame.insert` many times, which has poor performance.  Consider joining all columns at once using pd.concat(axis=1) instead. To get a de-fragmented frame, use `newframe = frame.copy()`\n",
      "  features['edfa_index'] = edfa_name_to_index.get(edfa_name, -1)\n",
      "C:\\Users\\mh756\\AppData\\Local\\Temp\\ipykernel_22460\\75894833.py:79: PerformanceWarning: DataFrame is highly fragmented.  This is usually the result of calling `frame.insert` many times, which has poor performance.  Consider joining all columns at once using pd.concat(axis=1) instead. To get a de-fragmented frame, use `newframe = frame.copy()`\n",
      "  features['EDFA_type'] = extractionType_local\n"
     ]
    },
    {
     "name": "stdout",
     "output_type": "stream",
     "text": [
      "Processed ../dataset/COSMOS_EDFA_Dataset/preamp/21dB/extraRandom/edfa_meas_rdm5-co1.bed_preamp_2022.06.01.08.43.55.json, extractionType: preamp, channelType: extraRandom, edfa_name: rdm5-co1, edfa_index: 4, rows: 940\n"
     ]
    },
    {
     "name": "stderr",
     "output_type": "stream",
     "text": [
      "C:\\Users\\mh756\\AppData\\Local\\Temp\\ipykernel_22460\\75894833.py:78: PerformanceWarning: DataFrame is highly fragmented.  This is usually the result of calling `frame.insert` many times, which has poor performance.  Consider joining all columns at once using pd.concat(axis=1) instead. To get a de-fragmented frame, use `newframe = frame.copy()`\n",
      "  features['edfa_index'] = edfa_name_to_index.get(edfa_name, -1)\n",
      "C:\\Users\\mh756\\AppData\\Local\\Temp\\ipykernel_22460\\75894833.py:79: PerformanceWarning: DataFrame is highly fragmented.  This is usually the result of calling `frame.insert` many times, which has poor performance.  Consider joining all columns at once using pd.concat(axis=1) instead. To get a de-fragmented frame, use `newframe = frame.copy()`\n",
      "  features['EDFA_type'] = extractionType_local\n"
     ]
    },
    {
     "name": "stdout",
     "output_type": "stream",
     "text": [
      "Processed ../dataset/COSMOS_EDFA_Dataset/preamp/15dB/extraLow/edfa_meas_rdm5-co1.bed_preamp_2022.07.19.20.59.19.json, extractionType: preamp, channelType: extraLow, edfa_name: rdm5-co1, edfa_index: 4, rows: 568\n"
     ]
    },
    {
     "name": "stderr",
     "output_type": "stream",
     "text": [
      "C:\\Users\\mh756\\AppData\\Local\\Temp\\ipykernel_22460\\75894833.py:78: PerformanceWarning: DataFrame is highly fragmented.  This is usually the result of calling `frame.insert` many times, which has poor performance.  Consider joining all columns at once using pd.concat(axis=1) instead. To get a de-fragmented frame, use `newframe = frame.copy()`\n",
      "  features['edfa_index'] = edfa_name_to_index.get(edfa_name, -1)\n",
      "C:\\Users\\mh756\\AppData\\Local\\Temp\\ipykernel_22460\\75894833.py:79: PerformanceWarning: DataFrame is highly fragmented.  This is usually the result of calling `frame.insert` many times, which has poor performance.  Consider joining all columns at once using pd.concat(axis=1) instead. To get a de-fragmented frame, use `newframe = frame.copy()`\n",
      "  features['EDFA_type'] = extractionType_local\n"
     ]
    },
    {
     "name": "stdout",
     "output_type": "stream",
     "text": [
      "Processed ../dataset/COSMOS_EDFA_Dataset/preamp/18dB/extraLow/edfa_meas_rdm5-co1.bed_preamp_2022.02.24.22.42.30.json, extractionType: preamp, channelType: extraLow, edfa_name: rdm5-co1, edfa_index: 4, rows: 568\n"
     ]
    },
    {
     "name": "stderr",
     "output_type": "stream",
     "text": [
      "C:\\Users\\mh756\\AppData\\Local\\Temp\\ipykernel_22460\\75894833.py:78: PerformanceWarning: DataFrame is highly fragmented.  This is usually the result of calling `frame.insert` many times, which has poor performance.  Consider joining all columns at once using pd.concat(axis=1) instead. To get a de-fragmented frame, use `newframe = frame.copy()`\n",
      "  features['edfa_index'] = edfa_name_to_index.get(edfa_name, -1)\n",
      "C:\\Users\\mh756\\AppData\\Local\\Temp\\ipykernel_22460\\75894833.py:79: PerformanceWarning: DataFrame is highly fragmented.  This is usually the result of calling `frame.insert` many times, which has poor performance.  Consider joining all columns at once using pd.concat(axis=1) instead. To get a de-fragmented frame, use `newframe = frame.copy()`\n",
      "  features['EDFA_type'] = extractionType_local\n"
     ]
    },
    {
     "name": "stdout",
     "output_type": "stream",
     "text": [
      "Processed ../dataset/COSMOS_EDFA_Dataset/preamp/21dB/extraLow/edfa_meas_rdm5-co1.bed_preamp_2022.05.28.08.06.12.json, extractionType: preamp, channelType: extraLow, edfa_name: rdm5-co1, edfa_index: 4, rows: 568\n"
     ]
    },
    {
     "name": "stderr",
     "output_type": "stream",
     "text": [
      "C:\\Users\\mh756\\AppData\\Local\\Temp\\ipykernel_22460\\75894833.py:78: PerformanceWarning: DataFrame is highly fragmented.  This is usually the result of calling `frame.insert` many times, which has poor performance.  Consider joining all columns at once using pd.concat(axis=1) instead. To get a de-fragmented frame, use `newframe = frame.copy()`\n",
      "  features['edfa_index'] = edfa_name_to_index.get(edfa_name, -1)\n",
      "C:\\Users\\mh756\\AppData\\Local\\Temp\\ipykernel_22460\\75894833.py:79: PerformanceWarning: DataFrame is highly fragmented.  This is usually the result of calling `frame.insert` many times, which has poor performance.  Consider joining all columns at once using pd.concat(axis=1) instead. To get a de-fragmented frame, use `newframe = frame.copy()`\n",
      "  features['EDFA_type'] = extractionType_local\n"
     ]
    },
    {
     "name": "stdout",
     "output_type": "stream",
     "text": [
      "Processed ../dataset/COSMOS_EDFA_Dataset/preamp/15dB/fix/edfa_meas_rdm6-co1.bed_preamp_2022.07.22.18.46.40.json, extractionType: preamp, channelType: fix, edfa_name: rdm6-co1, edfa_index: 5, rows: 280\n"
     ]
    },
    {
     "name": "stderr",
     "output_type": "stream",
     "text": [
      "C:\\Users\\mh756\\AppData\\Local\\Temp\\ipykernel_22460\\75894833.py:78: PerformanceWarning: DataFrame is highly fragmented.  This is usually the result of calling `frame.insert` many times, which has poor performance.  Consider joining all columns at once using pd.concat(axis=1) instead. To get a de-fragmented frame, use `newframe = frame.copy()`\n",
      "  features['edfa_index'] = edfa_name_to_index.get(edfa_name, -1)\n",
      "C:\\Users\\mh756\\AppData\\Local\\Temp\\ipykernel_22460\\75894833.py:79: PerformanceWarning: DataFrame is highly fragmented.  This is usually the result of calling `frame.insert` many times, which has poor performance.  Consider joining all columns at once using pd.concat(axis=1) instead. To get a de-fragmented frame, use `newframe = frame.copy()`\n",
      "  features['EDFA_type'] = extractionType_local\n"
     ]
    },
    {
     "name": "stdout",
     "output_type": "stream",
     "text": [
      "Processed ../dataset/COSMOS_EDFA_Dataset/preamp/18dB/fix/edfa_meas_rdm6-co1.bed_preamp_2022.02.19.21.37.14.json, extractionType: preamp, channelType: fix, edfa_name: rdm6-co1, edfa_index: 5, rows: 280\n"
     ]
    },
    {
     "name": "stderr",
     "output_type": "stream",
     "text": [
      "C:\\Users\\mh756\\AppData\\Local\\Temp\\ipykernel_22460\\75894833.py:78: PerformanceWarning: DataFrame is highly fragmented.  This is usually the result of calling `frame.insert` many times, which has poor performance.  Consider joining all columns at once using pd.concat(axis=1) instead. To get a de-fragmented frame, use `newframe = frame.copy()`\n",
      "  features['edfa_index'] = edfa_name_to_index.get(edfa_name, -1)\n",
      "C:\\Users\\mh756\\AppData\\Local\\Temp\\ipykernel_22460\\75894833.py:79: PerformanceWarning: DataFrame is highly fragmented.  This is usually the result of calling `frame.insert` many times, which has poor performance.  Consider joining all columns at once using pd.concat(axis=1) instead. To get a de-fragmented frame, use `newframe = frame.copy()`\n",
      "  features['EDFA_type'] = extractionType_local\n"
     ]
    },
    {
     "name": "stdout",
     "output_type": "stream",
     "text": [
      "Processed ../dataset/COSMOS_EDFA_Dataset/preamp/21dB/fix/edfa_meas_rdm6-co1.bed_preamp_2022.06.24.19.39.08.json, extractionType: preamp, channelType: fix, edfa_name: rdm6-co1, edfa_index: 5, rows: 280\n"
     ]
    },
    {
     "name": "stderr",
     "output_type": "stream",
     "text": [
      "C:\\Users\\mh756\\AppData\\Local\\Temp\\ipykernel_22460\\75894833.py:78: PerformanceWarning: DataFrame is highly fragmented.  This is usually the result of calling `frame.insert` many times, which has poor performance.  Consider joining all columns at once using pd.concat(axis=1) instead. To get a de-fragmented frame, use `newframe = frame.copy()`\n",
      "  features['edfa_index'] = edfa_name_to_index.get(edfa_name, -1)\n",
      "C:\\Users\\mh756\\AppData\\Local\\Temp\\ipykernel_22460\\75894833.py:79: PerformanceWarning: DataFrame is highly fragmented.  This is usually the result of calling `frame.insert` many times, which has poor performance.  Consider joining all columns at once using pd.concat(axis=1) instead. To get a de-fragmented frame, use `newframe = frame.copy()`\n",
      "  features['EDFA_type'] = extractionType_local\n"
     ]
    },
    {
     "name": "stdout",
     "output_type": "stream",
     "text": [
      "Processed ../dataset/COSMOS_EDFA_Dataset/preamp/15dB/random/edfa_meas_rdm6-co1.bed_preamp_2022.07.20.06.04.42.json, extractionType: preamp, channelType: random, edfa_name: rdm6-co1, edfa_index: 5, rows: 1100\n"
     ]
    },
    {
     "name": "stderr",
     "output_type": "stream",
     "text": [
      "C:\\Users\\mh756\\AppData\\Local\\Temp\\ipykernel_22460\\75894833.py:78: PerformanceWarning: DataFrame is highly fragmented.  This is usually the result of calling `frame.insert` many times, which has poor performance.  Consider joining all columns at once using pd.concat(axis=1) instead. To get a de-fragmented frame, use `newframe = frame.copy()`\n",
      "  features['edfa_index'] = edfa_name_to_index.get(edfa_name, -1)\n",
      "C:\\Users\\mh756\\AppData\\Local\\Temp\\ipykernel_22460\\75894833.py:79: PerformanceWarning: DataFrame is highly fragmented.  This is usually the result of calling `frame.insert` many times, which has poor performance.  Consider joining all columns at once using pd.concat(axis=1) instead. To get a de-fragmented frame, use `newframe = frame.copy()`\n",
      "  features['EDFA_type'] = extractionType_local\n"
     ]
    },
    {
     "name": "stdout",
     "output_type": "stream",
     "text": [
      "Processed ../dataset/COSMOS_EDFA_Dataset/preamp/18dB/random/edfa_meas_rdm6-co1.bed_preamp_2022.03.02.20.08.09.json, extractionType: preamp, channelType: random, edfa_name: rdm6-co1, edfa_index: 5, rows: 1100\n"
     ]
    },
    {
     "name": "stderr",
     "output_type": "stream",
     "text": [
      "C:\\Users\\mh756\\AppData\\Local\\Temp\\ipykernel_22460\\75894833.py:78: PerformanceWarning: DataFrame is highly fragmented.  This is usually the result of calling `frame.insert` many times, which has poor performance.  Consider joining all columns at once using pd.concat(axis=1) instead. To get a de-fragmented frame, use `newframe = frame.copy()`\n",
      "  features['edfa_index'] = edfa_name_to_index.get(edfa_name, -1)\n",
      "C:\\Users\\mh756\\AppData\\Local\\Temp\\ipykernel_22460\\75894833.py:79: PerformanceWarning: DataFrame is highly fragmented.  This is usually the result of calling `frame.insert` many times, which has poor performance.  Consider joining all columns at once using pd.concat(axis=1) instead. To get a de-fragmented frame, use `newframe = frame.copy()`\n",
      "  features['EDFA_type'] = extractionType_local\n"
     ]
    },
    {
     "name": "stdout",
     "output_type": "stream",
     "text": [
      "Processed ../dataset/COSMOS_EDFA_Dataset/preamp/21dB/random/edfa_meas_rdm6-co1.bed_preamp_2022.05.23.23.01.43.json, extractionType: preamp, channelType: random, edfa_name: rdm6-co1, edfa_index: 5, rows: 1100\n"
     ]
    },
    {
     "name": "stderr",
     "output_type": "stream",
     "text": [
      "C:\\Users\\mh756\\AppData\\Local\\Temp\\ipykernel_22460\\75894833.py:78: PerformanceWarning: DataFrame is highly fragmented.  This is usually the result of calling `frame.insert` many times, which has poor performance.  Consider joining all columns at once using pd.concat(axis=1) instead. To get a de-fragmented frame, use `newframe = frame.copy()`\n",
      "  features['edfa_index'] = edfa_name_to_index.get(edfa_name, -1)\n",
      "C:\\Users\\mh756\\AppData\\Local\\Temp\\ipykernel_22460\\75894833.py:79: PerformanceWarning: DataFrame is highly fragmented.  This is usually the result of calling `frame.insert` many times, which has poor performance.  Consider joining all columns at once using pd.concat(axis=1) instead. To get a de-fragmented frame, use `newframe = frame.copy()`\n",
      "  features['EDFA_type'] = extractionType_local\n"
     ]
    },
    {
     "name": "stdout",
     "output_type": "stream",
     "text": [
      "Processed ../dataset/COSMOS_EDFA_Dataset/preamp/15dB/extraRandom/edfa_meas_rdm6-co1.bed_preamp_2022.07.20.23.58.02.json, extractionType: preamp, channelType: extraRandom, edfa_name: rdm6-co1, edfa_index: 5, rows: 940\n"
     ]
    },
    {
     "name": "stderr",
     "output_type": "stream",
     "text": [
      "C:\\Users\\mh756\\AppData\\Local\\Temp\\ipykernel_22460\\75894833.py:78: PerformanceWarning: DataFrame is highly fragmented.  This is usually the result of calling `frame.insert` many times, which has poor performance.  Consider joining all columns at once using pd.concat(axis=1) instead. To get a de-fragmented frame, use `newframe = frame.copy()`\n",
      "  features['edfa_index'] = edfa_name_to_index.get(edfa_name, -1)\n",
      "C:\\Users\\mh756\\AppData\\Local\\Temp\\ipykernel_22460\\75894833.py:79: PerformanceWarning: DataFrame is highly fragmented.  This is usually the result of calling `frame.insert` many times, which has poor performance.  Consider joining all columns at once using pd.concat(axis=1) instead. To get a de-fragmented frame, use `newframe = frame.copy()`\n",
      "  features['EDFA_type'] = extractionType_local\n"
     ]
    },
    {
     "name": "stdout",
     "output_type": "stream",
     "text": [
      "Processed ../dataset/COSMOS_EDFA_Dataset/preamp/18dB/extraRandom/edfa_meas_rdm6-co1.bed_preamp_2022.03.10.22.09.48.json, extractionType: preamp, channelType: extraRandom, edfa_name: rdm6-co1, edfa_index: 5, rows: 940\n"
     ]
    },
    {
     "name": "stderr",
     "output_type": "stream",
     "text": [
      "C:\\Users\\mh756\\AppData\\Local\\Temp\\ipykernel_22460\\75894833.py:78: PerformanceWarning: DataFrame is highly fragmented.  This is usually the result of calling `frame.insert` many times, which has poor performance.  Consider joining all columns at once using pd.concat(axis=1) instead. To get a de-fragmented frame, use `newframe = frame.copy()`\n",
      "  features['edfa_index'] = edfa_name_to_index.get(edfa_name, -1)\n",
      "C:\\Users\\mh756\\AppData\\Local\\Temp\\ipykernel_22460\\75894833.py:79: PerformanceWarning: DataFrame is highly fragmented.  This is usually the result of calling `frame.insert` many times, which has poor performance.  Consider joining all columns at once using pd.concat(axis=1) instead. To get a de-fragmented frame, use `newframe = frame.copy()`\n",
      "  features['EDFA_type'] = extractionType_local\n"
     ]
    },
    {
     "name": "stdout",
     "output_type": "stream",
     "text": [
      "Processed ../dataset/COSMOS_EDFA_Dataset/preamp/21dB/extraRandom/edfa_meas_rdm6-co1.bed_preamp_2022.06.04.00.52.32.json, extractionType: preamp, channelType: extraRandom, edfa_name: rdm6-co1, edfa_index: 5, rows: 940\n"
     ]
    },
    {
     "name": "stderr",
     "output_type": "stream",
     "text": [
      "C:\\Users\\mh756\\AppData\\Local\\Temp\\ipykernel_22460\\75894833.py:78: PerformanceWarning: DataFrame is highly fragmented.  This is usually the result of calling `frame.insert` many times, which has poor performance.  Consider joining all columns at once using pd.concat(axis=1) instead. To get a de-fragmented frame, use `newframe = frame.copy()`\n",
      "  features['edfa_index'] = edfa_name_to_index.get(edfa_name, -1)\n",
      "C:\\Users\\mh756\\AppData\\Local\\Temp\\ipykernel_22460\\75894833.py:79: PerformanceWarning: DataFrame is highly fragmented.  This is usually the result of calling `frame.insert` many times, which has poor performance.  Consider joining all columns at once using pd.concat(axis=1) instead. To get a de-fragmented frame, use `newframe = frame.copy()`\n",
      "  features['EDFA_type'] = extractionType_local\n"
     ]
    },
    {
     "name": "stdout",
     "output_type": "stream",
     "text": [
      "Processed ../dataset/COSMOS_EDFA_Dataset/preamp/15dB/extraLow/edfa_meas_rdm6-co1.bed_preamp_2022.07.19.20.59.19.json, extractionType: preamp, channelType: extraLow, edfa_name: rdm6-co1, edfa_index: 5, rows: 568\n"
     ]
    },
    {
     "name": "stderr",
     "output_type": "stream",
     "text": [
      "C:\\Users\\mh756\\AppData\\Local\\Temp\\ipykernel_22460\\75894833.py:78: PerformanceWarning: DataFrame is highly fragmented.  This is usually the result of calling `frame.insert` many times, which has poor performance.  Consider joining all columns at once using pd.concat(axis=1) instead. To get a de-fragmented frame, use `newframe = frame.copy()`\n",
      "  features['edfa_index'] = edfa_name_to_index.get(edfa_name, -1)\n",
      "C:\\Users\\mh756\\AppData\\Local\\Temp\\ipykernel_22460\\75894833.py:79: PerformanceWarning: DataFrame is highly fragmented.  This is usually the result of calling `frame.insert` many times, which has poor performance.  Consider joining all columns at once using pd.concat(axis=1) instead. To get a de-fragmented frame, use `newframe = frame.copy()`\n",
      "  features['EDFA_type'] = extractionType_local\n"
     ]
    },
    {
     "name": "stdout",
     "output_type": "stream",
     "text": [
      "Processed ../dataset/COSMOS_EDFA_Dataset/preamp/18dB/extraLow/edfa_meas_rdm6-co1.bed_preamp_2022.02.24.15.15.43.json, extractionType: preamp, channelType: extraLow, edfa_name: rdm6-co1, edfa_index: 5, rows: 568\n"
     ]
    },
    {
     "name": "stderr",
     "output_type": "stream",
     "text": [
      "C:\\Users\\mh756\\AppData\\Local\\Temp\\ipykernel_22460\\75894833.py:78: PerformanceWarning: DataFrame is highly fragmented.  This is usually the result of calling `frame.insert` many times, which has poor performance.  Consider joining all columns at once using pd.concat(axis=1) instead. To get a de-fragmented frame, use `newframe = frame.copy()`\n",
      "  features['edfa_index'] = edfa_name_to_index.get(edfa_name, -1)\n",
      "C:\\Users\\mh756\\AppData\\Local\\Temp\\ipykernel_22460\\75894833.py:79: PerformanceWarning: DataFrame is highly fragmented.  This is usually the result of calling `frame.insert` many times, which has poor performance.  Consider joining all columns at once using pd.concat(axis=1) instead. To get a de-fragmented frame, use `newframe = frame.copy()`\n",
      "  features['EDFA_type'] = extractionType_local\n"
     ]
    },
    {
     "name": "stdout",
     "output_type": "stream",
     "text": [
      "Processed ../dataset/COSMOS_EDFA_Dataset/preamp/21dB/extraLow/edfa_meas_rdm6-co1.bed_preamp_2022.05.28.08.06.12.json, extractionType: preamp, channelType: extraLow, edfa_name: rdm6-co1, edfa_index: 5, rows: 568\n"
     ]
    },
    {
     "name": "stderr",
     "output_type": "stream",
     "text": [
      "C:\\Users\\mh756\\AppData\\Local\\Temp\\ipykernel_22460\\75894833.py:78: PerformanceWarning: DataFrame is highly fragmented.  This is usually the result of calling `frame.insert` many times, which has poor performance.  Consider joining all columns at once using pd.concat(axis=1) instead. To get a de-fragmented frame, use `newframe = frame.copy()`\n",
      "  features['edfa_index'] = edfa_name_to_index.get(edfa_name, -1)\n",
      "C:\\Users\\mh756\\AppData\\Local\\Temp\\ipykernel_22460\\75894833.py:79: PerformanceWarning: DataFrame is highly fragmented.  This is usually the result of calling `frame.insert` many times, which has poor performance.  Consider joining all columns at once using pd.concat(axis=1) instead. To get a de-fragmented frame, use `newframe = frame.copy()`\n",
      "  features['EDFA_type'] = extractionType_local\n"
     ]
    },
    {
     "name": "stdout",
     "output_type": "stream",
     "text": [
      "Processed ../dataset/COSMOS_EDFA_Dataset/preamp/15dB/fix/edfa_meas_rdm1-lg1.bed_preamp_2022.07.08.21.20.55.json, extractionType: preamp, channelType: fix, edfa_name: rdm1-lg1, edfa_index: 6, rows: 280\n"
     ]
    },
    {
     "name": "stderr",
     "output_type": "stream",
     "text": [
      "C:\\Users\\mh756\\AppData\\Local\\Temp\\ipykernel_22460\\75894833.py:78: PerformanceWarning: DataFrame is highly fragmented.  This is usually the result of calling `frame.insert` many times, which has poor performance.  Consider joining all columns at once using pd.concat(axis=1) instead. To get a de-fragmented frame, use `newframe = frame.copy()`\n",
      "  features['edfa_index'] = edfa_name_to_index.get(edfa_name, -1)\n",
      "C:\\Users\\mh756\\AppData\\Local\\Temp\\ipykernel_22460\\75894833.py:79: PerformanceWarning: DataFrame is highly fragmented.  This is usually the result of calling `frame.insert` many times, which has poor performance.  Consider joining all columns at once using pd.concat(axis=1) instead. To get a de-fragmented frame, use `newframe = frame.copy()`\n",
      "  features['EDFA_type'] = extractionType_local\n"
     ]
    },
    {
     "name": "stdout",
     "output_type": "stream",
     "text": [
      "Processed ../dataset/COSMOS_EDFA_Dataset/preamp/18dB/fix/edfa_meas_rdm1-lg1.bed_preamp_2022.02.17.11.44.37.json, extractionType: preamp, channelType: fix, edfa_name: rdm1-lg1, edfa_index: 6, rows: 280\n"
     ]
    },
    {
     "name": "stderr",
     "output_type": "stream",
     "text": [
      "C:\\Users\\mh756\\AppData\\Local\\Temp\\ipykernel_22460\\75894833.py:78: PerformanceWarning: DataFrame is highly fragmented.  This is usually the result of calling `frame.insert` many times, which has poor performance.  Consider joining all columns at once using pd.concat(axis=1) instead. To get a de-fragmented frame, use `newframe = frame.copy()`\n",
      "  features['edfa_index'] = edfa_name_to_index.get(edfa_name, -1)\n",
      "C:\\Users\\mh756\\AppData\\Local\\Temp\\ipykernel_22460\\75894833.py:79: PerformanceWarning: DataFrame is highly fragmented.  This is usually the result of calling `frame.insert` many times, which has poor performance.  Consider joining all columns at once using pd.concat(axis=1) instead. To get a de-fragmented frame, use `newframe = frame.copy()`\n",
      "  features['EDFA_type'] = extractionType_local\n"
     ]
    },
    {
     "name": "stdout",
     "output_type": "stream",
     "text": [
      "Processed ../dataset/COSMOS_EDFA_Dataset/preamp/21dB/fix/edfa_meas_rdm1-lg1.bed_preamp_2022.06.23.11.05.59.json, extractionType: preamp, channelType: fix, edfa_name: rdm1-lg1, edfa_index: 6, rows: 280\n"
     ]
    },
    {
     "name": "stderr",
     "output_type": "stream",
     "text": [
      "C:\\Users\\mh756\\AppData\\Local\\Temp\\ipykernel_22460\\75894833.py:78: PerformanceWarning: DataFrame is highly fragmented.  This is usually the result of calling `frame.insert` many times, which has poor performance.  Consider joining all columns at once using pd.concat(axis=1) instead. To get a de-fragmented frame, use `newframe = frame.copy()`\n",
      "  features['edfa_index'] = edfa_name_to_index.get(edfa_name, -1)\n",
      "C:\\Users\\mh756\\AppData\\Local\\Temp\\ipykernel_22460\\75894833.py:79: PerformanceWarning: DataFrame is highly fragmented.  This is usually the result of calling `frame.insert` many times, which has poor performance.  Consider joining all columns at once using pd.concat(axis=1) instead. To get a de-fragmented frame, use `newframe = frame.copy()`\n",
      "  features['EDFA_type'] = extractionType_local\n"
     ]
    },
    {
     "name": "stdout",
     "output_type": "stream",
     "text": [
      "Processed ../dataset/COSMOS_EDFA_Dataset/preamp/15dB/random/edfa_meas_rdm1-lg1.bed_preamp_2022.07.09.15.15.50.json, extractionType: preamp, channelType: random, edfa_name: rdm1-lg1, edfa_index: 6, rows: 1100\n"
     ]
    },
    {
     "name": "stderr",
     "output_type": "stream",
     "text": [
      "C:\\Users\\mh756\\AppData\\Local\\Temp\\ipykernel_22460\\75894833.py:78: PerformanceWarning: DataFrame is highly fragmented.  This is usually the result of calling `frame.insert` many times, which has poor performance.  Consider joining all columns at once using pd.concat(axis=1) instead. To get a de-fragmented frame, use `newframe = frame.copy()`\n",
      "  features['edfa_index'] = edfa_name_to_index.get(edfa_name, -1)\n",
      "C:\\Users\\mh756\\AppData\\Local\\Temp\\ipykernel_22460\\75894833.py:79: PerformanceWarning: DataFrame is highly fragmented.  This is usually the result of calling `frame.insert` many times, which has poor performance.  Consider joining all columns at once using pd.concat(axis=1) instead. To get a de-fragmented frame, use `newframe = frame.copy()`\n",
      "  features['EDFA_type'] = extractionType_local\n"
     ]
    },
    {
     "name": "stdout",
     "output_type": "stream",
     "text": [
      "Processed ../dataset/COSMOS_EDFA_Dataset/preamp/18dB/random/edfa_meas_rdm1-lg1.bed_preamp_2022.02.26.22.40.55.json, extractionType: preamp, channelType: random, edfa_name: rdm1-lg1, edfa_index: 6, rows: 1100\n"
     ]
    },
    {
     "name": "stderr",
     "output_type": "stream",
     "text": [
      "C:\\Users\\mh756\\AppData\\Local\\Temp\\ipykernel_22460\\75894833.py:78: PerformanceWarning: DataFrame is highly fragmented.  This is usually the result of calling `frame.insert` many times, which has poor performance.  Consider joining all columns at once using pd.concat(axis=1) instead. To get a de-fragmented frame, use `newframe = frame.copy()`\n",
      "  features['edfa_index'] = edfa_name_to_index.get(edfa_name, -1)\n",
      "C:\\Users\\mh756\\AppData\\Local\\Temp\\ipykernel_22460\\75894833.py:79: PerformanceWarning: DataFrame is highly fragmented.  This is usually the result of calling `frame.insert` many times, which has poor performance.  Consider joining all columns at once using pd.concat(axis=1) instead. To get a de-fragmented frame, use `newframe = frame.copy()`\n",
      "  features['EDFA_type'] = extractionType_local\n"
     ]
    },
    {
     "name": "stdout",
     "output_type": "stream",
     "text": [
      "Processed ../dataset/COSMOS_EDFA_Dataset/preamp/21dB/random/edfa_meas_rdm1-lg1.bed_preamp_2022.08.22.17.52.28.json, extractionType: preamp, channelType: random, edfa_name: rdm1-lg1, edfa_index: 6, rows: 1100\n"
     ]
    },
    {
     "name": "stderr",
     "output_type": "stream",
     "text": [
      "C:\\Users\\mh756\\AppData\\Local\\Temp\\ipykernel_22460\\75894833.py:78: PerformanceWarning: DataFrame is highly fragmented.  This is usually the result of calling `frame.insert` many times, which has poor performance.  Consider joining all columns at once using pd.concat(axis=1) instead. To get a de-fragmented frame, use `newframe = frame.copy()`\n",
      "  features['edfa_index'] = edfa_name_to_index.get(edfa_name, -1)\n",
      "C:\\Users\\mh756\\AppData\\Local\\Temp\\ipykernel_22460\\75894833.py:79: PerformanceWarning: DataFrame is highly fragmented.  This is usually the result of calling `frame.insert` many times, which has poor performance.  Consider joining all columns at once using pd.concat(axis=1) instead. To get a de-fragmented frame, use `newframe = frame.copy()`\n",
      "  features['EDFA_type'] = extractionType_local\n"
     ]
    },
    {
     "name": "stdout",
     "output_type": "stream",
     "text": [
      "Processed ../dataset/COSMOS_EDFA_Dataset/preamp/15dB/extraRandom/edfa_meas_rdm1-lg1.bed_preamp_2022.07.10.09.00.01.json, extractionType: preamp, channelType: extraRandom, edfa_name: rdm1-lg1, edfa_index: 6, rows: 940\n"
     ]
    },
    {
     "name": "stderr",
     "output_type": "stream",
     "text": [
      "C:\\Users\\mh756\\AppData\\Local\\Temp\\ipykernel_22460\\75894833.py:78: PerformanceWarning: DataFrame is highly fragmented.  This is usually the result of calling `frame.insert` many times, which has poor performance.  Consider joining all columns at once using pd.concat(axis=1) instead. To get a de-fragmented frame, use `newframe = frame.copy()`\n",
      "  features['edfa_index'] = edfa_name_to_index.get(edfa_name, -1)\n",
      "C:\\Users\\mh756\\AppData\\Local\\Temp\\ipykernel_22460\\75894833.py:79: PerformanceWarning: DataFrame is highly fragmented.  This is usually the result of calling `frame.insert` many times, which has poor performance.  Consider joining all columns at once using pd.concat(axis=1) instead. To get a de-fragmented frame, use `newframe = frame.copy()`\n",
      "  features['EDFA_type'] = extractionType_local\n"
     ]
    },
    {
     "name": "stdout",
     "output_type": "stream",
     "text": [
      "Processed ../dataset/COSMOS_EDFA_Dataset/preamp/18dB/extraRandom/edfa_meas_rdm1-lg1.bed_preamp_2022.03.06.18.54.42.json, extractionType: preamp, channelType: extraRandom, edfa_name: rdm1-lg1, edfa_index: 6, rows: 940\n"
     ]
    },
    {
     "name": "stderr",
     "output_type": "stream",
     "text": [
      "C:\\Users\\mh756\\AppData\\Local\\Temp\\ipykernel_22460\\75894833.py:78: PerformanceWarning: DataFrame is highly fragmented.  This is usually the result of calling `frame.insert` many times, which has poor performance.  Consider joining all columns at once using pd.concat(axis=1) instead. To get a de-fragmented frame, use `newframe = frame.copy()`\n",
      "  features['edfa_index'] = edfa_name_to_index.get(edfa_name, -1)\n",
      "C:\\Users\\mh756\\AppData\\Local\\Temp\\ipykernel_22460\\75894833.py:79: PerformanceWarning: DataFrame is highly fragmented.  This is usually the result of calling `frame.insert` many times, which has poor performance.  Consider joining all columns at once using pd.concat(axis=1) instead. To get a de-fragmented frame, use `newframe = frame.copy()`\n",
      "  features['EDFA_type'] = extractionType_local\n"
     ]
    },
    {
     "name": "stdout",
     "output_type": "stream",
     "text": [
      "Processed ../dataset/COSMOS_EDFA_Dataset/preamp/21dB/extraRandom/edfa_meas_rdm1-lg1.bed_preamp_2022.06.19.01.04.57.json, extractionType: preamp, channelType: extraRandom, edfa_name: rdm1-lg1, edfa_index: 6, rows: 940\n"
     ]
    },
    {
     "name": "stderr",
     "output_type": "stream",
     "text": [
      "C:\\Users\\mh756\\AppData\\Local\\Temp\\ipykernel_22460\\75894833.py:78: PerformanceWarning: DataFrame is highly fragmented.  This is usually the result of calling `frame.insert` many times, which has poor performance.  Consider joining all columns at once using pd.concat(axis=1) instead. To get a de-fragmented frame, use `newframe = frame.copy()`\n",
      "  features['edfa_index'] = edfa_name_to_index.get(edfa_name, -1)\n",
      "C:\\Users\\mh756\\AppData\\Local\\Temp\\ipykernel_22460\\75894833.py:79: PerformanceWarning: DataFrame is highly fragmented.  This is usually the result of calling `frame.insert` many times, which has poor performance.  Consider joining all columns at once using pd.concat(axis=1) instead. To get a de-fragmented frame, use `newframe = frame.copy()`\n",
      "  features['EDFA_type'] = extractionType_local\n"
     ]
    },
    {
     "name": "stdout",
     "output_type": "stream",
     "text": [
      "Processed ../dataset/COSMOS_EDFA_Dataset/preamp/15dB/extraLow/edfa_meas_rdm1-lg1.bed_preamp_2022.07.09.06.11.02.json, extractionType: preamp, channelType: extraLow, edfa_name: rdm1-lg1, edfa_index: 6, rows: 568\n"
     ]
    },
    {
     "name": "stderr",
     "output_type": "stream",
     "text": [
      "C:\\Users\\mh756\\AppData\\Local\\Temp\\ipykernel_22460\\75894833.py:78: PerformanceWarning: DataFrame is highly fragmented.  This is usually the result of calling `frame.insert` many times, which has poor performance.  Consider joining all columns at once using pd.concat(axis=1) instead. To get a de-fragmented frame, use `newframe = frame.copy()`\n",
      "  features['edfa_index'] = edfa_name_to_index.get(edfa_name, -1)\n",
      "C:\\Users\\mh756\\AppData\\Local\\Temp\\ipykernel_22460\\75894833.py:79: PerformanceWarning: DataFrame is highly fragmented.  This is usually the result of calling `frame.insert` many times, which has poor performance.  Consider joining all columns at once using pd.concat(axis=1) instead. To get a de-fragmented frame, use `newframe = frame.copy()`\n",
      "  features['EDFA_type'] = extractionType_local\n"
     ]
    },
    {
     "name": "stdout",
     "output_type": "stream",
     "text": [
      "Processed ../dataset/COSMOS_EDFA_Dataset/preamp/18dB/extraLow/edfa_meas_rdm1-lg1.bed_preamp_2022.02.21.19.39.39.json, extractionType: preamp, channelType: extraLow, edfa_name: rdm1-lg1, edfa_index: 6, rows: 568\n"
     ]
    },
    {
     "name": "stderr",
     "output_type": "stream",
     "text": [
      "C:\\Users\\mh756\\AppData\\Local\\Temp\\ipykernel_22460\\75894833.py:78: PerformanceWarning: DataFrame is highly fragmented.  This is usually the result of calling `frame.insert` many times, which has poor performance.  Consider joining all columns at once using pd.concat(axis=1) instead. To get a de-fragmented frame, use `newframe = frame.copy()`\n",
      "  features['edfa_index'] = edfa_name_to_index.get(edfa_name, -1)\n",
      "C:\\Users\\mh756\\AppData\\Local\\Temp\\ipykernel_22460\\75894833.py:79: PerformanceWarning: DataFrame is highly fragmented.  This is usually the result of calling `frame.insert` many times, which has poor performance.  Consider joining all columns at once using pd.concat(axis=1) instead. To get a de-fragmented frame, use `newframe = frame.copy()`\n",
      "  features['EDFA_type'] = extractionType_local\n"
     ]
    },
    {
     "name": "stdout",
     "output_type": "stream",
     "text": [
      "Processed ../dataset/COSMOS_EDFA_Dataset/preamp/21dB/extraLow/edfa_meas_rdm1-lg1.bed_preamp_2022.05.27.14.01.12.json, extractionType: preamp, channelType: extraLow, edfa_name: rdm1-lg1, edfa_index: 6, rows: 568\n"
     ]
    },
    {
     "name": "stderr",
     "output_type": "stream",
     "text": [
      "C:\\Users\\mh756\\AppData\\Local\\Temp\\ipykernel_22460\\75894833.py:78: PerformanceWarning: DataFrame is highly fragmented.  This is usually the result of calling `frame.insert` many times, which has poor performance.  Consider joining all columns at once using pd.concat(axis=1) instead. To get a de-fragmented frame, use `newframe = frame.copy()`\n",
      "  features['edfa_index'] = edfa_name_to_index.get(edfa_name, -1)\n",
      "C:\\Users\\mh756\\AppData\\Local\\Temp\\ipykernel_22460\\75894833.py:79: PerformanceWarning: DataFrame is highly fragmented.  This is usually the result of calling `frame.insert` many times, which has poor performance.  Consider joining all columns at once using pd.concat(axis=1) instead. To get a de-fragmented frame, use `newframe = frame.copy()`\n",
      "  features['EDFA_type'] = extractionType_local\n"
     ]
    },
    {
     "name": "stdout",
     "output_type": "stream",
     "text": [
      "Processed ../dataset/COSMOS_EDFA_Dataset/preamp/15dB/fix/edfa_meas_rdm2-lg1.bed_preamp_2022.07.08.21.20.55.json, extractionType: preamp, channelType: fix, edfa_name: rdm2-lg1, edfa_index: 7, rows: 280\n"
     ]
    },
    {
     "name": "stderr",
     "output_type": "stream",
     "text": [
      "C:\\Users\\mh756\\AppData\\Local\\Temp\\ipykernel_22460\\75894833.py:78: PerformanceWarning: DataFrame is highly fragmented.  This is usually the result of calling `frame.insert` many times, which has poor performance.  Consider joining all columns at once using pd.concat(axis=1) instead. To get a de-fragmented frame, use `newframe = frame.copy()`\n",
      "  features['edfa_index'] = edfa_name_to_index.get(edfa_name, -1)\n",
      "C:\\Users\\mh756\\AppData\\Local\\Temp\\ipykernel_22460\\75894833.py:79: PerformanceWarning: DataFrame is highly fragmented.  This is usually the result of calling `frame.insert` many times, which has poor performance.  Consider joining all columns at once using pd.concat(axis=1) instead. To get a de-fragmented frame, use `newframe = frame.copy()`\n",
      "  features['EDFA_type'] = extractionType_local\n"
     ]
    },
    {
     "name": "stdout",
     "output_type": "stream",
     "text": [
      "Processed ../dataset/COSMOS_EDFA_Dataset/preamp/18dB/fix/edfa_meas_rdm2-lg1.bed_preamp_2022.02.17.20.26.08.json, extractionType: preamp, channelType: fix, edfa_name: rdm2-lg1, edfa_index: 7, rows: 280\n"
     ]
    },
    {
     "name": "stderr",
     "output_type": "stream",
     "text": [
      "C:\\Users\\mh756\\AppData\\Local\\Temp\\ipykernel_22460\\75894833.py:78: PerformanceWarning: DataFrame is highly fragmented.  This is usually the result of calling `frame.insert` many times, which has poor performance.  Consider joining all columns at once using pd.concat(axis=1) instead. To get a de-fragmented frame, use `newframe = frame.copy()`\n",
      "  features['edfa_index'] = edfa_name_to_index.get(edfa_name, -1)\n",
      "C:\\Users\\mh756\\AppData\\Local\\Temp\\ipykernel_22460\\75894833.py:79: PerformanceWarning: DataFrame is highly fragmented.  This is usually the result of calling `frame.insert` many times, which has poor performance.  Consider joining all columns at once using pd.concat(axis=1) instead. To get a de-fragmented frame, use `newframe = frame.copy()`\n",
      "  features['EDFA_type'] = extractionType_local\n"
     ]
    },
    {
     "name": "stdout",
     "output_type": "stream",
     "text": [
      "Processed ../dataset/COSMOS_EDFA_Dataset/preamp/21dB/fix/edfa_meas_rdm2-lg1.bed_preamp_2022.08.13.00.06.22.json, extractionType: preamp, channelType: fix, edfa_name: rdm2-lg1, edfa_index: 7, rows: 280\n"
     ]
    },
    {
     "name": "stderr",
     "output_type": "stream",
     "text": [
      "C:\\Users\\mh756\\AppData\\Local\\Temp\\ipykernel_22460\\75894833.py:78: PerformanceWarning: DataFrame is highly fragmented.  This is usually the result of calling `frame.insert` many times, which has poor performance.  Consider joining all columns at once using pd.concat(axis=1) instead. To get a de-fragmented frame, use `newframe = frame.copy()`\n",
      "  features['edfa_index'] = edfa_name_to_index.get(edfa_name, -1)\n",
      "C:\\Users\\mh756\\AppData\\Local\\Temp\\ipykernel_22460\\75894833.py:79: PerformanceWarning: DataFrame is highly fragmented.  This is usually the result of calling `frame.insert` many times, which has poor performance.  Consider joining all columns at once using pd.concat(axis=1) instead. To get a de-fragmented frame, use `newframe = frame.copy()`\n",
      "  features['EDFA_type'] = extractionType_local\n"
     ]
    },
    {
     "name": "stdout",
     "output_type": "stream",
     "text": [
      "Processed ../dataset/COSMOS_EDFA_Dataset/preamp/15dB/random/edfa_meas_rdm2-lg1.bed_preamp_2022.07.09.15.15.50.json, extractionType: preamp, channelType: random, edfa_name: rdm2-lg1, edfa_index: 7, rows: 1100\n"
     ]
    },
    {
     "name": "stderr",
     "output_type": "stream",
     "text": [
      "C:\\Users\\mh756\\AppData\\Local\\Temp\\ipykernel_22460\\75894833.py:78: PerformanceWarning: DataFrame is highly fragmented.  This is usually the result of calling `frame.insert` many times, which has poor performance.  Consider joining all columns at once using pd.concat(axis=1) instead. To get a de-fragmented frame, use `newframe = frame.copy()`\n",
      "  features['edfa_index'] = edfa_name_to_index.get(edfa_name, -1)\n",
      "C:\\Users\\mh756\\AppData\\Local\\Temp\\ipykernel_22460\\75894833.py:79: PerformanceWarning: DataFrame is highly fragmented.  This is usually the result of calling `frame.insert` many times, which has poor performance.  Consider joining all columns at once using pd.concat(axis=1) instead. To get a de-fragmented frame, use `newframe = frame.copy()`\n",
      "  features['EDFA_type'] = extractionType_local\n"
     ]
    },
    {
     "name": "stdout",
     "output_type": "stream",
     "text": [
      "Processed ../dataset/COSMOS_EDFA_Dataset/preamp/18dB/random/edfa_meas_rdm2-lg1.bed_preamp_2022.02.27.13.12.54.json, extractionType: preamp, channelType: random, edfa_name: rdm2-lg1, edfa_index: 7, rows: 1100\n"
     ]
    },
    {
     "name": "stderr",
     "output_type": "stream",
     "text": [
      "C:\\Users\\mh756\\AppData\\Local\\Temp\\ipykernel_22460\\75894833.py:78: PerformanceWarning: DataFrame is highly fragmented.  This is usually the result of calling `frame.insert` many times, which has poor performance.  Consider joining all columns at once using pd.concat(axis=1) instead. To get a de-fragmented frame, use `newframe = frame.copy()`\n",
      "  features['edfa_index'] = edfa_name_to_index.get(edfa_name, -1)\n",
      "C:\\Users\\mh756\\AppData\\Local\\Temp\\ipykernel_22460\\75894833.py:79: PerformanceWarning: DataFrame is highly fragmented.  This is usually the result of calling `frame.insert` many times, which has poor performance.  Consider joining all columns at once using pd.concat(axis=1) instead. To get a de-fragmented frame, use `newframe = frame.copy()`\n",
      "  features['EDFA_type'] = extractionType_local\n"
     ]
    },
    {
     "name": "stdout",
     "output_type": "stream",
     "text": [
      "Processed ../dataset/COSMOS_EDFA_Dataset/preamp/21dB/random/edfa_meas_rdm2-lg1.bed_preamp_2022.05.21.22.11.37.json, extractionType: preamp, channelType: random, edfa_name: rdm2-lg1, edfa_index: 7, rows: 1100\n"
     ]
    },
    {
     "name": "stderr",
     "output_type": "stream",
     "text": [
      "C:\\Users\\mh756\\AppData\\Local\\Temp\\ipykernel_22460\\75894833.py:78: PerformanceWarning: DataFrame is highly fragmented.  This is usually the result of calling `frame.insert` many times, which has poor performance.  Consider joining all columns at once using pd.concat(axis=1) instead. To get a de-fragmented frame, use `newframe = frame.copy()`\n",
      "  features['edfa_index'] = edfa_name_to_index.get(edfa_name, -1)\n",
      "C:\\Users\\mh756\\AppData\\Local\\Temp\\ipykernel_22460\\75894833.py:79: PerformanceWarning: DataFrame is highly fragmented.  This is usually the result of calling `frame.insert` many times, which has poor performance.  Consider joining all columns at once using pd.concat(axis=1) instead. To get a de-fragmented frame, use `newframe = frame.copy()`\n",
      "  features['EDFA_type'] = extractionType_local\n"
     ]
    },
    {
     "name": "stdout",
     "output_type": "stream",
     "text": [
      "Processed ../dataset/COSMOS_EDFA_Dataset/preamp/15dB/extraRandom/edfa_meas_rdm2-lg1.bed_preamp_2022.07.10.09.00.01.json, extractionType: preamp, channelType: extraRandom, edfa_name: rdm2-lg1, edfa_index: 7, rows: 940\n"
     ]
    },
    {
     "name": "stderr",
     "output_type": "stream",
     "text": [
      "C:\\Users\\mh756\\AppData\\Local\\Temp\\ipykernel_22460\\75894833.py:78: PerformanceWarning: DataFrame is highly fragmented.  This is usually the result of calling `frame.insert` many times, which has poor performance.  Consider joining all columns at once using pd.concat(axis=1) instead. To get a de-fragmented frame, use `newframe = frame.copy()`\n",
      "  features['edfa_index'] = edfa_name_to_index.get(edfa_name, -1)\n",
      "C:\\Users\\mh756\\AppData\\Local\\Temp\\ipykernel_22460\\75894833.py:79: PerformanceWarning: DataFrame is highly fragmented.  This is usually the result of calling `frame.insert` many times, which has poor performance.  Consider joining all columns at once using pd.concat(axis=1) instead. To get a de-fragmented frame, use `newframe = frame.copy()`\n",
      "  features['EDFA_type'] = extractionType_local\n"
     ]
    },
    {
     "name": "stdout",
     "output_type": "stream",
     "text": [
      "Processed ../dataset/COSMOS_EDFA_Dataset/preamp/18dB/extraRandom/edfa_meas_rdm2-lg1.bed_preamp_2022.03.06.04.47.35.json, extractionType: preamp, channelType: extraRandom, edfa_name: rdm2-lg1, edfa_index: 7, rows: 940\n"
     ]
    },
    {
     "name": "stderr",
     "output_type": "stream",
     "text": [
      "C:\\Users\\mh756\\AppData\\Local\\Temp\\ipykernel_22460\\75894833.py:78: PerformanceWarning: DataFrame is highly fragmented.  This is usually the result of calling `frame.insert` many times, which has poor performance.  Consider joining all columns at once using pd.concat(axis=1) instead. To get a de-fragmented frame, use `newframe = frame.copy()`\n",
      "  features['edfa_index'] = edfa_name_to_index.get(edfa_name, -1)\n",
      "C:\\Users\\mh756\\AppData\\Local\\Temp\\ipykernel_22460\\75894833.py:79: PerformanceWarning: DataFrame is highly fragmented.  This is usually the result of calling `frame.insert` many times, which has poor performance.  Consider joining all columns at once using pd.concat(axis=1) instead. To get a de-fragmented frame, use `newframe = frame.copy()`\n",
      "  features['EDFA_type'] = extractionType_local\n"
     ]
    },
    {
     "name": "stdout",
     "output_type": "stream",
     "text": [
      "Processed ../dataset/COSMOS_EDFA_Dataset/preamp/21dB/extraRandom/edfa_meas_rdm2-lg1.bed_preamp_2022.08.24.13.55.10.json, extractionType: preamp, channelType: extraRandom, edfa_name: rdm2-lg1, edfa_index: 7, rows: 940\n"
     ]
    },
    {
     "name": "stderr",
     "output_type": "stream",
     "text": [
      "C:\\Users\\mh756\\AppData\\Local\\Temp\\ipykernel_22460\\75894833.py:78: PerformanceWarning: DataFrame is highly fragmented.  This is usually the result of calling `frame.insert` many times, which has poor performance.  Consider joining all columns at once using pd.concat(axis=1) instead. To get a de-fragmented frame, use `newframe = frame.copy()`\n",
      "  features['edfa_index'] = edfa_name_to_index.get(edfa_name, -1)\n",
      "C:\\Users\\mh756\\AppData\\Local\\Temp\\ipykernel_22460\\75894833.py:79: PerformanceWarning: DataFrame is highly fragmented.  This is usually the result of calling `frame.insert` many times, which has poor performance.  Consider joining all columns at once using pd.concat(axis=1) instead. To get a de-fragmented frame, use `newframe = frame.copy()`\n",
      "  features['EDFA_type'] = extractionType_local\n"
     ]
    },
    {
     "name": "stdout",
     "output_type": "stream",
     "text": [
      "Processed ../dataset/COSMOS_EDFA_Dataset/preamp/15dB/extraLow/edfa_meas_rdm2-lg1.bed_preamp_2022.07.09.06.11.03.json, extractionType: preamp, channelType: extraLow, edfa_name: rdm2-lg1, edfa_index: 7, rows: 568\n"
     ]
    },
    {
     "name": "stderr",
     "output_type": "stream",
     "text": [
      "C:\\Users\\mh756\\AppData\\Local\\Temp\\ipykernel_22460\\75894833.py:78: PerformanceWarning: DataFrame is highly fragmented.  This is usually the result of calling `frame.insert` many times, which has poor performance.  Consider joining all columns at once using pd.concat(axis=1) instead. To get a de-fragmented frame, use `newframe = frame.copy()`\n",
      "  features['edfa_index'] = edfa_name_to_index.get(edfa_name, -1)\n",
      "C:\\Users\\mh756\\AppData\\Local\\Temp\\ipykernel_22460\\75894833.py:79: PerformanceWarning: DataFrame is highly fragmented.  This is usually the result of calling `frame.insert` many times, which has poor performance.  Consider joining all columns at once using pd.concat(axis=1) instead. To get a de-fragmented frame, use `newframe = frame.copy()`\n",
      "  features['EDFA_type'] = extractionType_local\n"
     ]
    },
    {
     "name": "stdout",
     "output_type": "stream",
     "text": [
      "Processed ../dataset/COSMOS_EDFA_Dataset/preamp/18dB/extraLow/edfa_meas_rdm2-lg1.bed_preamp_2022.02.22.03.05.55.json, extractionType: preamp, channelType: extraLow, edfa_name: rdm2-lg1, edfa_index: 7, rows: 568\n"
     ]
    },
    {
     "name": "stderr",
     "output_type": "stream",
     "text": [
      "C:\\Users\\mh756\\AppData\\Local\\Temp\\ipykernel_22460\\75894833.py:78: PerformanceWarning: DataFrame is highly fragmented.  This is usually the result of calling `frame.insert` many times, which has poor performance.  Consider joining all columns at once using pd.concat(axis=1) instead. To get a de-fragmented frame, use `newframe = frame.copy()`\n",
      "  features['edfa_index'] = edfa_name_to_index.get(edfa_name, -1)\n",
      "C:\\Users\\mh756\\AppData\\Local\\Temp\\ipykernel_22460\\75894833.py:79: PerformanceWarning: DataFrame is highly fragmented.  This is usually the result of calling `frame.insert` many times, which has poor performance.  Consider joining all columns at once using pd.concat(axis=1) instead. To get a de-fragmented frame, use `newframe = frame.copy()`\n",
      "  features['EDFA_type'] = extractionType_local\n"
     ]
    },
    {
     "name": "stdout",
     "output_type": "stream",
     "text": [
      "Processed ../dataset/COSMOS_EDFA_Dataset/preamp/21dB/extraLow/edfa_meas_rdm2-lg1.bed_preamp_2022.05.27.14.01.12.json, extractionType: preamp, channelType: extraLow, edfa_name: rdm2-lg1, edfa_index: 7, rows: 568\n"
     ]
    }
   ],
   "source": [
    "import os, json,fnmatch\n",
    "import pandas as pd\n",
    "from libs.edfa_feature_extraction_libs import featureExtraction_ML\n",
    "\n",
    "data_prepath = '../dataset/COSMOS_EDFA_Dataset/'\n",
    "output_csv_aging_train = '../Features/Train/COSMOS/COSMOS_features.csv'\n",
    "\n",
    "# ---- HARDCODED MAPPING ----\n",
    "edfa_name_to_index = {\n",
    "    'rdm1-co1': 0,\n",
    "    'rdm2-co1': 1,\n",
    "    'rdm3-co1': 2,\n",
    "    'rdm4-co1': 3,\n",
    "    'rdm5-co1': 4,\n",
    "    'rdm6-co1': 5,\n",
    "    'rdm1-lg1': 6,\n",
    "    'rdm2-lg1': 7\n",
    "}\n",
    "print(\"EDFA name to index mapping (hardcoded):\")\n",
    "for name, idx in edfa_name_to_index.items():\n",
    "    print(f\"  {name}: {idx}\")\n",
    "\n",
    "fileList = ['rdm1-co1', 'rdm2-co1', 'rdm3-co1', 'rdm4-co1',\n",
    "            'rdm5-co1', 'rdm6-co1', 'rdm1-lg1', 'rdm2-lg1']\n",
    "folderList = ['fix', 'random', 'extraRandom', 'extraLow']\n",
    "edfaTypes = [\"booster\",\"preamp\"]\n",
    "gainList = [\"15dB\",\"18dB\",\"21dB\"]\n",
    "\n",
    "def matchFile(pattern, foler):\n",
    "    # match one file in the folder\n",
    "    # example usage:\n",
    "    # result = matchFile('*rdm1-co1*.json', '.../benchmark/extraRandom/')\n",
    "    # result is the full path \n",
    "    for file in os.listdir(foler):\n",
    "        if fnmatch.fnmatch(file, pattern):\n",
    "            return os.path.join(foler, file)\n",
    "            \n",
    "def extract_features_from_dir(data_dir, featureType,edfaType):\n",
    "    all_features = pd.DataFrame()\n",
    "    for fileName in fileList:\n",
    "        for channelType in folderList:\n",
    "            for gain in gainList:\n",
    "                filePath = data_prepath + edfaType + \"/\" + gain + \"/\" + channelType + \"/\"\n",
    "                fname = matchFile('*'+fileName+'*.json', filePath)\n",
    "                # file_path = os.path.join(data_dir, fname)\n",
    "                with open(fname, 'r') as f:\n",
    "                    data = json.load(f)\n",
    "                if 'measurement_data' not in data or not data['measurement_data']:\n",
    "                    print(f\"Skipping {fname}: no measurement_data\")\n",
    "                    continue\n",
    "\n",
    "                # Infer extractionType\n",
    "                if 'preamp' in fname:\n",
    "                    extractionType_local = 'preamp'\n",
    "                elif 'booster' in fname:\n",
    "                    extractionType_local = 'booster'\n",
    "                else:\n",
    "                    print(f\"Skipping {fname}: cannot determine extractionType\")\n",
    "                    continue\n",
    "\n",
    "                # Infer edfa_name\n",
    "                edfa_name = fileName\n",
    "                # if 'preamp_' in fname:\n",
    "                #     edfa_name = fname.split('preamp_')[1].split('_')[0]\n",
    "                # elif 'booster_' in fname:\n",
    "                #     edfa_name = fname.split('booster_')[1].split('_')[0]\n",
    "                # else:\n",
    "                #     edfa_name = fname.split('_')[1] if len(fname.split('_')) > 1 else fname\n",
    "\n",
    "                features = featureExtraction_ML(\n",
    "                    data['measurement_data'],\n",
    "                    extractionType=extractionType_local,\n",
    "                    channelType=channelType,\n",
    "                    featureType=featureType,\n",
    "                    channelNum=data['measurement_setup'].get('roadm_wss_num_channel', 95)\n",
    "                )\n",
    "\n",
    "                features['edfa_index'] = edfa_name_to_index.get(edfa_name, -1)\n",
    "                features['EDFA_type'] = extractionType_local\n",
    "                # Move edfa_index to the first column\n",
    "                cols = features.columns.tolist()\n",
    "                cols.insert(0, cols.pop(cols.index('EDFA_type')))\n",
    "                cols.insert(0, cols.pop(cols.index('edfa_index')))\n",
    "                features = features[cols]\n",
    "                all_features = pd.concat([all_features, features], ignore_index=True)\n",
    "                print(f\"Processed {fname}, extractionType: {extractionType_local}, channelType: {channelType}, edfa_name: {edfa_name}, edfa_index: {edfa_name_to_index.get(edfa_name, -1)}, rows: {len(features)}\")\n",
    "    return all_features\n",
    "\n",
    "combined_dfs = []\n",
    "# For aging train and test\n",
    "# edfaTypes = [\"preamp\"]\n",
    "for edfaType in edfaTypes: # \n",
    "    aging_train_features = extract_features_from_dir(\n",
    "        data_prepath, featureType='train', edfaType=edfaType\n",
    "    )\n",
    "    # aging_test_features = extract_features_from_dir(\n",
    "    #     aging_test_dir, featureType='test'\n",
    "    # )\n",
    "    # aging_testGround_features = extract_features_from_dir(\n",
    "    #     aging_testGround_dir, featureType='test_ground_truth'\n",
    "    # )   \n",
    "    # aging_train_features.to_csv(output_csv_aging_train.replace('COSMOS_', edfaType+\"_\"), index=False)\n",
    "    combined_dfs.append(aging_train_features)\n",
    "# aging_test_features.to_csv(output_csv_aging_test, index=False)\n",
    "# aging_testGround_features.to_csv(output_csv_aging_testGround, index=False)\n",
    "\n",
    "combined = pd.concat(combined_dfs, ignore_index=True)\n",
    "combined.to_csv(output_csv_aging_train, index=False)"
   ]
  },
  {
   "cell_type": "markdown",
   "id": "e7e9946f",
   "metadata": {},
   "source": [
    "split whole training files into train + test files "
   ]
  },
  {
   "cell_type": "code",
   "execution_count": 22,
   "id": "be8fc683",
   "metadata": {},
   "outputs": [
    {
     "name": "stdout",
     "output_type": "stream",
     "text": [
      "Processed preamp_random_features_train.csv: 196 features, 95 labels.\n",
      "Processed booster_fix_features_train.csv: 196 features, 95 labels.\n",
      "Processed preamp_random_features_train.csv: 196 features, 95 labels.\n",
      "Processed COSMOS_features.csv: 196 features, 95 labels.\n"
     ]
    }
   ],
   "source": [
    "import os\n",
    "import pandas as pd\n",
    "import numpy as np\n",
    "\n",
    "def split_csv_features_labels(input_folder, output_folder_features, output_folder_labels):\n",
    "    os.makedirs(output_folder_features, exist_ok=True)\n",
    "    os.makedirs(output_folder_labels, exist_ok=True)\n",
    "    for fname in os.listdir(input_folder):\n",
    "        if not fname.endswith('.csv'):\n",
    "            continue\n",
    "        fpath = os.path.join(input_folder, fname)\n",
    "        df = pd.read_csv(fpath)\n",
    "        # Columns containing 'gain' (case-insensitive)\n",
    "        # Find columns for WSS activated channel index and calculated gain spectra\n",
    "        wss_cols = [col for col in df.columns if 'dut_wss_activated_channel_index' in col.lower()]\n",
    "\n",
    "        label_cols = [col for col in df.columns if 'calculated_gain_spectra' in col.lower()]\n",
    "        feature_cols = [col for col in df.columns if col not in label_cols]\n",
    "        # Ensure the columns are sorted in the same order for elementwise multiplication\n",
    "        label_cols_sorted = sorted(label_cols)\n",
    "        wss_cols_sorted = sorted(wss_cols)\n",
    "        # Check that the number of label and wss columns match for elementwise multiplication\n",
    "        if len(label_cols_sorted) != len(wss_cols_sorted):\n",
    "            raise ValueError(f\"Number of label columns ({len(label_cols_sorted)}) does not match number of WSS columns ({len(wss_cols_sorted)}) in file {fname}\")\n",
    "        # Elementwise multiply the label columns by the WSS columns row-wise\n",
    "        \n",
    "        # Set label to np.nan where WSS is 0, keep label where WSS is 1\n",
    "        mask = df[wss_cols_sorted].values == 1\n",
    "        df[label_cols_sorted] = np.where(mask, df[label_cols_sorted].values, np.nan)\n",
    "        # Save\n",
    "        df[feature_cols].to_csv(os.path.join(output_folder_features, fname.replace('.csv', '_features.csv')), index=False)\n",
    "        df[label_cols_sorted].to_csv(os.path.join(output_folder_labels, fname.replace('.csv', '_labels.csv')), index=False)\n",
    "        print(f\"Processed {fname}: {len(feature_cols)} features, {len(label_cols)} labels.\")\n",
    "\n",
    "# All combinations for Train, shb, unseen, aging\n",
    "train_folders = [\n",
    "    ('../Features/Train/shb', '../Features/Train/shb/features', '../Features/Train/shb/labels'),\n",
    "    ('../Features/Train/unseen', '../Features/Train/unseen/features', '../Features/Train/unseen/labels'),\n",
    "    ('../Features/Train/aging', '../Features/Train/aging/features', '../Features/Train/aging/labels'),\n",
    "    ('../Features/Train/COSMOS', '../Features/Train/COSMOS/features', '../Features/Train/COSMOS/labels')\n",
    "]\n",
    "\n",
    "for input_folder, output_features, output_labels in train_folders:\n",
    "    if os.path.exists(input_folder):\n",
    "        split_csv_features_labels(input_folder, output_features, output_labels)\n",
    "    else:\n",
    "        print(f\"[WARNING] Input folder does not exist: {input_folder}\")\n"
   ]
  },
  {
   "cell_type": "code",
   "execution_count": 23,
   "id": "1f32968b",
   "metadata": {},
   "outputs": [
    {
     "name": "stdout",
     "output_type": "stream",
     "text": [
      "Moved ../Features/Test/shb\\preamp_random_features_test.csv -> ../Features/Test/shb/features\\preamp_random_features_test.csv\n",
      "Moved ../Features/Test/unseen\\booster_goalpost_random_features_test.csv -> ../Features/Test/unseen/features\\booster_goalpost_random_features_test.csv\n",
      "Moved ../Features/Test/aging\\preamp_random_features_test.csv -> ../Features/Test/aging/features\\preamp_random_features_test.csv\n"
     ]
    }
   ],
   "source": [
    "import os\n",
    "import shutil\n",
    "# Move all *_features.csv files from the first folder to the second folder for each tuple in folders\n",
    "\n",
    "test_move_folder = [ \n",
    "    ('../Features/Test/shb', '../Features/Test/shb/features'),\n",
    "    ('../Features/Test/unseen', '../Features/Test/unseen/features'),\n",
    "    ('../Features/Test/aging', '../Features/Test/aging/features'),\n",
    "]\n",
    "\n",
    "for src_folder, dst_folder in test_move_folder: \n",
    "    # os.makedirs(dst_folder, exist_ok=True)\n",
    "    for fname in os.listdir(src_folder):\n",
    "        if fname.endswith('.csv'):\n",
    "            # Rename to _features.csv if not already\n",
    "            if not fname.endswith('_features.csv'):\n",
    "                base, _ = os.path.splitext(fname)\n",
    "                new_fname = base + '_features.csv'\n",
    "            else:\n",
    "                new_fname = fname\n",
    "            src_path = os.path.join(src_folder, fname)\n",
    "            dst_path = os.path.join(dst_folder, fname)\n",
    "            shutil.move(src_path, dst_path)\n",
    "            print(f\"Moved {src_path} -> {dst_path}\")\n",
    "\n"
   ]
  },
  {
   "cell_type": "markdown",
   "id": "3665cbee",
   "metadata": {},
   "source": [
    "Combine all training and test set together and convert it into kaggle style"
   ]
  },
  {
   "cell_type": "code",
   "execution_count": null,
   "id": "599f5921",
   "metadata": {},
   "outputs": [
    {
     "name": "stdout",
     "output_type": "stream",
     "text": [
      "Combined CSV saved to ../Features/Train/train_features.csv with 859 rows.\n",
      "Combined CSV saved to ../Features/Train/train_labels.csv with 859 rows.\n",
      "Combined CSV saved to ../Features/Test/test_features.csv with 21456 rows.\n"
     ]
    }
   ],
   "source": [
    "import glob\n",
    "import os\n",
    "import pandas as pd\n",
    "\n",
    "def combine_csvs_with_id_usage(input_dirs, output_csv, add_id_usage=False, add_category=True):\n",
    "    \"\"\"\n",
    "    Combine CSVs from input_dirs, optionally add ID and Usage columns, \n",
    "    and save to output_csv.\n",
    "    \"\"\"\n",
    "    combined = []\n",
    "    for input_dir in input_dirs:\n",
    "        category = os.path.basename(os.path.dirname(input_dir))  # e.g. \"aging\", \"shb\", \"unseen\"\n",
    "        csv_files = sorted(glob.glob(os.path.join(input_dir, \"*.csv\")))\n",
    "        for csv_file in csv_files:\n",
    "            df = pd.read_csv(csv_file)\n",
    "            df.fillna(0, inplace=True)\n",
    "            n_rows = df.shape[0]\n",
    "\n",
    "            # Add optional ID & Usage\n",
    "            if add_id_usage:\n",
    "                half = n_rows // 2\n",
    "                usage_col = [\"Public\"] * half + [\"Private\"] * (n_rows - half)\n",
    "                df.insert(0, \"Usage\", usage_col)\n",
    "                if not hasattr(combine_csvs_with_id_usage, \"global_id_counter\"):\n",
    "                    combine_csvs_with_id_usage.global_id_counter = 1\n",
    "                start_id = combine_csvs_with_id_usage.global_id_counter\n",
    "                df.insert(0, \"ID\", list(range(start_id, start_id + n_rows)))\n",
    "                combine_csvs_with_id_usage.global_id_counter += n_rows\n",
    "\n",
    "            if add_category:\n",
    "                df.insert(2 if add_id_usage else 0, \"Category\", [category] * n_rows)\n",
    "                \n",
    "            combined.append(df)\n",
    "\n",
    "    if combined:\n",
    "        final_df = pd.concat(combined, ignore_index=True)\n",
    "        final_df.to_csv(output_csv, index=False)\n",
    "        print(f\"Combined CSV saved to {output_csv} with {final_df.shape[0]} rows.\")\n",
    "    else:\n",
    "        print(f\"No CSVs found in {input_dirs}\")\n",
    "\n",
    "    # Reset counter for next call\n",
    "    if hasattr(combine_csvs_with_id_usage, \"global_id_counter\"):\n",
    "        delattr(combine_csvs_with_id_usage, \"global_id_counter\")\n",
    "\n",
    "# Define input directories for features and labels\n",
    "# Combine feature directories for Train\n",
    "train_feature_dirs = [\n",
    "    '../Features/Train/aging/features',\n",
    "    '../Features/Train/shb/features',\n",
    "    '../Features/Train/unseen/features',\n",
    "    # '../Features/Train/COSMOS/features'\n",
    "]\n",
    "\n",
    "train_label_dirs = [\n",
    "    '../Features/Train/aging/labels',\n",
    "    '../Features/Train/shb/labels',\n",
    "    '../Features/Train/unseen/labels',\n",
    "    # '../Features/Train/COSMOS/labels'\n",
    "]\n",
    "\n",
    "# Combine features (all Usage = Public)\n",
    "combine_csvs_with_id_usage(\n",
    "    train_feature_dirs,\n",
    "    \"../Features/Train/train_features.csv\", \n",
    "\tadd_id_usage=False,\n",
    "    add_category=True\n",
    ")\n",
    "\n",
    "combine_csvs_with_id_usage(\n",
    "    train_label_dirs,\n",
    "    \"../Features/Train/train_labels.csv\",\n",
    "    add_id_usage=False,\n",
    "    add_category=False\n",
    ")\n",
    "\n",
    "test_feature_dirs = [\n",
    "    '../Features/Test/aging/features',\n",
    "    '../Features/Test/shb/features',\n",
    "    '../Features/Test/unseen/features'\n",
    "]\n",
    "\n",
    "combine_csvs_with_id_usage(\n",
    "    test_feature_dirs,\n",
    "    \"../Features/Test/test_features.csv\", \n",
    "\tadd_id_usage=True,\n",
    "    add_category=True\n",
    ")\n"
   ]
  },
  {
   "cell_type": "code",
   "execution_count": 25,
   "id": "d58474f4",
   "metadata": {},
   "outputs": [
    {
     "name": "stdout",
     "output_type": "stream",
     "text": [
      "Combined CSV saved to ../Features/Train/COSMOS_features.csv with 138624 rows.\n",
      "Combined CSV saved to ../Features/Train/COSMOS_labels.csv with 138624 rows.\n"
     ]
    }
   ],
   "source": [
    "COSMOS_feature_dirs = [\n",
    "    '../Features/Train/COSMOS/features'\n",
    "]\n",
    "\n",
    "COSMOS_label_dirs = [\n",
    "    '../Features/Train/COSMOS/labels'\n",
    "]\n",
    "\n",
    "combine_csvs_with_id_usage(\n",
    "    COSMOS_feature_dirs,\n",
    "    \"../Features/Train/COSMOS_features.csv\", \n",
    "\tadd_id_usage=False,\n",
    "    add_category=True\n",
    ")\n",
    "\n",
    "combine_csvs_with_id_usage(\n",
    "    COSMOS_label_dirs,\n",
    "    \"../Features/Train/COSMOS_labels.csv\",\n",
    "    add_id_usage=False,\n",
    "    add_category=False\n",
    ")"
   ]
  }
 ],
 "metadata": {
  "kernelspec": {
   "display_name": "tf_env",
   "language": "python",
   "name": "python3"
  },
  "language_info": {
   "codemirror_mode": {
    "name": "ipython",
    "version": 3
   },
   "file_extension": ".py",
   "mimetype": "text/x-python",
   "name": "python",
   "nbconvert_exporter": "python",
   "pygments_lexer": "ipython3",
   "version": "3.11.13"
  }
 },
 "nbformat": 4,
 "nbformat_minor": 5
}
